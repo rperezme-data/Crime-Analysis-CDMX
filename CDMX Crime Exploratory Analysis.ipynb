{
 "cells": [
  {
   "cell_type": "markdown",
   "id": "9e8c8ecd",
   "metadata": {},
   "source": [
    "# Mexico City's crime exploratory analysis"
   ]
  },
  {
   "cell_type": "code",
   "execution_count": 1,
   "id": "08794bcb",
   "metadata": {},
   "outputs": [],
   "source": [
    "## Dependencies\n",
    "import pandas as pd\n",
    "import matplotlib.pyplot as plt"
   ]
  },
  {
   "cell_type": "markdown",
   "id": "1b88949c",
   "metadata": {},
   "source": [
    "### A. Data collection"
   ]
  },
  {
   "cell_type": "code",
   "execution_count": 2,
   "id": "5c2b8857",
   "metadata": {},
   "outputs": [],
   "source": [
    "## Import data from FGJ open cases CSV file\n",
    "## Reference: https://datos.cdmx.gob.mx/dataset/carpetas-de-investigacion-fgj-de-la-ciudad-de-mexico/resource/48fcb848-220c-4af0-839b-4fd8ac812c0f\n",
    "FGJ_data = pd.read_csv('data/carpetas_completa_septiembre_2021.csv', low_memory=False)"
   ]
  },
  {
   "cell_type": "markdown",
   "id": "62a1a381",
   "metadata": {},
   "source": [
    "### B. Data exploration"
   ]
  },
  {
   "cell_type": "code",
   "execution_count": 3,
   "id": "e31352a8",
   "metadata": {},
   "outputs": [
    {
     "data": {
      "text/html": [
       "<div>\n",
       "<style scoped>\n",
       "    .dataframe tbody tr th:only-of-type {\n",
       "        vertical-align: middle;\n",
       "    }\n",
       "\n",
       "    .dataframe tbody tr th {\n",
       "        vertical-align: top;\n",
       "    }\n",
       "\n",
       "    .dataframe thead th {\n",
       "        text-align: right;\n",
       "    }\n",
       "</style>\n",
       "<table border=\"1\" class=\"dataframe\">\n",
       "  <thead>\n",
       "    <tr style=\"text-align: right;\">\n",
       "      <th></th>\n",
       "      <th>ao_hechos</th>\n",
       "      <th>mes_hechos</th>\n",
       "      <th>fecha_hechos</th>\n",
       "      <th>ao_inicio</th>\n",
       "      <th>mes_inicio</th>\n",
       "      <th>fecha_inicio</th>\n",
       "      <th>delito</th>\n",
       "      <th>fiscalia</th>\n",
       "      <th>agencia</th>\n",
       "      <th>unidad_investigacion</th>\n",
       "      <th>categoria_delito</th>\n",
       "      <th>calle_hechos</th>\n",
       "      <th>calle_hechos2</th>\n",
       "      <th>colonia_hechos</th>\n",
       "      <th>alcaldia_hechos</th>\n",
       "      <th>competencia</th>\n",
       "      <th>longitud</th>\n",
       "      <th>latitud</th>\n",
       "      <th>tempo</th>\n",
       "    </tr>\n",
       "  </thead>\n",
       "  <tbody>\n",
       "    <tr>\n",
       "      <th>0</th>\n",
       "      <td>2016.0</td>\n",
       "      <td>Enero</td>\n",
       "      <td>2016-01-31 22:16:00</td>\n",
       "      <td>2016</td>\n",
       "      <td>Febrero</td>\n",
       "      <td>2016-02-01 00:25:44</td>\n",
       "      <td>DAÑO EN PROPIEDAD AJENA INTENCIONAL</td>\n",
       "      <td>INVESTIGACIÓN EN BENITO JUÁREZ</td>\n",
       "      <td>BJ-2</td>\n",
       "      <td>UI-3CD</td>\n",
       "      <td>DELITO DE BAJO IMPACTO</td>\n",
       "      <td>CALZ. DE TLALPAN</td>\n",
       "      <td>LAGO PTE.</td>\n",
       "      <td>AMÉRICAS UNIDAS</td>\n",
       "      <td>BENITO JUAREZ</td>\n",
       "      <td>NaN</td>\n",
       "      <td>-99.140215</td>\n",
       "      <td>19.380315</td>\n",
       "      <td>NaN</td>\n",
       "    </tr>\n",
       "    <tr>\n",
       "      <th>1</th>\n",
       "      <td>2016.0</td>\n",
       "      <td>Enero</td>\n",
       "      <td>2016-01-31 20:50:00</td>\n",
       "      <td>2016</td>\n",
       "      <td>Febrero</td>\n",
       "      <td>2016-02-01 00:52:37</td>\n",
       "      <td>ROBO DE VEHICULO DE SERVICIO PARTICULAR CON VI...</td>\n",
       "      <td>INVESTIGACIÓN PARA LA ATENCIÓN DEL DELITO DE R...</td>\n",
       "      <td>ORIENTEII</td>\n",
       "      <td>UI-3CD</td>\n",
       "      <td>ROBO DE VEHÍCULO CON Y SIN VIOLENCIA</td>\n",
       "      <td>SUR 25 A</td>\n",
       "      <td>GRANJEROS</td>\n",
       "      <td>LOS CIPRESES</td>\n",
       "      <td>IZTAPALAPA</td>\n",
       "      <td>NaN</td>\n",
       "      <td>-99.108403</td>\n",
       "      <td>19.352859</td>\n",
       "      <td>NaN</td>\n",
       "    </tr>\n",
       "    <tr>\n",
       "      <th>2</th>\n",
       "      <td>2016.0</td>\n",
       "      <td>Febrero</td>\n",
       "      <td>2016-02-01 00:30:00</td>\n",
       "      <td>2016</td>\n",
       "      <td>Febrero</td>\n",
       "      <td>2016-02-01 01:33:26</td>\n",
       "      <td>NARCOMENUDEO POSESION SIMPLE</td>\n",
       "      <td>INVESTIGACIÓN PARA LA ATENCIÓN DE NIÑOS, NIÑAS...</td>\n",
       "      <td>57</td>\n",
       "      <td>UI-3CD</td>\n",
       "      <td>DELITO DE BAJO IMPACTO</td>\n",
       "      <td>BATALLONES ROJOS</td>\n",
       "      <td>NaN</td>\n",
       "      <td>UNIDAD VICENTE GUERRERO</td>\n",
       "      <td>IZTAPALAPA</td>\n",
       "      <td>NaN</td>\n",
       "      <td>-99.061321</td>\n",
       "      <td>19.356451</td>\n",
       "      <td>NaN</td>\n",
       "    </tr>\n",
       "  </tbody>\n",
       "</table>\n",
       "</div>"
      ],
      "text/plain": [
       "   ao_hechos mes_hechos         fecha_hechos  ao_inicio mes_inicio  \\\n",
       "0     2016.0      Enero  2016-01-31 22:16:00       2016    Febrero   \n",
       "1     2016.0      Enero  2016-01-31 20:50:00       2016    Febrero   \n",
       "2     2016.0    Febrero  2016-02-01 00:30:00       2016    Febrero   \n",
       "\n",
       "          fecha_inicio                                             delito  \\\n",
       "0  2016-02-01 00:25:44                DAÑO EN PROPIEDAD AJENA INTENCIONAL   \n",
       "1  2016-02-01 00:52:37  ROBO DE VEHICULO DE SERVICIO PARTICULAR CON VI...   \n",
       "2  2016-02-01 01:33:26                       NARCOMENUDEO POSESION SIMPLE   \n",
       "\n",
       "                                            fiscalia    agencia  \\\n",
       "0                     INVESTIGACIÓN EN BENITO JUÁREZ       BJ-2   \n",
       "1  INVESTIGACIÓN PARA LA ATENCIÓN DEL DELITO DE R...  ORIENTEII   \n",
       "2  INVESTIGACIÓN PARA LA ATENCIÓN DE NIÑOS, NIÑAS...         57   \n",
       "\n",
       "  unidad_investigacion                      categoria_delito  \\\n",
       "0               UI-3CD                DELITO DE BAJO IMPACTO   \n",
       "1               UI-3CD  ROBO DE VEHÍCULO CON Y SIN VIOLENCIA   \n",
       "2               UI-3CD                DELITO DE BAJO IMPACTO   \n",
       "\n",
       "       calle_hechos calle_hechos2           colonia_hechos alcaldia_hechos  \\\n",
       "0  CALZ. DE TLALPAN     LAGO PTE.          AMÉRICAS UNIDAS   BENITO JUAREZ   \n",
       "1          SUR 25 A     GRANJEROS             LOS CIPRESES      IZTAPALAPA   \n",
       "2  BATALLONES ROJOS           NaN  UNIDAD VICENTE GUERRERO      IZTAPALAPA   \n",
       "\n",
       "  competencia   longitud    latitud  tempo  \n",
       "0         NaN -99.140215  19.380315    NaN  \n",
       "1         NaN -99.108403  19.352859    NaN  \n",
       "2         NaN -99.061321  19.356451    NaN  "
      ]
     },
     "execution_count": 3,
     "metadata": {},
     "output_type": "execute_result"
    }
   ],
   "source": [
    "FGJ_data.head(3)"
   ]
  },
  {
   "cell_type": "code",
   "execution_count": 4,
   "id": "37e670c7",
   "metadata": {},
   "outputs": [
    {
     "data": {
      "text/html": [
       "<div>\n",
       "<style scoped>\n",
       "    .dataframe tbody tr th:only-of-type {\n",
       "        vertical-align: middle;\n",
       "    }\n",
       "\n",
       "    .dataframe tbody tr th {\n",
       "        vertical-align: top;\n",
       "    }\n",
       "\n",
       "    .dataframe thead th {\n",
       "        text-align: right;\n",
       "    }\n",
       "</style>\n",
       "<table border=\"1\" class=\"dataframe\">\n",
       "  <thead>\n",
       "    <tr style=\"text-align: right;\">\n",
       "      <th></th>\n",
       "      <th>ao_hechos</th>\n",
       "      <th>mes_hechos</th>\n",
       "      <th>fecha_hechos</th>\n",
       "      <th>ao_inicio</th>\n",
       "      <th>mes_inicio</th>\n",
       "      <th>fecha_inicio</th>\n",
       "      <th>delito</th>\n",
       "      <th>fiscalia</th>\n",
       "      <th>agencia</th>\n",
       "      <th>unidad_investigacion</th>\n",
       "      <th>categoria_delito</th>\n",
       "      <th>calle_hechos</th>\n",
       "      <th>calle_hechos2</th>\n",
       "      <th>colonia_hechos</th>\n",
       "      <th>alcaldia_hechos</th>\n",
       "      <th>competencia</th>\n",
       "      <th>longitud</th>\n",
       "      <th>latitud</th>\n",
       "      <th>tempo</th>\n",
       "    </tr>\n",
       "  </thead>\n",
       "  <tbody>\n",
       "    <tr>\n",
       "      <th>1307208</th>\n",
       "      <td>2021.0</td>\n",
       "      <td>Septiembre</td>\n",
       "      <td>2021-09-07 20:47:00</td>\n",
       "      <td>2021</td>\n",
       "      <td>Septiembre</td>\n",
       "      <td>2021-09-30 23:54:06</td>\n",
       "      <td>DAÑO EN PROPIEDAD AJENA CULPOSA</td>\n",
       "      <td>FISCALÍA DE INVESTIGACIÓN TERRITORIAL EN IZTAP...</td>\n",
       "      <td>IZP-6</td>\n",
       "      <td>UI-2CD</td>\n",
       "      <td>DELITO DE BAJO IMPACTO</td>\n",
       "      <td>CALZADA IGNACIO ZARAGOZA</td>\n",
       "      <td>NaN</td>\n",
       "      <td>AREA FEDERAL PARQUE ECOLOGICO EL SALADO</td>\n",
       "      <td>IZTAPALAPA</td>\n",
       "      <td>FUERO COMUN</td>\n",
       "      <td>-99.009789</td>\n",
       "      <td>19.368632</td>\n",
       "      <td>NaN</td>\n",
       "    </tr>\n",
       "    <tr>\n",
       "      <th>1307209</th>\n",
       "      <td>2021.0</td>\n",
       "      <td>Septiembre</td>\n",
       "      <td>2021-09-03 17:10:00</td>\n",
       "      <td>2021</td>\n",
       "      <td>Septiembre</td>\n",
       "      <td>2021-09-30 23:54:18</td>\n",
       "      <td>ROBO A REPARTIDOR CON VIOLENCIA</td>\n",
       "      <td>FISCALÍA DE INVESTIGACIÓN TERRITORIAL EN GUSTA...</td>\n",
       "      <td>UAT-GAM-2</td>\n",
       "      <td>UI-1SD</td>\n",
       "      <td>ROBO A REPARTIDOR CON Y SIN VIOLENCIA</td>\n",
       "      <td>ZACAPOAXTLA</td>\n",
       "      <td>NaN</td>\n",
       "      <td>SAN FELIPE DE JESÚS</td>\n",
       "      <td>GUSTAVO A MADERO</td>\n",
       "      <td>FUERO COMUN</td>\n",
       "      <td>-99.069949</td>\n",
       "      <td>19.491604</td>\n",
       "      <td>NaN</td>\n",
       "    </tr>\n",
       "    <tr>\n",
       "      <th>1307210</th>\n",
       "      <td>2021.0</td>\n",
       "      <td>Septiembre</td>\n",
       "      <td>2021-09-30 23:20:00</td>\n",
       "      <td>2021</td>\n",
       "      <td>Septiembre</td>\n",
       "      <td>2021-09-30 23:54:45</td>\n",
       "      <td>ROBO A TRANSEUNTE EN VIA PUBLICA CON VIOLENCIA</td>\n",
       "      <td>FISCALÍA DE INVESTIGACIÓN TERRITORIAL EN AZCAP...</td>\n",
       "      <td>AZ-2</td>\n",
       "      <td>UI-2CD</td>\n",
       "      <td>ROBO A TRANSEUNTE EN VÍA PÚBLICA CON Y SIN VIO...</td>\n",
       "      <td>CALZADA SANTIAGO AHUIZOTLA</td>\n",
       "      <td>MORELOS</td>\n",
       "      <td>SANTIAGO AHUIZOTLA</td>\n",
       "      <td>AZCAPOTZALCO</td>\n",
       "      <td>FUERO COMUN</td>\n",
       "      <td>-99.209475</td>\n",
       "      <td>19.476235</td>\n",
       "      <td>NaN</td>\n",
       "    </tr>\n",
       "  </tbody>\n",
       "</table>\n",
       "</div>"
      ],
      "text/plain": [
       "         ao_hechos  mes_hechos         fecha_hechos  ao_inicio  mes_inicio  \\\n",
       "1307208     2021.0  Septiembre  2021-09-07 20:47:00       2021  Septiembre   \n",
       "1307209     2021.0  Septiembre  2021-09-03 17:10:00       2021  Septiembre   \n",
       "1307210     2021.0  Septiembre  2021-09-30 23:20:00       2021  Septiembre   \n",
       "\n",
       "                fecha_inicio                                          delito  \\\n",
       "1307208  2021-09-30 23:54:06                 DAÑO EN PROPIEDAD AJENA CULPOSA   \n",
       "1307209  2021-09-30 23:54:18                 ROBO A REPARTIDOR CON VIOLENCIA   \n",
       "1307210  2021-09-30 23:54:45  ROBO A TRANSEUNTE EN VIA PUBLICA CON VIOLENCIA   \n",
       "\n",
       "                                                  fiscalia    agencia  \\\n",
       "1307208  FISCALÍA DE INVESTIGACIÓN TERRITORIAL EN IZTAP...      IZP-6   \n",
       "1307209  FISCALÍA DE INVESTIGACIÓN TERRITORIAL EN GUSTA...  UAT-GAM-2   \n",
       "1307210  FISCALÍA DE INVESTIGACIÓN TERRITORIAL EN AZCAP...       AZ-2   \n",
       "\n",
       "        unidad_investigacion  \\\n",
       "1307208               UI-2CD   \n",
       "1307209               UI-1SD   \n",
       "1307210               UI-2CD   \n",
       "\n",
       "                                          categoria_delito  \\\n",
       "1307208                             DELITO DE BAJO IMPACTO   \n",
       "1307209              ROBO A REPARTIDOR CON Y SIN VIOLENCIA   \n",
       "1307210  ROBO A TRANSEUNTE EN VÍA PÚBLICA CON Y SIN VIO...   \n",
       "\n",
       "                       calle_hechos calle_hechos2  \\\n",
       "1307208    CALZADA IGNACIO ZARAGOZA           NaN   \n",
       "1307209                 ZACAPOAXTLA           NaN   \n",
       "1307210  CALZADA SANTIAGO AHUIZOTLA       MORELOS   \n",
       "\n",
       "                                  colonia_hechos   alcaldia_hechos  \\\n",
       "1307208  AREA FEDERAL PARQUE ECOLOGICO EL SALADO        IZTAPALAPA   \n",
       "1307209                      SAN FELIPE DE JESÚS  GUSTAVO A MADERO   \n",
       "1307210                       SANTIAGO AHUIZOTLA      AZCAPOTZALCO   \n",
       "\n",
       "         competencia   longitud    latitud  tempo  \n",
       "1307208  FUERO COMUN -99.009789  19.368632    NaN  \n",
       "1307209  FUERO COMUN -99.069949  19.491604    NaN  \n",
       "1307210  FUERO COMUN -99.209475  19.476235    NaN  "
      ]
     },
     "execution_count": 4,
     "metadata": {},
     "output_type": "execute_result"
    }
   ],
   "source": [
    "FGJ_data.tail(3)"
   ]
  },
  {
   "cell_type": "code",
   "execution_count": 5,
   "id": "c5985992",
   "metadata": {},
   "outputs": [
    {
     "data": {
      "text/plain": [
       "(1307211, 19)"
      ]
     },
     "execution_count": 5,
     "metadata": {},
     "output_type": "execute_result"
    }
   ],
   "source": [
    "FGJ_data.shape"
   ]
  },
  {
   "cell_type": "code",
   "execution_count": 6,
   "id": "666bb337",
   "metadata": {},
   "outputs": [
    {
     "data": {
      "text/html": [
       "<div>\n",
       "<style scoped>\n",
       "    .dataframe tbody tr th:only-of-type {\n",
       "        vertical-align: middle;\n",
       "    }\n",
       "\n",
       "    .dataframe tbody tr th {\n",
       "        vertical-align: top;\n",
       "    }\n",
       "\n",
       "    .dataframe thead th {\n",
       "        text-align: right;\n",
       "    }\n",
       "</style>\n",
       "<table border=\"1\" class=\"dataframe\">\n",
       "  <thead>\n",
       "    <tr style=\"text-align: right;\">\n",
       "      <th></th>\n",
       "      <th>ao_hechos</th>\n",
       "      <th>ao_inicio</th>\n",
       "      <th>longitud</th>\n",
       "      <th>latitud</th>\n",
       "      <th>tempo</th>\n",
       "    </tr>\n",
       "  </thead>\n",
       "  <tbody>\n",
       "    <tr>\n",
       "      <th>count</th>\n",
       "      <td>1.306767e+06</td>\n",
       "      <td>1.307211e+06</td>\n",
       "      <td>1.253509e+06</td>\n",
       "      <td>1.253509e+06</td>\n",
       "      <td>0.0</td>\n",
       "    </tr>\n",
       "    <tr>\n",
       "      <th>mean</th>\n",
       "      <td>2.018268e+03</td>\n",
       "      <td>2.018419e+03</td>\n",
       "      <td>-9.913722e+01</td>\n",
       "      <td>1.938718e+01</td>\n",
       "      <td>NaN</td>\n",
       "    </tr>\n",
       "    <tr>\n",
       "      <th>std</th>\n",
       "      <td>1.914601e+00</td>\n",
       "      <td>1.612246e+00</td>\n",
       "      <td>6.000810e-02</td>\n",
       "      <td>7.006171e-02</td>\n",
       "      <td>NaN</td>\n",
       "    </tr>\n",
       "    <tr>\n",
       "      <th>min</th>\n",
       "      <td>1.906000e+03</td>\n",
       "      <td>2.016000e+03</td>\n",
       "      <td>-1.002319e+02</td>\n",
       "      <td>1.909535e+01</td>\n",
       "      <td>NaN</td>\n",
       "    </tr>\n",
       "    <tr>\n",
       "      <th>25%</th>\n",
       "      <td>2.017000e+03</td>\n",
       "      <td>2.017000e+03</td>\n",
       "      <td>-9.917561e+01</td>\n",
       "      <td>1.933937e+01</td>\n",
       "      <td>NaN</td>\n",
       "    </tr>\n",
       "    <tr>\n",
       "      <th>50%</th>\n",
       "      <td>2.018000e+03</td>\n",
       "      <td>2.018000e+03</td>\n",
       "      <td>-9.914208e+01</td>\n",
       "      <td>1.938967e+01</td>\n",
       "      <td>NaN</td>\n",
       "    </tr>\n",
       "    <tr>\n",
       "      <th>75%</th>\n",
       "      <td>2.020000e+03</td>\n",
       "      <td>2.020000e+03</td>\n",
       "      <td>-9.909959e+01</td>\n",
       "      <td>1.943776e+01</td>\n",
       "      <td>NaN</td>\n",
       "    </tr>\n",
       "    <tr>\n",
       "      <th>max</th>\n",
       "      <td>2.021000e+03</td>\n",
       "      <td>2.021000e+03</td>\n",
       "      <td>-9.894686e+01</td>\n",
       "      <td>1.958333e+01</td>\n",
       "      <td>NaN</td>\n",
       "    </tr>\n",
       "  </tbody>\n",
       "</table>\n",
       "</div>"
      ],
      "text/plain": [
       "          ao_hechos     ao_inicio      longitud       latitud  tempo\n",
       "count  1.306767e+06  1.307211e+06  1.253509e+06  1.253509e+06    0.0\n",
       "mean   2.018268e+03  2.018419e+03 -9.913722e+01  1.938718e+01    NaN\n",
       "std    1.914601e+00  1.612246e+00  6.000810e-02  7.006171e-02    NaN\n",
       "min    1.906000e+03  2.016000e+03 -1.002319e+02  1.909535e+01    NaN\n",
       "25%    2.017000e+03  2.017000e+03 -9.917561e+01  1.933937e+01    NaN\n",
       "50%    2.018000e+03  2.018000e+03 -9.914208e+01  1.938967e+01    NaN\n",
       "75%    2.020000e+03  2.020000e+03 -9.909959e+01  1.943776e+01    NaN\n",
       "max    2.021000e+03  2.021000e+03 -9.894686e+01  1.958333e+01    NaN"
      ]
     },
     "execution_count": 6,
     "metadata": {},
     "output_type": "execute_result"
    }
   ],
   "source": [
    "FGJ_data.describe()"
   ]
  },
  {
   "cell_type": "code",
   "execution_count": 7,
   "id": "cd11cdd8",
   "metadata": {},
   "outputs": [
    {
     "data": {
      "text/plain": [
       "ao_hechos                True\n",
       "mes_hechos               True\n",
       "fecha_hechos             True\n",
       "ao_inicio               False\n",
       "mes_inicio              False\n",
       "fecha_inicio             True\n",
       "delito                  False\n",
       "fiscalia                 True\n",
       "agencia                 False\n",
       "unidad_investigacion     True\n",
       "categoria_delito        False\n",
       "calle_hechos             True\n",
       "calle_hechos2            True\n",
       "colonia_hechos           True\n",
       "alcaldia_hechos          True\n",
       "competencia              True\n",
       "longitud                 True\n",
       "latitud                  True\n",
       "tempo                    True\n",
       "dtype: bool"
      ]
     },
     "execution_count": 7,
     "metadata": {},
     "output_type": "execute_result"
    }
   ],
   "source": [
    "FGJ_data.isna().any()"
   ]
  },
  {
   "cell_type": "code",
   "execution_count": 8,
   "id": "c0cc446f",
   "metadata": {},
   "outputs": [
    {
     "data": {
      "text/plain": [
       "ao_hechos               float64\n",
       "mes_hechos               object\n",
       "fecha_hechos             object\n",
       "ao_inicio                 int64\n",
       "mes_inicio               object\n",
       "fecha_inicio             object\n",
       "delito                   object\n",
       "fiscalia                 object\n",
       "agencia                  object\n",
       "unidad_investigacion     object\n",
       "categoria_delito         object\n",
       "calle_hechos             object\n",
       "calle_hechos2            object\n",
       "colonia_hechos           object\n",
       "alcaldia_hechos          object\n",
       "competencia              object\n",
       "longitud                float64\n",
       "latitud                 float64\n",
       "tempo                   float64\n",
       "dtype: object"
      ]
     },
     "execution_count": 8,
     "metadata": {},
     "output_type": "execute_result"
    }
   ],
   "source": [
    "FGJ_data.dtypes"
   ]
  },
  {
   "cell_type": "code",
   "execution_count": 9,
   "id": "32b8ee08",
   "metadata": {},
   "outputs": [
    {
     "data": {
      "text/plain": [
       "delito              345\n",
       "fiscalia             73\n",
       "agencia             209\n",
       "categoria_delito     18\n",
       "alcaldia_hechos     557\n",
       "competencia           3\n",
       "dtype: int64"
      ]
     },
     "execution_count": 9,
     "metadata": {},
     "output_type": "execute_result"
    }
   ],
   "source": [
    "FGJ_data[['delito', 'fiscalia', 'agencia','categoria_delito','alcaldia_hechos','competencia']].nunique()"
   ]
  },
  {
   "cell_type": "code",
   "execution_count": 10,
   "id": "ca898713",
   "metadata": {},
   "outputs": [
    {
     "data": {
      "text/plain": [
       "VIOLENCIA FAMILIAR                                         137582\n",
       "FRAUDE                                                      82032\n",
       "ROBO DE OBJETOS                                             75973\n",
       "AMENAZAS                                                    71595\n",
       "ROBO A NEGOCIO SIN VIOLENCIA                                67547\n",
       "                                                            ...  \n",
       "ROBO A TRANSEUNTE EN VIA PUBLICA (NOMINA) SIN VIOLENCIA         1\n",
       "CONTRA LA LEY GENERAL DE EXPLOSIVOS                             1\n",
       "SECUESTRO                                                       1\n",
       "EJERCICIO INDEBIDO DEL PROPIO DER.                              1\n",
       "CALUMNIAS                                                       1\n",
       "Name: delito, Length: 345, dtype: int64"
      ]
     },
     "execution_count": 10,
     "metadata": {},
     "output_type": "execute_result"
    }
   ],
   "source": [
    "FGJ_data.delito.value_counts()"
   ]
  },
  {
   "cell_type": "code",
   "execution_count": 11,
   "id": "eac31666",
   "metadata": {},
   "outputs": [
    {
     "data": {
      "text/plain": [
       "INVESTIGACIÓN EN IZTAPALAPA                                                                             114947\n",
       "INVESTIGACIÓN EN CUAUHTEMOC                                                                             114405\n",
       "INVESTIGACIÓN EN GUSTAVO A. MADERO                                                                       78355\n",
       "INVESTIGACIÓN EN BENITO JUÁREZ                                                                           74528\n",
       "INVESTIGACIÓN EN ÁLVARO OBREGÓN                                                                          54129\n",
       "                                                                                                         ...  \n",
       "FISCALÍA ESPECIALIZADA PARA LA INVESTIGACIÓN DEL DELITO DE FEMINICIDIO                                     134\n",
       "UNIDAD DE RECEPCION POR INTERNET                                                                            55\n",
       "ESPECIALIZADA EN LA BÚSQUEDA, LOCALIZACIÓN E INVESTIGACIÓN DE PERSONAS DESAPARECIDAS                        43\n",
       "FISCALIA DELITOS ELECTORALES                                                                                12\n",
       "FISCALÍA DE INVESTIGACIÓN Y PERSECUCIÓN DE LOS DELITOS EN MATERIA DE DESAPARICIÓN FORZADA DE PERSONA         1\n",
       "Name: fiscalia, Length: 73, dtype: int64"
      ]
     },
     "execution_count": 11,
     "metadata": {},
     "output_type": "execute_result"
    }
   ],
   "source": [
    "FGJ_data.fiscalia.value_counts()"
   ]
  },
  {
   "cell_type": "code",
   "execution_count": 12,
   "id": "1e343693",
   "metadata": {},
   "outputs": [
    {
     "data": {
      "text/plain": [
       "DELITO DE BAJO IMPACTO                                     1026209\n",
       "ROBO A TRANSEUNTE EN VÍA PÚBLICA CON Y SIN VIOLENCIA         73481\n",
       "ROBO DE VEHÍCULO CON Y SIN VIOLENCIA                         67522\n",
       "HECHO NO DELICTIVO                                           57857\n",
       "ROBO A NEGOCIO CON VIOLENCIA                                 21136\n",
       "ROBO A REPARTIDOR CON Y SIN VIOLENCIA                        13362\n",
       "ROBO A PASAJERO A BORDO DEL METRO CON Y SIN VIOLENCIA        11469\n",
       "LESIONES DOLOSAS POR DISPARO DE ARMA DE FUEGO                 9306\n",
       "HOMICIDIO DOLOSO                                              7412\n",
       "VIOLACIÓN                                                     7344\n",
       "ROBO A PASAJERO A BORDO DE MICROBUS CON Y SIN VIOLENCIA       4293\n",
       "ROBO A CASA HABITACIÓN CON VIOLENCIA                          3256\n",
       "ROBO A CUENTAHABIENTE SALIENDO DEL CAJERO CON VIOLENCIA       2386\n",
       "ROBO A PASAJERO A BORDO DE TAXI CON VIOLENCIA                 1299\n",
       "ROBO A TRANSPORTISTA CON Y SIN VIOLENCIA                       685\n",
       "SECUESTRO                                                      191\n",
       "FEMINICIDIO                                                      2\n",
       "PLAGIO O SECUESTRO                                               1\n",
       "Name: categoria_delito, dtype: int64"
      ]
     },
     "execution_count": 12,
     "metadata": {},
     "output_type": "execute_result"
    }
   ],
   "source": [
    "FGJ_data.categoria_delito.value_counts()"
   ]
  },
  {
   "cell_type": "code",
   "execution_count": 13,
   "id": "5b6421dc",
   "metadata": {},
   "outputs": [
    {
     "data": {
      "text/plain": [
       "CUAUHTEMOC               203425\n",
       "IZTAPALAPA               196158\n",
       "GUSTAVO A MADERO         131319\n",
       "BENITO JUAREZ            107516\n",
       "ALVARO OBREGON            88946\n",
       "                          ...  \n",
       "SANTA MARIA COLOTEPEC         1\n",
       "GšEMEZ                        1\n",
       "TOLCAYUCA                     1\n",
       "CALERA                        1\n",
       "TEPETLAOXTOC                  1\n",
       "Name: alcaldia_hechos, Length: 557, dtype: int64"
      ]
     },
     "execution_count": 13,
     "metadata": {},
     "output_type": "execute_result"
    }
   ],
   "source": [
    "FGJ_data.alcaldia_hechos.value_counts()"
   ]
  },
  {
   "cell_type": "code",
   "execution_count": 14,
   "id": "02849ff6",
   "metadata": {},
   "outputs": [
    {
     "data": {
      "text/plain": [
       "FUERO COMUN           236246\n",
       "HECHO NO DELICTIVO      4341\n",
       "INCOMPETENCIA           2545\n",
       "Name: competencia, dtype: int64"
      ]
     },
     "execution_count": 14,
     "metadata": {},
     "output_type": "execute_result"
    }
   ],
   "source": [
    "FGJ_data.competencia.value_counts()"
   ]
  },
  {
   "cell_type": "markdown",
   "id": "92f27b0b",
   "metadata": {},
   "source": [
    "### 1. Define analysis time frame"
   ]
  },
  {
   "cell_type": "code",
   "execution_count": 15,
   "id": "dfc05872",
   "metadata": {},
   "outputs": [
    {
     "data": {
      "text/plain": [
       "2021.0    155919\n",
       "2020.0    201527\n",
       "2019.0    243898\n",
       "2018.0    254013\n",
       "2017.0    227268\n",
       "2016.0    195010\n",
       "2015.0     15993\n",
       "2014.0      4313\n",
       "2013.0      2204\n",
       "2012.0      1577\n",
       "2011.0      1080\n",
       "2010.0       903\n",
       "2009.0       499\n",
       "2008.0       482\n",
       "2007.0       327\n",
       "2006.0       268\n",
       "2005.0       199\n",
       "2004.0       169\n",
       "2003.0       118\n",
       "2002.0       113\n",
       "2001.0       203\n",
       "2000.0       112\n",
       "1999.0        48\n",
       "1998.0        60\n",
       "1997.0        41\n",
       "1996.0        31\n",
       "1995.0        33\n",
       "1994.0        24\n",
       "1993.0        27\n",
       "1992.0        35\n",
       "1991.0        18\n",
       "Name: ao_hechos, dtype: int64"
      ]
     },
     "execution_count": 15,
     "metadata": {},
     "output_type": "execute_result"
    }
   ],
   "source": [
    "## Crime incidence for the last 20 years (number of registers in FGJ db) \n",
    "year_incidence = FGJ_data.ao_hechos.value_counts()\n",
    "year_incidence[year_incidence.index >= 1991].sort_index(ascending=False)"
   ]
  },
  {
   "cell_type": "code",
   "execution_count": 16,
   "id": "b2e9a2c0",
   "metadata": {},
   "outputs": [
    {
     "data": {
      "text/plain": [
       "(1306083, 3)"
      ]
     },
     "execution_count": 16,
     "metadata": {},
     "output_type": "execute_result"
    }
   ],
   "source": [
    "FGJ_data[['ao_hechos','mes_hechos','competencia']].loc[FGJ_data['ao_hechos'] > 2000].sort_values(['ao_hechos','mes_hechos']).shape"
   ]
  },
  {
   "cell_type": "code",
   "execution_count": 17,
   "id": "fabde2d9",
   "metadata": {},
   "outputs": [
    {
     "data": {
      "text/plain": [
       "(242919, 3)"
      ]
     },
     "execution_count": 17,
     "metadata": {},
     "output_type": "execute_result"
    }
   ],
   "source": [
    "FGJ_data[['ao_hechos','mes_hechos','competencia']].loc[FGJ_data['ao_hechos'] > 2000].dropna().sort_values(['ao_hechos','mes_hechos']).shape"
   ]
  },
  {
   "cell_type": "code",
   "execution_count": 18,
   "id": "d266b534",
   "metadata": {},
   "outputs": [
    {
     "data": {
      "text/plain": [
       "ao_hechos  mes_hechos\n",
       "2014.0     Abril           323\n",
       "           Agosto          323\n",
       "           Diciembre       426\n",
       "           Enero           331\n",
       "           Febrero         256\n",
       "           Julio           337\n",
       "           Junio           327\n",
       "           Marzo           326\n",
       "           Mayo            469\n",
       "           Noviembre       392\n",
       "           Octubre         449\n",
       "           Septiembre      354\n",
       "2015.0     Abril           696\n",
       "           Agosto         1143\n",
       "           Diciembre      3563\n",
       "           Enero          1143\n",
       "           Febrero         707\n",
       "           Julio           946\n",
       "           Junio           983\n",
       "           Marzo           737\n",
       "           Mayo            884\n",
       "           Noviembre      2134\n",
       "           Octubre        1723\n",
       "           Septiembre     1334\n",
       "2016.0     Abril         16413\n",
       "           Agosto        16623\n",
       "           Diciembre     16144\n",
       "           Enero         15171\n",
       "           Febrero       15505\n",
       "           Julio         15477\n",
       "           Junio         15260\n",
       "           Marzo         15980\n",
       "           Mayo          16499\n",
       "           Noviembre     16609\n",
       "           Octubre       17806\n",
       "           Septiembre    17523\n",
       "2017.0     Abril         17254\n",
       "           Agosto        20196\n",
       "           Diciembre     18966\n",
       "           Enero         17626\n",
       "           Febrero       16489\n",
       "           Julio         19287\n",
       "           Junio         19461\n",
       "           Marzo         18682\n",
       "           Mayo          19757\n",
       "           Noviembre     19568\n",
       "           Octubre       20932\n",
       "           Septiembre    19050\n",
       "Name: delito, dtype: int64"
      ]
     },
     "execution_count": 18,
     "metadata": {},
     "output_type": "execute_result"
    }
   ],
   "source": [
    "FGJ_data.loc[(FGJ_data['ao_hechos'] >= 2014) & (FGJ_data['ao_hechos'] <= 2017)].groupby(['ao_hechos','mes_hechos']).count()['delito']"
   ]
  },
  {
   "cell_type": "code",
   "execution_count": 20,
   "id": "037c5b67",
   "metadata": {},
   "outputs": [
    {
     "data": {
      "text/plain": [
       "ao_inicio  mes_inicio\n",
       "2016       Abril         16992\n",
       "           Agosto        16924\n",
       "           Diciembre     16531\n",
       "           Enero         14778\n",
       "           Febrero       15515\n",
       "           Julio         15774\n",
       "           Junio         16230\n",
       "           Marzo         16270\n",
       "           Mayo          16857\n",
       "           Noviembre     17003\n",
       "           Octubre       17901\n",
       "           Septiembre    17138\n",
       "2017       Abril         17228\n",
       "           Agosto        20688\n",
       "           Diciembre     19109\n",
       "           Enero         17449\n",
       "           Febrero       16304\n",
       "           Julio         19450\n",
       "           Junio         19876\n",
       "           Marzo         18522\n",
       "           Mayo          19942\n",
       "           Noviembre     19965\n",
       "           Octubre       21095\n",
       "           Septiembre    18695\n",
       "Name: delito, dtype: int64"
      ]
     },
     "execution_count": 20,
     "metadata": {},
     "output_type": "execute_result"
    }
   ],
   "source": [
    "FGJ_data.loc[(FGJ_data['ao_inicio'] >= 2014) & (FGJ_data['ao_inicio'] <= 2017)].groupby(['ao_inicio','mes_inicio']).count()['delito']"
   ]
  },
  {
   "cell_type": "code",
   "execution_count": 21,
   "id": "e982b13a",
   "metadata": {},
   "outputs": [
    {
     "data": {
      "text/plain": [
       "CUAUHTEMOC          74079\n",
       "IZTAPALAPA          64742\n",
       "GUSTAVO A MADERO    43214\n",
       "BENITO JUAREZ       38756\n",
       "COYOACAN            30170\n",
       "                    ...  \n",
       "XALATLACO               1\n",
       "PARRAS                  1\n",
       "EBANO                   1\n",
       "TENOSIQUE               1\n",
       "TEPETLAOXTOC            1\n",
       "Name: alcaldia_hechos, Length: 367, dtype: int64"
      ]
     },
     "execution_count": 21,
     "metadata": {},
     "output_type": "execute_result"
    }
   ],
   "source": [
    "FGJ_data.loc[(FGJ_data['ao_hechos'] >= 2014) & (FGJ_data['ao_hechos'] <= 2017)]['alcaldia_hechos'].value_counts()"
   ]
  },
  {
   "cell_type": "markdown",
   "id": "c862fe82",
   "metadata": {},
   "source": [
    "### C. Clean dataset"
   ]
  },
  {
   "cell_type": "code",
   "execution_count": 22,
   "id": "b6a5bbe8",
   "metadata": {},
   "outputs": [
    {
     "name": "stdout",
     "output_type": "stream",
     "text": [
      "(1307211, 19)\n"
     ]
    }
   ],
   "source": [
    "print(FGJ_data.shape)"
   ]
  },
  {
   "cell_type": "code",
   "execution_count": 23,
   "id": "b795fe6b",
   "metadata": {},
   "outputs": [
    {
     "data": {
      "text/plain": [
       "Index(['ao_hechos', 'mes_hechos', 'fecha_hechos', 'ao_inicio', 'mes_inicio',\n",
       "       'fecha_inicio', 'delito', 'fiscalia', 'agencia', 'unidad_investigacion',\n",
       "       'categoria_delito', 'calle_hechos', 'calle_hechos2', 'colonia_hechos',\n",
       "       'alcaldia_hechos', 'competencia', 'longitud', 'latitud', 'tempo'],\n",
       "      dtype='object')"
      ]
     },
     "execution_count": 23,
     "metadata": {},
     "output_type": "execute_result"
    }
   ],
   "source": [
    "FGJ_data.columns"
   ]
  },
  {
   "cell_type": "code",
   "execution_count": 24,
   "id": "7b51164a",
   "metadata": {},
   "outputs": [
    {
     "name": "stdout",
     "output_type": "stream",
     "text": [
      "(1277635, 9)\n"
     ]
    }
   ],
   "source": [
    "## Select columns for clean dataset\n",
    "columns = ['ao_hechos', 'mes_hechos', 'fecha_hechos', 'delito', 'categoria_delito',\n",
    "           'colonia_hechos', 'alcaldia_hechos', 'longitud', 'latitud']\n",
    "\n",
    "## Build clean dataset according to defined analysis timeframe (2016-2021) \n",
    "FGJ_clean = FGJ_data.loc[(FGJ_data['ao_hechos'] >= 2016)][columns]\n",
    "print(FGJ_clean.shape)"
   ]
  },
  {
   "cell_type": "code",
   "execution_count": 25,
   "id": "9c9dc83d",
   "metadata": {},
   "outputs": [],
   "source": [
    "## Convert timestamp to datetimeindex\n",
    "FGJ_clean['fecha_hechos'] = pd.to_datetime(FGJ_clean.fecha_hechos.values)"
   ]
  },
  {
   "cell_type": "code",
   "execution_count": 26,
   "id": "f3bdbd55",
   "metadata": {},
   "outputs": [],
   "source": [
    "## Set datetimeindex\n",
    "FGJ_clean.set_index('fecha_hechos', inplace=True)"
   ]
  },
  {
   "cell_type": "code",
   "execution_count": 27,
   "id": "01fc4fb2",
   "metadata": {},
   "outputs": [],
   "source": [
    "## FGJ_clean.categoria_delito.value_counts()"
   ]
  },
  {
   "cell_type": "code",
   "execution_count": 28,
   "id": "1f1aa0f6",
   "metadata": {},
   "outputs": [
    {
     "data": {
      "text/plain": [
       "CUAUHTEMOC                195149\n",
       "IZTAPALAPA                193014\n",
       "GUSTAVO A MADERO          129141\n",
       "BENITO JUAREZ             104641\n",
       "ALVARO OBREGON             87552\n",
       "COYOACAN                   85670\n",
       "MIGUEL HIDALGO             82574\n",
       "TLALPAN                    75262\n",
       "VENUSTIANO CARRANZA        73839\n",
       "AZCAPOTZALCO               62425\n",
       "IZTACALCO                  53469\n",
       "XOCHIMILCO                 40365\n",
       "TLAHUAC                    31930\n",
       "LA MAGDALENA CONTRERAS     21128\n",
       "CUAJIMALPA DE MORELOS      19047\n",
       "MILPA ALTA                  9408\n",
       "NEZAHUALCOYOTL              1373\n",
       "TLALNEPANTLA DE BAZ         1060\n",
       "ECATEPEC DE MORELOS          989\n",
       "NAUCALPAN DE JUAREZ          756\n",
       "Name: alcaldia_hechos, dtype: int64"
      ]
     },
     "execution_count": 28,
     "metadata": {},
     "output_type": "execute_result"
    }
   ],
   "source": [
    "FGJ_clean.alcaldia_hechos.value_counts().head(20)"
   ]
  },
  {
   "cell_type": "code",
   "execution_count": 29,
   "id": "24d88f90",
   "metadata": {},
   "outputs": [
    {
     "data": {
      "text/plain": [
       "Index(['CUAUHTEMOC', 'IZTAPALAPA', 'GUSTAVO A MADERO', 'BENITO JUAREZ',\n",
       "       'ALVARO OBREGON', 'COYOACAN', 'MIGUEL HIDALGO', 'TLALPAN',\n",
       "       'VENUSTIANO CARRANZA', 'AZCAPOTZALCO', 'IZTACALCO', 'XOCHIMILCO',\n",
       "       'TLAHUAC', 'LA MAGDALENA CONTRERAS', 'CUAJIMALPA DE MORELOS',\n",
       "       'MILPA ALTA'],\n",
       "      dtype='object')"
      ]
     },
     "execution_count": 29,
     "metadata": {},
     "output_type": "execute_result"
    }
   ],
   "source": [
    "## Get alcaldias list\n",
    "alcaldias_list = FGJ_clean.alcaldia_hechos.value_counts().head(16).index\n",
    "alcaldias_list"
   ]
  },
  {
   "cell_type": "code",
   "execution_count": 30,
   "id": "c392ca20",
   "metadata": {},
   "outputs": [],
   "source": [
    "## Filter by alcaldias list\n",
    "FGJ_alcaldias = FGJ_clean.loc[FGJ_clean['alcaldia_hechos'].isin(alcaldias_list)]"
   ]
  },
  {
   "cell_type": "code",
   "execution_count": 31,
   "id": "3ef082dd",
   "metadata": {},
   "outputs": [
    {
     "name": "stdout",
     "output_type": "stream",
     "text": [
      "(1264614, 8)\n"
     ]
    },
    {
     "data": {
      "text/html": [
       "<div>\n",
       "<style scoped>\n",
       "    .dataframe tbody tr th:only-of-type {\n",
       "        vertical-align: middle;\n",
       "    }\n",
       "\n",
       "    .dataframe tbody tr th {\n",
       "        vertical-align: top;\n",
       "    }\n",
       "\n",
       "    .dataframe thead th {\n",
       "        text-align: right;\n",
       "    }\n",
       "</style>\n",
       "<table border=\"1\" class=\"dataframe\">\n",
       "  <thead>\n",
       "    <tr style=\"text-align: right;\">\n",
       "      <th></th>\n",
       "      <th>ao_hechos</th>\n",
       "      <th>mes_hechos</th>\n",
       "      <th>delito</th>\n",
       "      <th>categoria_delito</th>\n",
       "      <th>colonia_hechos</th>\n",
       "      <th>alcaldia_hechos</th>\n",
       "      <th>longitud</th>\n",
       "      <th>latitud</th>\n",
       "    </tr>\n",
       "    <tr>\n",
       "      <th>fecha_hechos</th>\n",
       "      <th></th>\n",
       "      <th></th>\n",
       "      <th></th>\n",
       "      <th></th>\n",
       "      <th></th>\n",
       "      <th></th>\n",
       "      <th></th>\n",
       "      <th></th>\n",
       "    </tr>\n",
       "  </thead>\n",
       "  <tbody>\n",
       "    <tr>\n",
       "      <th>2016-01-31 22:16:00</th>\n",
       "      <td>2016.0</td>\n",
       "      <td>Enero</td>\n",
       "      <td>DAÑO EN PROPIEDAD AJENA INTENCIONAL</td>\n",
       "      <td>DELITO DE BAJO IMPACTO</td>\n",
       "      <td>AMÉRICAS UNIDAS</td>\n",
       "      <td>BENITO JUAREZ</td>\n",
       "      <td>-99.140215</td>\n",
       "      <td>19.380315</td>\n",
       "    </tr>\n",
       "    <tr>\n",
       "      <th>2016-01-31 20:50:00</th>\n",
       "      <td>2016.0</td>\n",
       "      <td>Enero</td>\n",
       "      <td>ROBO DE VEHICULO DE SERVICIO PARTICULAR CON VI...</td>\n",
       "      <td>ROBO DE VEHÍCULO CON Y SIN VIOLENCIA</td>\n",
       "      <td>LOS CIPRESES</td>\n",
       "      <td>IZTAPALAPA</td>\n",
       "      <td>-99.108403</td>\n",
       "      <td>19.352859</td>\n",
       "    </tr>\n",
       "    <tr>\n",
       "      <th>2016-02-01 00:30:00</th>\n",
       "      <td>2016.0</td>\n",
       "      <td>Febrero</td>\n",
       "      <td>NARCOMENUDEO POSESION SIMPLE</td>\n",
       "      <td>DELITO DE BAJO IMPACTO</td>\n",
       "      <td>UNIDAD VICENTE GUERRERO</td>\n",
       "      <td>IZTAPALAPA</td>\n",
       "      <td>-99.061321</td>\n",
       "      <td>19.356451</td>\n",
       "    </tr>\n",
       "  </tbody>\n",
       "</table>\n",
       "</div>"
      ],
      "text/plain": [
       "                     ao_hechos mes_hechos  \\\n",
       "fecha_hechos                                \n",
       "2016-01-31 22:16:00     2016.0      Enero   \n",
       "2016-01-31 20:50:00     2016.0      Enero   \n",
       "2016-02-01 00:30:00     2016.0    Febrero   \n",
       "\n",
       "                                                                delito  \\\n",
       "fecha_hechos                                                             \n",
       "2016-01-31 22:16:00                DAÑO EN PROPIEDAD AJENA INTENCIONAL   \n",
       "2016-01-31 20:50:00  ROBO DE VEHICULO DE SERVICIO PARTICULAR CON VI...   \n",
       "2016-02-01 00:30:00                       NARCOMENUDEO POSESION SIMPLE   \n",
       "\n",
       "                                         categoria_delito  \\\n",
       "fecha_hechos                                                \n",
       "2016-01-31 22:16:00                DELITO DE BAJO IMPACTO   \n",
       "2016-01-31 20:50:00  ROBO DE VEHÍCULO CON Y SIN VIOLENCIA   \n",
       "2016-02-01 00:30:00                DELITO DE BAJO IMPACTO   \n",
       "\n",
       "                              colonia_hechos alcaldia_hechos   longitud  \\\n",
       "fecha_hechos                                                              \n",
       "2016-01-31 22:16:00          AMÉRICAS UNIDAS   BENITO JUAREZ -99.140215   \n",
       "2016-01-31 20:50:00             LOS CIPRESES      IZTAPALAPA -99.108403   \n",
       "2016-02-01 00:30:00  UNIDAD VICENTE GUERRERO      IZTAPALAPA -99.061321   \n",
       "\n",
       "                       latitud  \n",
       "fecha_hechos                    \n",
       "2016-01-31 22:16:00  19.380315  \n",
       "2016-01-31 20:50:00  19.352859  \n",
       "2016-02-01 00:30:00  19.356451  "
      ]
     },
     "execution_count": 31,
     "metadata": {},
     "output_type": "execute_result"
    }
   ],
   "source": [
    "print(FGJ_alcaldias.shape)\n",
    "FGJ_alcaldias.head(3)"
   ]
  },
  {
   "cell_type": "markdown",
   "id": "98d17ee9",
   "metadata": {},
   "source": [
    "### 2. Increasing / decreasing crime rates"
   ]
  },
  {
   "cell_type": "code",
   "execution_count": 32,
   "id": "117a0513",
   "metadata": {},
   "outputs": [],
   "source": [
    "## Build crime list\n",
    "delitos_list = FGJ_alcaldias.delito.value_counts().index"
   ]
  },
  {
   "cell_type": "code",
   "execution_count": 33,
   "id": "4343c66d",
   "metadata": {},
   "outputs": [],
   "source": [
    "## Build crime rate change DF for last year\n",
    "crime_rate = pd.DataFrame(delitos_list.sort_values())\n",
    "crime_rate.set_index(delitos_list.sort_values(), inplace=True)\n",
    "crime_rate.drop(0, axis=1, inplace=True)\n",
    "\n",
    "crime_rate['Sep-2020'] = FGJ_alcaldias.loc[(FGJ_alcaldias.ao_hechos == 2020)&(FGJ_alcaldias.mes_hechos == 'Septiembre')].delito.value_counts()\n",
    "crime_rate['Ago-2021'] = FGJ_alcaldias.loc[(FGJ_alcaldias.ao_hechos == 2021)&(FGJ_alcaldias.mes_hechos == 'Agosto')].delito.value_counts()\n",
    "\n",
    "crime_rate.dropna(inplace=True)\n",
    "crime_rate = crime_rate.loc[(crime_rate['Sep-2020'] >= 50) & (crime_rate['Ago-2021'] >= 50)]\n",
    "\n",
    "crime_rate['Pct_Change'] = (crime_rate['Ago-2021'] - crime_rate['Sep-2020'])/crime_rate['Sep-2020']"
   ]
  },
  {
   "cell_type": "code",
   "execution_count": 147,
   "id": "86f5d101",
   "metadata": {},
   "outputs": [
    {
     "data": {
      "text/plain": [
       "array(['ROBO A NEGOCIO CON VIOLENCIA',\n",
       "       'ROBO DE MOTOCICLETA SIN VIOLENCIA',\n",
       "       'NARCOMENUDEO POSESIÓN CON FINES DE VENTA, COMERCIO Y SUMINISTRO',\n",
       "       'CONTRA LA INTIMIDAD SEXUAL',\n",
       "       'DAÑO EN PROPIEDAD AJENA INTENCIONAL A AUTOMOVIL'], dtype=object)"
      ]
     },
     "execution_count": 147,
     "metadata": {},
     "output_type": "execute_result"
    }
   ],
   "source": [
    "## Top 5 crime increase rate\n",
    "top_increase = crime_rate.sort_values(['Pct_Change'], ascending=False).head(5).index.values\n",
    "top_increase"
   ]
  },
  {
   "cell_type": "code",
   "execution_count": 149,
   "id": "eae0df73",
   "metadata": {},
   "outputs": [
    {
     "data": {
      "text/plain": [
       "array(['ENCUBRIMIENTO', 'ROBO A REPARTIDOR CON VIOLENCIA',\n",
       "       'PRODUCCIÓN, IMPRESIÓN, ENAJENACIÓN, DISTRIBUCIÓN, ALTERACIÓN O FALSIFICACIÓN DE TÍTULOS AL PORTADOR, DOCUMENTOS DE CRÉDITO PÚBLICOS O VALES DE CANJE',\n",
       "       'SUSTRACCIÓN DE MENORES', 'TENTATIVA DE EXTORSION'], dtype=object)"
      ]
     },
     "execution_count": 149,
     "metadata": {},
     "output_type": "execute_result"
    }
   ],
   "source": [
    "## Top 5 crime decrease rate\n",
    "top_decrease = crime_rate.sort_values(['Pct_Change'], ascending=False).tail(5).index.values\n",
    "top_decrease"
   ]
  },
  {
   "cell_type": "code",
   "execution_count": 201,
   "id": "480911c8",
   "metadata": {},
   "outputs": [],
   "source": [
    "FGJ_last_year = FGJ_alcaldias.loc[FGJ_alcaldias.index.to_series().between('2020-09-01','2021-08-31')].sort_index()"
   ]
  },
  {
   "cell_type": "code",
   "execution_count": 205,
   "id": "376cb2c1",
   "metadata": {},
   "outputs": [
    {
     "data": {
      "image/png": "[encoded data removed]",
      "text/plain": [
       "<Figure size 432x288 with 1 Axes>"
      ]
     },
     "metadata": {
      "needs_background": "light"
     },
     "output_type": "display_data"
    }
   ],
   "source": [
    "FGJ_last_year.loc[FGJ_last_year.delito.isin(top_increase)].groupby(['delito',pd.Grouper(freq='m')]).count()['ao_hechos'].unstack().T.plot(\n",
    "    kind='line',\n",
    "    title=\"Delitos al Alza\")\n",
    "\n",
    "plt.xlabel('')\n",
    "plt.ylabel('Casos')\n",
    "plt.legend(bbox_to_anchor=(1.27, -0.15), ncol=1)\n",
    "plt.show()"
   ]
  },
  {
   "cell_type": "code",
   "execution_count": 206,
   "id": "c6c0aa47",
   "metadata": {},
   "outputs": [
    {
     "data": {
      "image/png": "[encoded data removed]",
      "text/plain": [
       "<Figure size 432x288 with 1 Axes>"
      ]
     },
     "metadata": {
      "needs_background": "light"
     },
     "output_type": "display_data"
    }
   ],
   "source": [
    "FGJ_last_year.loc[FGJ_last_year.delito.isin(top_decrease)].groupby(['delito',pd.Grouper(freq='m')]).count()['ao_hechos'].unstack().T.plot(\n",
    "    kind='line',\n",
    "    title=\"Delitos a la Baja\")\n",
    "\n",
    "plt.xlabel('')\n",
    "plt.ylabel('Casos')\n",
    "plt.legend(bbox_to_anchor=(2.7, -0.15), ncol=1)\n",
    "plt.show()"
   ]
  },
  {
   "cell_type": "code",
   "execution_count": null,
   "id": "24ef93da",
   "metadata": {},
   "outputs": [],
   "source": []
  },
  {
   "cell_type": "markdown",
   "id": "b76c9c7d",
   "metadata": {},
   "source": [
    "### 3. Crime count by Alcaldía"
   ]
  },
  {
   "cell_type": "code",
   "execution_count": 36,
   "id": "2a677dda",
   "metadata": {},
   "outputs": [
    {
     "data": {
      "text/plain": [
       "alcaldia_hechos\n",
       "CUAUHTEMOC                195149\n",
       "IZTAPALAPA                193014\n",
       "GUSTAVO A MADERO          129141\n",
       "BENITO JUAREZ             104641\n",
       "ALVARO OBREGON             87552\n",
       "COYOACAN                   85670\n",
       "MIGUEL HIDALGO             82574\n",
       "TLALPAN                    75262\n",
       "VENUSTIANO CARRANZA        73839\n",
       "AZCAPOTZALCO               62425\n",
       "IZTACALCO                  53469\n",
       "XOCHIMILCO                 40365\n",
       "TLAHUAC                    31930\n",
       "LA MAGDALENA CONTRERAS     21128\n",
       "CUAJIMALPA DE MORELOS      19047\n",
       "MILPA ALTA                  9408\n",
       "Name: delito, dtype: int64"
      ]
     },
     "execution_count": 36,
     "metadata": {},
     "output_type": "execute_result"
    }
   ],
   "source": [
    "FGJ_alcaldias.groupby(['alcaldia_hechos']).count()['delito'].sort_values(ascending=False)"
   ]
  },
  {
   "cell_type": "code",
   "execution_count": 110,
   "id": "9a3a2f60",
   "metadata": {},
   "outputs": [
    {
     "data": {
      "image/png": "[encoded data removed]",
      "text/plain": [
       "<Figure size 432x288 with 1 Axes>"
      ]
     },
     "metadata": {
      "needs_background": "light"
     },
     "output_type": "display_data"
    }
   ],
   "source": [
    "FGJ_alcaldias.groupby(['alcaldia_hechos']).count()['delito'].sort_values().plot(\n",
    "    kind='barh',\n",
    "    title=\"Incidencia Delictiva\")\n",
    "\n",
    "plt.xlabel('Delitos')\n",
    "plt.ylabel('')\n",
    "plt.grid(True, which='both', axis='x')\n",
    "plt.show()"
   ]
  },
  {
   "cell_type": "markdown",
   "id": "81c15556",
   "metadata": {},
   "source": [
    "### 4. Crime rate by Alcaldía"
   ]
  },
  {
   "cell_type": "code",
   "execution_count": 38,
   "id": "9a9d18d3",
   "metadata": {},
   "outputs": [],
   "source": [
    "## Build crime rate change DF for last year\n",
    "alcaldias_rate = pd.DataFrame(alcaldias_list.sort_values())\n",
    "alcaldias_rate.set_index(alcaldias_list.sort_values(), inplace=True)\n",
    "alcaldias_rate.drop(0, axis=1, inplace=True)\n",
    "\n",
    "alcaldias_rate['Sep-2020'] = FGJ_alcaldias[(FGJ_alcaldias.ao_hechos == 2020)&(FGJ_alcaldias.mes_hechos == 'Septiembre')].groupby(['alcaldia_hechos']).count()['delito']\n",
    "alcaldias_rate['Ago-2021'] = FGJ_alcaldias[(FGJ_alcaldias.ao_hechos == 2021)&(FGJ_alcaldias.mes_hechos == 'Agosto')].groupby(['alcaldia_hechos']).count()['delito']\n",
    "\n",
    "alcaldias_rate['Pct_Change'] = (alcaldias_rate['Ago-2021'] - alcaldias_rate['Sep-2020'])/alcaldias_rate['Sep-2020']"
   ]
  },
  {
   "cell_type": "code",
   "execution_count": 39,
   "id": "42568daa",
   "metadata": {},
   "outputs": [
    {
     "data": {
      "text/html": [
       "<div>\n",
       "<style scoped>\n",
       "    .dataframe tbody tr th:only-of-type {\n",
       "        vertical-align: middle;\n",
       "    }\n",
       "\n",
       "    .dataframe tbody tr th {\n",
       "        vertical-align: top;\n",
       "    }\n",
       "\n",
       "    .dataframe thead th {\n",
       "        text-align: right;\n",
       "    }\n",
       "</style>\n",
       "<table border=\"1\" class=\"dataframe\">\n",
       "  <thead>\n",
       "    <tr style=\"text-align: right;\">\n",
       "      <th></th>\n",
       "      <th>Sep-2020</th>\n",
       "      <th>Ago-2021</th>\n",
       "      <th>Pct_Change</th>\n",
       "    </tr>\n",
       "  </thead>\n",
       "  <tbody>\n",
       "    <tr>\n",
       "      <th>ALVARO OBREGON</th>\n",
       "      <td>1243</td>\n",
       "      <td>1134</td>\n",
       "      <td>-0.087691</td>\n",
       "    </tr>\n",
       "    <tr>\n",
       "      <th>AZCAPOTZALCO</th>\n",
       "      <td>883</td>\n",
       "      <td>902</td>\n",
       "      <td>0.021518</td>\n",
       "    </tr>\n",
       "    <tr>\n",
       "      <th>BENITO JUAREZ</th>\n",
       "      <td>1232</td>\n",
       "      <td>1214</td>\n",
       "      <td>-0.014610</td>\n",
       "    </tr>\n",
       "    <tr>\n",
       "      <th>COYOACAN</th>\n",
       "      <td>1106</td>\n",
       "      <td>1151</td>\n",
       "      <td>0.040687</td>\n",
       "    </tr>\n",
       "    <tr>\n",
       "      <th>CUAJIMALPA DE MORELOS</th>\n",
       "      <td>292</td>\n",
       "      <td>292</td>\n",
       "      <td>0.000000</td>\n",
       "    </tr>\n",
       "    <tr>\n",
       "      <th>CUAUHTEMOC</th>\n",
       "      <td>2375</td>\n",
       "      <td>2451</td>\n",
       "      <td>0.032000</td>\n",
       "    </tr>\n",
       "    <tr>\n",
       "      <th>GUSTAVO A MADERO</th>\n",
       "      <td>1827</td>\n",
       "      <td>1840</td>\n",
       "      <td>0.007115</td>\n",
       "    </tr>\n",
       "    <tr>\n",
       "      <th>IZTACALCO</th>\n",
       "      <td>630</td>\n",
       "      <td>747</td>\n",
       "      <td>0.185714</td>\n",
       "    </tr>\n",
       "    <tr>\n",
       "      <th>IZTAPALAPA</th>\n",
       "      <td>2551</td>\n",
       "      <td>2456</td>\n",
       "      <td>-0.037240</td>\n",
       "    </tr>\n",
       "    <tr>\n",
       "      <th>LA MAGDALENA CONTRERAS</th>\n",
       "      <td>373</td>\n",
       "      <td>318</td>\n",
       "      <td>-0.147453</td>\n",
       "    </tr>\n",
       "    <tr>\n",
       "      <th>MIGUEL HIDALGO</th>\n",
       "      <td>1049</td>\n",
       "      <td>981</td>\n",
       "      <td>-0.064824</td>\n",
       "    </tr>\n",
       "    <tr>\n",
       "      <th>MILPA ALTA</th>\n",
       "      <td>175</td>\n",
       "      <td>179</td>\n",
       "      <td>0.022857</td>\n",
       "    </tr>\n",
       "    <tr>\n",
       "      <th>TLAHUAC</th>\n",
       "      <td>501</td>\n",
       "      <td>464</td>\n",
       "      <td>-0.073852</td>\n",
       "    </tr>\n",
       "    <tr>\n",
       "      <th>TLALPAN</th>\n",
       "      <td>1050</td>\n",
       "      <td>1050</td>\n",
       "      <td>0.000000</td>\n",
       "    </tr>\n",
       "    <tr>\n",
       "      <th>VENUSTIANO CARRANZA</th>\n",
       "      <td>992</td>\n",
       "      <td>960</td>\n",
       "      <td>-0.032258</td>\n",
       "    </tr>\n",
       "    <tr>\n",
       "      <th>XOCHIMILCO</th>\n",
       "      <td>599</td>\n",
       "      <td>561</td>\n",
       "      <td>-0.063439</td>\n",
       "    </tr>\n",
       "  </tbody>\n",
       "</table>\n",
       "</div>"
      ],
      "text/plain": [
       "                        Sep-2020  Ago-2021  Pct_Change\n",
       "ALVARO OBREGON              1243      1134   -0.087691\n",
       "AZCAPOTZALCO                 883       902    0.021518\n",
       "BENITO JUAREZ               1232      1214   -0.014610\n",
       "COYOACAN                    1106      1151    0.040687\n",
       "CUAJIMALPA DE MORELOS        292       292    0.000000\n",
       "CUAUHTEMOC                  2375      2451    0.032000\n",
       "GUSTAVO A MADERO            1827      1840    0.007115\n",
       "IZTACALCO                    630       747    0.185714\n",
       "IZTAPALAPA                  2551      2456   -0.037240\n",
       "LA MAGDALENA CONTRERAS       373       318   -0.147453\n",
       "MIGUEL HIDALGO              1049       981   -0.064824\n",
       "MILPA ALTA                   175       179    0.022857\n",
       "TLAHUAC                      501       464   -0.073852\n",
       "TLALPAN                     1050      1050    0.000000\n",
       "VENUSTIANO CARRANZA          992       960   -0.032258\n",
       "XOCHIMILCO                   599       561   -0.063439"
      ]
     },
     "execution_count": 39,
     "metadata": {},
     "output_type": "execute_result"
    }
   ],
   "source": [
    "alcaldias_rate"
   ]
  },
  {
   "cell_type": "code",
   "execution_count": 40,
   "id": "987f97b6",
   "metadata": {},
   "outputs": [
    {
     "data": {
      "text/html": [
       "<div>\n",
       "<style scoped>\n",
       "    .dataframe tbody tr th:only-of-type {\n",
       "        vertical-align: middle;\n",
       "    }\n",
       "\n",
       "    .dataframe tbody tr th {\n",
       "        vertical-align: top;\n",
       "    }\n",
       "\n",
       "    .dataframe thead th {\n",
       "        text-align: right;\n",
       "    }\n",
       "</style>\n",
       "<table border=\"1\" class=\"dataframe\">\n",
       "  <thead>\n",
       "    <tr style=\"text-align: right;\">\n",
       "      <th></th>\n",
       "      <th>Sep-2020</th>\n",
       "      <th>Ago-2021</th>\n",
       "      <th>Pct_Change</th>\n",
       "    </tr>\n",
       "  </thead>\n",
       "  <tbody>\n",
       "    <tr>\n",
       "      <th>IZTACALCO</th>\n",
       "      <td>630</td>\n",
       "      <td>747</td>\n",
       "      <td>0.185714</td>\n",
       "    </tr>\n",
       "    <tr>\n",
       "      <th>COYOACAN</th>\n",
       "      <td>1106</td>\n",
       "      <td>1151</td>\n",
       "      <td>0.040687</td>\n",
       "    </tr>\n",
       "    <tr>\n",
       "      <th>CUAUHTEMOC</th>\n",
       "      <td>2375</td>\n",
       "      <td>2451</td>\n",
       "      <td>0.032000</td>\n",
       "    </tr>\n",
       "    <tr>\n",
       "      <th>MILPA ALTA</th>\n",
       "      <td>175</td>\n",
       "      <td>179</td>\n",
       "      <td>0.022857</td>\n",
       "    </tr>\n",
       "    <tr>\n",
       "      <th>AZCAPOTZALCO</th>\n",
       "      <td>883</td>\n",
       "      <td>902</td>\n",
       "      <td>0.021518</td>\n",
       "    </tr>\n",
       "  </tbody>\n",
       "</table>\n",
       "</div>"
      ],
      "text/plain": [
       "              Sep-2020  Ago-2021  Pct_Change\n",
       "IZTACALCO          630       747    0.185714\n",
       "COYOACAN          1106      1151    0.040687\n",
       "CUAUHTEMOC        2375      2451    0.032000\n",
       "MILPA ALTA         175       179    0.022857\n",
       "AZCAPOTZALCO       883       902    0.021518"
      ]
     },
     "execution_count": 40,
     "metadata": {},
     "output_type": "execute_result"
    }
   ],
   "source": [
    "## Top 5 crime increase rate (least decrease rate)\n",
    "alcaldias_rate.sort_values(['Pct_Change'], ascending=False).head(5)"
   ]
  },
  {
   "cell_type": "code",
   "execution_count": 41,
   "id": "dbdc0fdd",
   "metadata": {},
   "outputs": [
    {
     "data": {
      "text/html": [
       "<div>\n",
       "<style scoped>\n",
       "    .dataframe tbody tr th:only-of-type {\n",
       "        vertical-align: middle;\n",
       "    }\n",
       "\n",
       "    .dataframe tbody tr th {\n",
       "        vertical-align: top;\n",
       "    }\n",
       "\n",
       "    .dataframe thead th {\n",
       "        text-align: right;\n",
       "    }\n",
       "</style>\n",
       "<table border=\"1\" class=\"dataframe\">\n",
       "  <thead>\n",
       "    <tr style=\"text-align: right;\">\n",
       "      <th></th>\n",
       "      <th>Sep-2020</th>\n",
       "      <th>Ago-2021</th>\n",
       "      <th>Pct_Change</th>\n",
       "    </tr>\n",
       "  </thead>\n",
       "  <tbody>\n",
       "    <tr>\n",
       "      <th>XOCHIMILCO</th>\n",
       "      <td>599</td>\n",
       "      <td>561</td>\n",
       "      <td>-0.063439</td>\n",
       "    </tr>\n",
       "    <tr>\n",
       "      <th>MIGUEL HIDALGO</th>\n",
       "      <td>1049</td>\n",
       "      <td>981</td>\n",
       "      <td>-0.064824</td>\n",
       "    </tr>\n",
       "    <tr>\n",
       "      <th>TLAHUAC</th>\n",
       "      <td>501</td>\n",
       "      <td>464</td>\n",
       "      <td>-0.073852</td>\n",
       "    </tr>\n",
       "    <tr>\n",
       "      <th>ALVARO OBREGON</th>\n",
       "      <td>1243</td>\n",
       "      <td>1134</td>\n",
       "      <td>-0.087691</td>\n",
       "    </tr>\n",
       "    <tr>\n",
       "      <th>LA MAGDALENA CONTRERAS</th>\n",
       "      <td>373</td>\n",
       "      <td>318</td>\n",
       "      <td>-0.147453</td>\n",
       "    </tr>\n",
       "  </tbody>\n",
       "</table>\n",
       "</div>"
      ],
      "text/plain": [
       "                        Sep-2020  Ago-2021  Pct_Change\n",
       "XOCHIMILCO                   599       561   -0.063439\n",
       "MIGUEL HIDALGO              1049       981   -0.064824\n",
       "TLAHUAC                      501       464   -0.073852\n",
       "ALVARO OBREGON              1243      1134   -0.087691\n",
       "LA MAGDALENA CONTRERAS       373       318   -0.147453"
      ]
     },
     "execution_count": 41,
     "metadata": {},
     "output_type": "execute_result"
    }
   ],
   "source": [
    "## Top 5 crime decrease rate\n",
    "alcaldias_rate.sort_values(['Pct_Change'], ascending=False).tail(5)"
   ]
  },
  {
   "cell_type": "code",
   "execution_count": 119,
   "id": "a27a62c3",
   "metadata": {},
   "outputs": [
    {
     "data": {
      "image/png": "[encoded data removed]",
      "text/plain": [
       "<Figure size 864x360 with 1 Axes>"
      ]
     },
     "metadata": {
      "needs_background": "light"
     },
     "output_type": "display_data"
    }
   ],
   "source": [
    "alcaldias_rate.sort_values(['Pct_Change'], ascending=False).plot(\n",
    "    kind='bar',\n",
    "    figsize=(12,5),\n",
    "    title=\"Índice Delictivo\")\n",
    "\n",
    "plt.xlabel('')\n",
    "plt.ylabel('Delitos')\n",
    "plt.grid(True, which='both', axis='y')\n",
    "plt.legend(bbox_to_anchor=(1,1))\n",
    "plt.show()"
   ]
  },
  {
   "cell_type": "markdown",
   "id": "2a56a491",
   "metadata": {},
   "source": [
    "### 5. Distinctive crimes by Alcaldía"
   ]
  },
  {
   "cell_type": "code",
   "execution_count": 43,
   "id": "a4f12687",
   "metadata": {},
   "outputs": [
    {
     "data": {
      "text/plain": [
       "344"
      ]
     },
     "execution_count": 43,
     "metadata": {},
     "output_type": "execute_result"
    }
   ],
   "source": [
    "len(delitos_list)"
   ]
  },
  {
   "cell_type": "code",
   "execution_count": 44,
   "id": "93760fd1",
   "metadata": {},
   "outputs": [
    {
     "data": {
      "text/plain": [
       "Index(['VIOLENCIA FAMILIAR', 'ROBO DE OBJETOS', 'FRAUDE', 'AMENAZAS',\n",
       "       'ROBO A NEGOCIO SIN VIOLENCIA',\n",
       "       'ROBO A TRANSEUNTE EN VIA PUBLICA CON VIOLENCIA',\n",
       "       'ROBO DE ACCESORIOS DE AUTO', 'DENUNCIA DE HECHOS',\n",
       "       'ROBO DE OBJETOS DEL INTERIOR DE UN VEHICULO',\n",
       "       'ROBO DE VEHICULO DE SERVICIO PARTICULAR SIN VIOLENCIA'],\n",
       "      dtype='object', name='delito')"
      ]
     },
     "execution_count": 44,
     "metadata": {},
     "output_type": "execute_result"
    }
   ],
   "source": [
    "top_delitos = FGJ_alcaldias.groupby('delito').count()['ao_hechos'].sort_values(ascending=False).head(10).index\n",
    "top_delitos"
   ]
  },
  {
   "cell_type": "code",
   "execution_count": 45,
   "id": "4295a0c1",
   "metadata": {},
   "outputs": [],
   "source": [
    "distinctive_crimes = pd.DataFrame(columns = [alcaldias_list.sort_values()], index = top_delitos.sort_values())"
   ]
  },
  {
   "cell_type": "code",
   "execution_count": 46,
   "id": "f12c9ba0",
   "metadata": {},
   "outputs": [],
   "source": [
    "for alcaldia in alcaldias_list:\n",
    "    distinctive_crimes[alcaldia] = FGJ_alcaldias[FGJ_alcaldias['alcaldia_hechos'] == alcaldia].groupby(['delito'])['ao_hechos'].count()"
   ]
  },
  {
   "cell_type": "code",
   "execution_count": 104,
   "id": "f4b7fb56",
   "metadata": {},
   "outputs": [
    {
     "data": {
      "text/html": [
       "<div>\n",
       "<style scoped>\n",
       "    .dataframe tbody tr th:only-of-type {\n",
       "        vertical-align: middle;\n",
       "    }\n",
       "\n",
       "    .dataframe tbody tr th {\n",
       "        vertical-align: top;\n",
       "    }\n",
       "\n",
       "    .dataframe thead tr th {\n",
       "        text-align: left;\n",
       "    }\n",
       "\n",
       "    .dataframe thead tr:last-of-type th {\n",
       "        text-align: right;\n",
       "    }\n",
       "</style>\n",
       "<table border=\"1\" class=\"dataframe\">\n",
       "  <thead>\n",
       "    <tr>\n",
       "      <th></th>\n",
       "      <th>ALVARO OBREGON</th>\n",
       "      <th>AZCAPOTZALCO</th>\n",
       "      <th>BENITO JUAREZ</th>\n",
       "      <th>COYOACAN</th>\n",
       "      <th>CUAJIMALPA DE MORELOS</th>\n",
       "      <th>CUAUHTEMOC</th>\n",
       "      <th>GUSTAVO A MADERO</th>\n",
       "      <th>IZTACALCO</th>\n",
       "      <th>IZTAPALAPA</th>\n",
       "      <th>LA MAGDALENA CONTRERAS</th>\n",
       "      <th>MIGUEL HIDALGO</th>\n",
       "      <th>MILPA ALTA</th>\n",
       "      <th>TLAHUAC</th>\n",
       "      <th>TLALPAN</th>\n",
       "      <th>VENUSTIANO CARRANZA</th>\n",
       "      <th>XOCHIMILCO</th>\n",
       "    </tr>\n",
       "    <tr>\n",
       "      <th>delito</th>\n",
       "      <th></th>\n",
       "      <th></th>\n",
       "      <th></th>\n",
       "      <th></th>\n",
       "      <th></th>\n",
       "      <th></th>\n",
       "      <th></th>\n",
       "      <th></th>\n",
       "      <th></th>\n",
       "      <th></th>\n",
       "      <th></th>\n",
       "      <th></th>\n",
       "      <th></th>\n",
       "      <th></th>\n",
       "      <th></th>\n",
       "      <th></th>\n",
       "    </tr>\n",
       "  </thead>\n",
       "  <tbody>\n",
       "    <tr>\n",
       "      <th>AMENAZAS</th>\n",
       "      <td>5203</td>\n",
       "      <td>4181</td>\n",
       "      <td>4239</td>\n",
       "      <td>4841</td>\n",
       "      <td>892</td>\n",
       "      <td>9118</td>\n",
       "      <td>7274</td>\n",
       "      <td>3067</td>\n",
       "      <td>11284</td>\n",
       "      <td>1747</td>\n",
       "      <td>3395</td>\n",
       "      <td>668</td>\n",
       "      <td>2322</td>\n",
       "      <td>5019</td>\n",
       "      <td>4530</td>\n",
       "      <td>2952</td>\n",
       "    </tr>\n",
       "    <tr>\n",
       "      <th>DENUNCIA DE HECHOS</th>\n",
       "      <td>2375</td>\n",
       "      <td>1236</td>\n",
       "      <td>2542</td>\n",
       "      <td>2699</td>\n",
       "      <td>353</td>\n",
       "      <td>7413</td>\n",
       "      <td>3491</td>\n",
       "      <td>1740</td>\n",
       "      <td>5232</td>\n",
       "      <td>505</td>\n",
       "      <td>1899</td>\n",
       "      <td>134</td>\n",
       "      <td>540</td>\n",
       "      <td>1702</td>\n",
       "      <td>3335</td>\n",
       "      <td>609</td>\n",
       "    </tr>\n",
       "    <tr>\n",
       "      <th>FRAUDE</th>\n",
       "      <td>4642</td>\n",
       "      <td>2973</td>\n",
       "      <td>9824</td>\n",
       "      <td>5212</td>\n",
       "      <td>1462</td>\n",
       "      <td>17747</td>\n",
       "      <td>5398</td>\n",
       "      <td>2217</td>\n",
       "      <td>6402</td>\n",
       "      <td>886</td>\n",
       "      <td>7130</td>\n",
       "      <td>288</td>\n",
       "      <td>1071</td>\n",
       "      <td>3941</td>\n",
       "      <td>2968</td>\n",
       "      <td>1514</td>\n",
       "    </tr>\n",
       "    <tr>\n",
       "      <th>ROBO A NEGOCIO SIN VIOLENCIA</th>\n",
       "      <td>4387</td>\n",
       "      <td>4057</td>\n",
       "      <td>7874</td>\n",
       "      <td>5431</td>\n",
       "      <td>1288</td>\n",
       "      <td>10810</td>\n",
       "      <td>7028</td>\n",
       "      <td>1381</td>\n",
       "      <td>10432</td>\n",
       "      <td>463</td>\n",
       "      <td>4715</td>\n",
       "      <td>166</td>\n",
       "      <td>608</td>\n",
       "      <td>4003</td>\n",
       "      <td>3357</td>\n",
       "      <td>1125</td>\n",
       "    </tr>\n",
       "    <tr>\n",
       "      <th>ROBO A TRANSEUNTE EN VIA PUBLICA CON VIOLENCIA</th>\n",
       "      <td>3990</td>\n",
       "      <td>3343</td>\n",
       "      <td>3664</td>\n",
       "      <td>3335</td>\n",
       "      <td>299</td>\n",
       "      <td>9852</td>\n",
       "      <td>6445</td>\n",
       "      <td>3406</td>\n",
       "      <td>12613</td>\n",
       "      <td>558</td>\n",
       "      <td>5450</td>\n",
       "      <td>223</td>\n",
       "      <td>1632</td>\n",
       "      <td>2157</td>\n",
       "      <td>4461</td>\n",
       "      <td>2168</td>\n",
       "    </tr>\n",
       "    <tr>\n",
       "      <th>ROBO DE ACCESORIOS DE AUTO</th>\n",
       "      <td>2147</td>\n",
       "      <td>2097</td>\n",
       "      <td>8660</td>\n",
       "      <td>3334</td>\n",
       "      <td>245</td>\n",
       "      <td>7467</td>\n",
       "      <td>3985</td>\n",
       "      <td>1761</td>\n",
       "      <td>3344</td>\n",
       "      <td>429</td>\n",
       "      <td>2461</td>\n",
       "      <td>77</td>\n",
       "      <td>418</td>\n",
       "      <td>2319</td>\n",
       "      <td>2245</td>\n",
       "      <td>590</td>\n",
       "    </tr>\n",
       "    <tr>\n",
       "      <th>ROBO DE OBJETOS</th>\n",
       "      <td>4605</td>\n",
       "      <td>3717</td>\n",
       "      <td>6434</td>\n",
       "      <td>5885</td>\n",
       "      <td>1159</td>\n",
       "      <td>14395</td>\n",
       "      <td>5999</td>\n",
       "      <td>2561</td>\n",
       "      <td>9714</td>\n",
       "      <td>875</td>\n",
       "      <td>6443</td>\n",
       "      <td>333</td>\n",
       "      <td>1380</td>\n",
       "      <td>4647</td>\n",
       "      <td>4670</td>\n",
       "      <td>1765</td>\n",
       "    </tr>\n",
       "    <tr>\n",
       "      <th>ROBO DE OBJETOS DEL INTERIOR DE UN VEHICULO</th>\n",
       "      <td>3349</td>\n",
       "      <td>2226</td>\n",
       "      <td>4128</td>\n",
       "      <td>3975</td>\n",
       "      <td>570</td>\n",
       "      <td>3806</td>\n",
       "      <td>2509</td>\n",
       "      <td>1530</td>\n",
       "      <td>3978</td>\n",
       "      <td>492</td>\n",
       "      <td>3640</td>\n",
       "      <td>78</td>\n",
       "      <td>380</td>\n",
       "      <td>2635</td>\n",
       "      <td>1511</td>\n",
       "      <td>964</td>\n",
       "    </tr>\n",
       "    <tr>\n",
       "      <th>ROBO DE VEHICULO DE SERVICIO PARTICULAR SIN VIOLENCIA</th>\n",
       "      <td>2306</td>\n",
       "      <td>1860</td>\n",
       "      <td>2748</td>\n",
       "      <td>2781</td>\n",
       "      <td>281</td>\n",
       "      <td>1827</td>\n",
       "      <td>4303</td>\n",
       "      <td>1513</td>\n",
       "      <td>5699</td>\n",
       "      <td>564</td>\n",
       "      <td>1470</td>\n",
       "      <td>274</td>\n",
       "      <td>1018</td>\n",
       "      <td>2399</td>\n",
       "      <td>1527</td>\n",
       "      <td>1649</td>\n",
       "    </tr>\n",
       "    <tr>\n",
       "      <th>VIOLENCIA FAMILIAR</th>\n",
       "      <td>10254</td>\n",
       "      <td>6510</td>\n",
       "      <td>4998</td>\n",
       "      <td>8926</td>\n",
       "      <td>2481</td>\n",
       "      <td>10842</td>\n",
       "      <td>16113</td>\n",
       "      <td>7992</td>\n",
       "      <td>24614</td>\n",
       "      <td>5002</td>\n",
       "      <td>4778</td>\n",
       "      <td>2224</td>\n",
       "      <td>5890</td>\n",
       "      <td>9833</td>\n",
       "      <td>7584</td>\n",
       "      <td>6865</td>\n",
       "    </tr>\n",
       "  </tbody>\n",
       "</table>\n",
       "</div>"
      ],
      "text/plain": [
       "                                                   ALVARO OBREGON  \\\n",
       "delito                                                              \n",
       "AMENAZAS                                                     5203   \n",
       "DENUNCIA DE HECHOS                                           2375   \n",
       "FRAUDE                                                       4642   \n",
       "ROBO A NEGOCIO SIN VIOLENCIA                                 4387   \n",
       "ROBO A TRANSEUNTE EN VIA PUBLICA CON VIOLENCIA               3990   \n",
       "ROBO DE ACCESORIOS DE AUTO                                   2147   \n",
       "ROBO DE OBJETOS                                              4605   \n",
       "ROBO DE OBJETOS DEL INTERIOR DE UN VEHICULO                  3349   \n",
       "ROBO DE VEHICULO DE SERVICIO PARTICULAR SIN VIO...           2306   \n",
       "VIOLENCIA FAMILIAR                                          10254   \n",
       "\n",
       "                                                   AZCAPOTZALCO BENITO JUAREZ  \\\n",
       "delito                                                                          \n",
       "AMENAZAS                                                   4181          4239   \n",
       "DENUNCIA DE HECHOS                                         1236          2542   \n",
       "FRAUDE                                                     2973          9824   \n",
       "ROBO A NEGOCIO SIN VIOLENCIA                               4057          7874   \n",
       "ROBO A TRANSEUNTE EN VIA PUBLICA CON VIOLENCIA             3343          3664   \n",
       "ROBO DE ACCESORIOS DE AUTO                                 2097          8660   \n",
       "ROBO DE OBJETOS                                            3717          6434   \n",
       "ROBO DE OBJETOS DEL INTERIOR DE UN VEHICULO                2226          4128   \n",
       "ROBO DE VEHICULO DE SERVICIO PARTICULAR SIN VIO...         1860          2748   \n",
       "VIOLENCIA FAMILIAR                                         6510          4998   \n",
       "\n",
       "                                                   COYOACAN  \\\n",
       "delito                                                        \n",
       "AMENAZAS                                               4841   \n",
       "DENUNCIA DE HECHOS                                     2699   \n",
       "FRAUDE                                                 5212   \n",
       "ROBO A NEGOCIO SIN VIOLENCIA                           5431   \n",
       "ROBO A TRANSEUNTE EN VIA PUBLICA CON VIOLENCIA         3335   \n",
       "ROBO DE ACCESORIOS DE AUTO                             3334   \n",
       "ROBO DE OBJETOS                                        5885   \n",
       "ROBO DE OBJETOS DEL INTERIOR DE UN VEHICULO            3975   \n",
       "ROBO DE VEHICULO DE SERVICIO PARTICULAR SIN VIO...     2781   \n",
       "VIOLENCIA FAMILIAR                                     8926   \n",
       "\n",
       "                                                   CUAJIMALPA DE MORELOS  \\\n",
       "delito                                                                     \n",
       "AMENAZAS                                                             892   \n",
       "DENUNCIA DE HECHOS                                                   353   \n",
       "FRAUDE                                                              1462   \n",
       "ROBO A NEGOCIO SIN VIOLENCIA                                        1288   \n",
       "ROBO A TRANSEUNTE EN VIA PUBLICA CON VIOLENCIA                       299   \n",
       "ROBO DE ACCESORIOS DE AUTO                                           245   \n",
       "ROBO DE OBJETOS                                                     1159   \n",
       "ROBO DE OBJETOS DEL INTERIOR DE UN VEHICULO                          570   \n",
       "ROBO DE VEHICULO DE SERVICIO PARTICULAR SIN VIO...                   281   \n",
       "VIOLENCIA FAMILIAR                                                  2481   \n",
       "\n",
       "                                                   CUAUHTEMOC  \\\n",
       "delito                                                          \n",
       "AMENAZAS                                                 9118   \n",
       "DENUNCIA DE HECHOS                                       7413   \n",
       "FRAUDE                                                  17747   \n",
       "ROBO A NEGOCIO SIN VIOLENCIA                            10810   \n",
       "ROBO A TRANSEUNTE EN VIA PUBLICA CON VIOLENCIA           9852   \n",
       "ROBO DE ACCESORIOS DE AUTO                               7467   \n",
       "ROBO DE OBJETOS                                         14395   \n",
       "ROBO DE OBJETOS DEL INTERIOR DE UN VEHICULO              3806   \n",
       "ROBO DE VEHICULO DE SERVICIO PARTICULAR SIN VIO...       1827   \n",
       "VIOLENCIA FAMILIAR                                      10842   \n",
       "\n",
       "                                                   GUSTAVO A MADERO IZTACALCO  \\\n",
       "delito                                                                          \n",
       "AMENAZAS                                                       7274      3067   \n",
       "DENUNCIA DE HECHOS                                             3491      1740   \n",
       "FRAUDE                                                         5398      2217   \n",
       "ROBO A NEGOCIO SIN VIOLENCIA                                   7028      1381   \n",
       "ROBO A TRANSEUNTE EN VIA PUBLICA CON VIOLENCIA                 6445      3406   \n",
       "ROBO DE ACCESORIOS DE AUTO                                     3985      1761   \n",
       "ROBO DE OBJETOS                                                5999      2561   \n",
       "ROBO DE OBJETOS DEL INTERIOR DE UN VEHICULO                    2509      1530   \n",
       "ROBO DE VEHICULO DE SERVICIO PARTICULAR SIN VIO...             4303      1513   \n",
       "VIOLENCIA FAMILIAR                                            16113      7992   \n",
       "\n",
       "                                                   IZTAPALAPA  \\\n",
       "delito                                                          \n",
       "AMENAZAS                                                11284   \n",
       "DENUNCIA DE HECHOS                                       5232   \n",
       "FRAUDE                                                   6402   \n",
       "ROBO A NEGOCIO SIN VIOLENCIA                            10432   \n",
       "ROBO A TRANSEUNTE EN VIA PUBLICA CON VIOLENCIA          12613   \n",
       "ROBO DE ACCESORIOS DE AUTO                               3344   \n",
       "ROBO DE OBJETOS                                          9714   \n",
       "ROBO DE OBJETOS DEL INTERIOR DE UN VEHICULO              3978   \n",
       "ROBO DE VEHICULO DE SERVICIO PARTICULAR SIN VIO...       5699   \n",
       "VIOLENCIA FAMILIAR                                      24614   \n",
       "\n",
       "                                                   LA MAGDALENA CONTRERAS  \\\n",
       "delito                                                                      \n",
       "AMENAZAS                                                             1747   \n",
       "DENUNCIA DE HECHOS                                                    505   \n",
       "FRAUDE                                                                886   \n",
       "ROBO A NEGOCIO SIN VIOLENCIA                                          463   \n",
       "ROBO A TRANSEUNTE EN VIA PUBLICA CON VIOLENCIA                        558   \n",
       "ROBO DE ACCESORIOS DE AUTO                                            429   \n",
       "ROBO DE OBJETOS                                                       875   \n",
       "ROBO DE OBJETOS DEL INTERIOR DE UN VEHICULO                           492   \n",
       "ROBO DE VEHICULO DE SERVICIO PARTICULAR SIN VIO...                    564   \n",
       "VIOLENCIA FAMILIAR                                                   5002   \n",
       "\n",
       "                                                   MIGUEL HIDALGO MILPA ALTA  \\\n",
       "delito                                                                         \n",
       "AMENAZAS                                                     3395        668   \n",
       "DENUNCIA DE HECHOS                                           1899        134   \n",
       "FRAUDE                                                       7130        288   \n",
       "ROBO A NEGOCIO SIN VIOLENCIA                                 4715        166   \n",
       "ROBO A TRANSEUNTE EN VIA PUBLICA CON VIOLENCIA               5450        223   \n",
       "ROBO DE ACCESORIOS DE AUTO                                   2461         77   \n",
       "ROBO DE OBJETOS                                              6443        333   \n",
       "ROBO DE OBJETOS DEL INTERIOR DE UN VEHICULO                  3640         78   \n",
       "ROBO DE VEHICULO DE SERVICIO PARTICULAR SIN VIO...           1470        274   \n",
       "VIOLENCIA FAMILIAR                                           4778       2224   \n",
       "\n",
       "                                                   TLAHUAC TLALPAN  \\\n",
       "delito                                                               \n",
       "AMENAZAS                                              2322    5019   \n",
       "DENUNCIA DE HECHOS                                     540    1702   \n",
       "FRAUDE                                                1071    3941   \n",
       "ROBO A NEGOCIO SIN VIOLENCIA                           608    4003   \n",
       "ROBO A TRANSEUNTE EN VIA PUBLICA CON VIOLENCIA        1632    2157   \n",
       "ROBO DE ACCESORIOS DE AUTO                             418    2319   \n",
       "ROBO DE OBJETOS                                       1380    4647   \n",
       "ROBO DE OBJETOS DEL INTERIOR DE UN VEHICULO            380    2635   \n",
       "ROBO DE VEHICULO DE SERVICIO PARTICULAR SIN VIO...    1018    2399   \n",
       "VIOLENCIA FAMILIAR                                    5890    9833   \n",
       "\n",
       "                                                   VENUSTIANO CARRANZA  \\\n",
       "delito                                                                   \n",
       "AMENAZAS                                                          4530   \n",
       "DENUNCIA DE HECHOS                                                3335   \n",
       "FRAUDE                                                            2968   \n",
       "ROBO A NEGOCIO SIN VIOLENCIA                                      3357   \n",
       "ROBO A TRANSEUNTE EN VIA PUBLICA CON VIOLENCIA                    4461   \n",
       "ROBO DE ACCESORIOS DE AUTO                                        2245   \n",
       "ROBO DE OBJETOS                                                   4670   \n",
       "ROBO DE OBJETOS DEL INTERIOR DE UN VEHICULO                       1511   \n",
       "ROBO DE VEHICULO DE SERVICIO PARTICULAR SIN VIO...                1527   \n",
       "VIOLENCIA FAMILIAR                                                7584   \n",
       "\n",
       "                                                   XOCHIMILCO  \n",
       "delito                                                         \n",
       "AMENAZAS                                                 2952  \n",
       "DENUNCIA DE HECHOS                                        609  \n",
       "FRAUDE                                                   1514  \n",
       "ROBO A NEGOCIO SIN VIOLENCIA                             1125  \n",
       "ROBO A TRANSEUNTE EN VIA PUBLICA CON VIOLENCIA           2168  \n",
       "ROBO DE ACCESORIOS DE AUTO                                590  \n",
       "ROBO DE OBJETOS                                          1765  \n",
       "ROBO DE OBJETOS DEL INTERIOR DE UN VEHICULO               964  \n",
       "ROBO DE VEHICULO DE SERVICIO PARTICULAR SIN VIO...       1649  \n",
       "VIOLENCIA FAMILIAR                                       6865  "
      ]
     },
     "execution_count": 104,
     "metadata": {},
     "output_type": "execute_result"
    }
   ],
   "source": [
    "distinctive_crimes"
   ]
  },
  {
   "cell_type": "code",
   "execution_count": 120,
   "id": "94f180fd",
   "metadata": {},
   "outputs": [],
   "source": [
    "## Compute proportional crime rates\n",
    "for alcaldia in alcaldias_list:\n",
    "    distinctive_crimes[alcaldia] = distinctive_crimes[alcaldia] / distinctive_crimes[alcaldia].sum() "
   ]
  },
  {
   "cell_type": "code",
   "execution_count": 143,
   "id": "6020295e",
   "metadata": {},
   "outputs": [
    {
     "data": {
      "image/png": "[encoded data removed]",
      "text/plain": [
       "<Figure size 720x576 with 1 Axes>"
      ]
     },
     "metadata": {
      "needs_background": "light"
     },
     "output_type": "display_data"
    }
   ],
   "source": [
    "distinctive_crimes.T.sort_index(ascending=False).plot(\n",
    "    kind='barh',\n",
    "    figsize=(10,8),\n",
    "    stacked=True,\n",
    "    legend=True,\n",
    "    title=\"Delitos característicos\")\n",
    "\n",
    "plt.xlabel('Proporción Incidencia [%]')\n",
    "plt.ylabel('')\n",
    "plt.legend(bbox_to_anchor=(1.025,1.015))\n",
    "plt.show()"
   ]
  },
  {
   "cell_type": "code",
   "execution_count": 128,
   "id": "fae6b864",
   "metadata": {},
   "outputs": [],
   "source": [
    "# distinctive_crimes.sort_index(ascending=False).plot(kind='barh', stacked=True, legend=True)\n",
    "# plt.legend(bbox_to_anchor=(1.2,1.05))\n",
    "# plt.show()"
   ]
  },
  {
   "cell_type": "markdown",
   "id": "41e44d34",
   "metadata": {},
   "source": [
    "### 6. Crime seasonality"
   ]
  },
  {
   "cell_type": "code",
   "execution_count": 90,
   "id": "aabddd87",
   "metadata": {},
   "outputs": [
    {
     "data": {
      "image/png": "[encoded data removed]",
      "text/plain": [
       "<Figure size 1080x360 with 1 Axes>"
      ]
     },
     "metadata": {
      "needs_background": "light"
     },
     "output_type": "display_data"
    }
   ],
   "source": [
    "FGJ_alcaldias.groupby([pd.Grouper(freq='m')]).count()['delito'].plot(\n",
    "    kind='line',\n",
    "    figsize=(15,5),\n",
    "    color='red',\n",
    "    title='Incidencia Delictiva')\n",
    "\n",
    "plt.xlabel('Fecha')\n",
    "plt.ylabel('Delitos')\n",
    "plt.grid(True, which='both', axis='x')\n",
    "plt.show()"
   ]
  },
  {
   "cell_type": "code",
   "execution_count": 80,
   "id": "e498a3ab",
   "metadata": {},
   "outputs": [
    {
     "data": {
      "image/png": "[encoded data removed]",
      "text/plain": [
       "<Figure size 720x360 with 1 Axes>"
      ]
     },
     "metadata": {
      "needs_background": "light"
     },
     "output_type": "display_data"
    }
   ],
   "source": [
    "FGJ_alcaldias.groupby(FGJ_alcaldias.index.month).count()['delito'].plot(\n",
    "    kind='bar',\n",
    "    figsize=(10,5),\n",
    "    color='gray',\n",
    "    title='Estacionalidad por mes')\n",
    "\n",
    "plt.xlabel('Mes')\n",
    "plt.ylabel('Delitos')\n",
    "plt.show()"
   ]
  },
  {
   "cell_type": "code",
   "execution_count": 144,
   "id": "4f4afa53",
   "metadata": {},
   "outputs": [
    {
     "data": {
      "image/png": "[encoded data removed]",
      "text/plain": [
       "<Figure size 720x360 with 1 Axes>"
      ]
     },
     "metadata": {
      "needs_background": "light"
     },
     "output_type": "display_data"
    }
   ],
   "source": [
    "FGJ_alcaldias.groupby(FGJ_alcaldias.index.isocalendar().week).count()['delito'].plot(\n",
    "    kind='bar',\n",
    "    figsize=(10,5),\n",
    "    color='orange',\n",
    "    title='Estacionalidad por semana')\n",
    "\n",
    "plt.xlabel('Semana')\n",
    "plt.ylabel('Delitos')\n",
    "plt.show()"
   ]
  },
  {
   "cell_type": "code",
   "execution_count": 82,
   "id": "99dc839a",
   "metadata": {},
   "outputs": [
    {
     "data": {
      "image/png": "[encoded data removed]",
      "text/plain": [
       "<Figure size 720x360 with 1 Axes>"
      ]
     },
     "metadata": {
      "needs_background": "light"
     },
     "output_type": "display_data"
    }
   ],
   "source": [
    "FGJ_alcaldias.groupby(FGJ_alcaldias.index.day).count()['delito'].plot(\n",
    "    kind='bar',\n",
    "    figsize=(10,5),\n",
    "    color='purple',\n",
    "    title='Estacionalidad por día')\n",
    "\n",
    "plt.xlabel('Día')\n",
    "plt.ylabel('Delitos')\n",
    "plt.show()"
   ]
  },
  {
   "cell_type": "markdown",
   "id": "5c328182",
   "metadata": {},
   "source": [
    "### 7. Crime concentration"
   ]
  },
  {
   "cell_type": "code",
   "execution_count": 53,
   "id": "d222214a",
   "metadata": {},
   "outputs": [
    {
     "name": "stdout",
     "output_type": "stream",
     "text": [
      "Total delitos: 1,264,614\n",
      "95% = 1,201,383.3 delitos\n",
      "\n",
      "Total colonias: 1,642\n",
      "3% = 49.3 colonias\n"
     ]
    }
   ],
   "source": [
    "total_delitos = len(FGJ_alcaldias)\n",
    "total_colonias = len(FGJ_alcaldias['colonia_hechos'].unique())\n",
    "\n",
    "print(f\"Total delitos: {total_delitos :,}\")\n",
    "print(f\"95% = {total_delitos * 0.95 :,.1f} delitos\")\n",
    "print(f\"\\nTotal colonias: {total_colonias :,}\")\n",
    "print(f\"3% = {total_colonias * .03 :,.1f} colonias\")"
   ]
  },
  {
   "cell_type": "code",
   "execution_count": 55,
   "id": "e14e1fc0",
   "metadata": {},
   "outputs": [
    {
     "name": "stdout",
     "output_type": "stream",
     "text": [
      "Delitos (50 colonias): 382,240\n",
      "Concentración (50 colonias) = 30.2%\n"
     ]
    }
   ],
   "source": [
    "delitos_50 = FGJ_alcaldias.groupby('colonia_hechos').count()['delito'].sort_values(ascending=False).head(50).values.sum()\n",
    "\n",
    "print(f\"Delitos (50 colonias): {delitos_50:,}\")\n",
    "print(f\"Concentración (50 colonias) = {delitos_50 / total_delitos * 100 :.1f}%\")"
   ]
  },
  {
   "cell_type": "code",
   "execution_count": 76,
   "id": "ff7568d2",
   "metadata": {},
   "outputs": [
    {
     "data": {
      "image/png": "[encoded data removed]",
      "text/plain": [
       "<Figure size 432x288 with 1 Axes>"
      ]
     },
     "metadata": {
      "needs_background": "light"
     },
     "output_type": "display_data"
    }
   ],
   "source": [
    "FGJ_alcaldias.groupby('colonia_hechos').count()['delito'].sort_values(ascending=False).plot(\n",
    "    kind='line',\n",
    "    color='green',\n",
    "    title=\"Distribución (delitos por colonia)\",\n",
    "    xticks=[])\n",
    "\n",
    "plt.xlabel('Colonias')\n",
    "plt.ylabel('Delitos')\n",
    "plt.show()"
   ]
  },
  {
   "cell_type": "code",
   "execution_count": null,
   "id": "7401028e",
   "metadata": {},
   "outputs": [],
   "source": []
  },
  {
   "cell_type": "code",
   "execution_count": null,
   "id": "a18e27b9",
   "metadata": {},
   "outputs": [],
   "source": []
  },
  {
   "cell_type": "code",
   "execution_count": null,
   "id": "56f30eb8",
   "metadata": {},
   "outputs": [],
   "source": []
  },
  {
   "cell_type": "code",
   "execution_count": null,
   "id": "2dd7dc1c",
   "metadata": {},
   "outputs": [],
   "source": []
  }
 ],
 "metadata": {
  "kernelspec": {
   "display_name": "Python 3",
   "language": "python",
   "name": "python3"
  },
  "language_info": {
   "codemirror_mode": {
    "name": "ipython",
    "version": 3
   },
   "file_extension": ".py",
   "mimetype": "text/x-python",
   "name": "python",
   "nbconvert_exporter": "python",
   "pygments_lexer": "ipython3",
   "version": "3.8.8"
  }
 },
 "nbformat": 4,
 "nbformat_minor": 5
}
