{
 "cells": [
  {
   "cell_type": "markdown",
   "id": "9e8c8ecd",
   "metadata": {},
   "source": [
    "# OPI analytics\n",
    "## Mexico City's crime exploratory analysis"
   ]
  },
  {
   "cell_type": "code",
   "execution_count": 1,
   "id": "08794bcb",
   "metadata": {},
   "outputs": [],
   "source": [
    "## Dependencies\n",
    "import pandas as pd\n",
    "import matplotlib.pyplot as plt"
   ]
  },
  {
   "cell_type": "markdown",
   "id": "1b88949c",
   "metadata": {},
   "source": [
    "### A. Data collection"
   ]
  },
  {
   "cell_type": "code",
   "execution_count": 2,
   "id": "5c2b8857",
   "metadata": {},
   "outputs": [],
   "source": [
    "## Import data from FGJ open cases CSV file\n",
    "## Reference: https://datos.cdmx.gob.mx/dataset/carpetas-de-investigacion-fgj-de-la-ciudad-de-mexico/resource/48fcb848-220c-4af0-839b-4fd8ac812c0f\n",
    "FGJ_data = pd.read_csv('data/carpetas_completa_septiembre_2021.csv', low_memory=False)"
   ]
  },
  {
   "cell_type": "markdown",
   "id": "62a1a381",
   "metadata": {},
   "source": [
    "### B. Data exploration"
   ]
  },
  {
   "cell_type": "code",
   "execution_count": 3,
   "id": "e31352a8",
   "metadata": {},
   "outputs": [
    {
     "data": {
      "text/html": [
       "<div>\n",
       "<style scoped>\n",
       "    .dataframe tbody tr th:only-of-type {\n",
       "        vertical-align: middle;\n",
       "    }\n",
       "\n",
       "    .dataframe tbody tr th {\n",
       "        vertical-align: top;\n",
       "    }\n",
       "\n",
       "    .dataframe thead th {\n",
       "        text-align: right;\n",
       "    }\n",
       "</style>\n",
       "<table border=\"1\" class=\"dataframe\">\n",
       "  <thead>\n",
       "    <tr style=\"text-align: right;\">\n",
       "      <th></th>\n",
       "      <th>ao_hechos</th>\n",
       "      <th>mes_hechos</th>\n",
       "      <th>fecha_hechos</th>\n",
       "      <th>ao_inicio</th>\n",
       "      <th>mes_inicio</th>\n",
       "      <th>fecha_inicio</th>\n",
       "      <th>delito</th>\n",
       "      <th>fiscalia</th>\n",
       "      <th>agencia</th>\n",
       "      <th>unidad_investigacion</th>\n",
       "      <th>categoria_delito</th>\n",
       "      <th>calle_hechos</th>\n",
       "      <th>calle_hechos2</th>\n",
       "      <th>colonia_hechos</th>\n",
       "      <th>alcaldia_hechos</th>\n",
       "      <th>competencia</th>\n",
       "      <th>longitud</th>\n",
       "      <th>latitud</th>\n",
       "      <th>tempo</th>\n",
       "    </tr>\n",
       "  </thead>\n",
       "  <tbody>\n",
       "    <tr>\n",
       "      <th>0</th>\n",
       "      <td>2016.0</td>\n",
       "      <td>Enero</td>\n",
       "      <td>2016-01-31 22:16:00</td>\n",
       "      <td>2016</td>\n",
       "      <td>Febrero</td>\n",
       "      <td>2016-02-01 00:25:44</td>\n",
       "      <td>DAÑO EN PROPIEDAD AJENA INTENCIONAL</td>\n",
       "      <td>INVESTIGACIÓN EN BENITO JUÁREZ</td>\n",
       "      <td>BJ-2</td>\n",
       "      <td>UI-3CD</td>\n",
       "      <td>DELITO DE BAJO IMPACTO</td>\n",
       "      <td>CALZ. DE TLALPAN</td>\n",
       "      <td>LAGO PTE.</td>\n",
       "      <td>AMÉRICAS UNIDAS</td>\n",
       "      <td>BENITO JUAREZ</td>\n",
       "      <td>NaN</td>\n",
       "      <td>-99.140215</td>\n",
       "      <td>19.380315</td>\n",
       "      <td>NaN</td>\n",
       "    </tr>\n",
       "    <tr>\n",
       "      <th>1</th>\n",
       "      <td>2016.0</td>\n",
       "      <td>Enero</td>\n",
       "      <td>2016-01-31 20:50:00</td>\n",
       "      <td>2016</td>\n",
       "      <td>Febrero</td>\n",
       "      <td>2016-02-01 00:52:37</td>\n",
       "      <td>ROBO DE VEHICULO DE SERVICIO PARTICULAR CON VI...</td>\n",
       "      <td>INVESTIGACIÓN PARA LA ATENCIÓN DEL DELITO DE R...</td>\n",
       "      <td>ORIENTEII</td>\n",
       "      <td>UI-3CD</td>\n",
       "      <td>ROBO DE VEHÍCULO CON Y SIN VIOLENCIA</td>\n",
       "      <td>SUR 25 A</td>\n",
       "      <td>GRANJEROS</td>\n",
       "      <td>LOS CIPRESES</td>\n",
       "      <td>IZTAPALAPA</td>\n",
       "      <td>NaN</td>\n",
       "      <td>-99.108403</td>\n",
       "      <td>19.352859</td>\n",
       "      <td>NaN</td>\n",
       "    </tr>\n",
       "    <tr>\n",
       "      <th>2</th>\n",
       "      <td>2016.0</td>\n",
       "      <td>Febrero</td>\n",
       "      <td>2016-02-01 00:30:00</td>\n",
       "      <td>2016</td>\n",
       "      <td>Febrero</td>\n",
       "      <td>2016-02-01 01:33:26</td>\n",
       "      <td>NARCOMENUDEO POSESION SIMPLE</td>\n",
       "      <td>INVESTIGACIÓN PARA LA ATENCIÓN DE NIÑOS, NIÑAS...</td>\n",
       "      <td>57</td>\n",
       "      <td>UI-3CD</td>\n",
       "      <td>DELITO DE BAJO IMPACTO</td>\n",
       "      <td>BATALLONES ROJOS</td>\n",
       "      <td>NaN</td>\n",
       "      <td>UNIDAD VICENTE GUERRERO</td>\n",
       "      <td>IZTAPALAPA</td>\n",
       "      <td>NaN</td>\n",
       "      <td>-99.061321</td>\n",
       "      <td>19.356451</td>\n",
       "      <td>NaN</td>\n",
       "    </tr>\n",
       "  </tbody>\n",
       "</table>\n",
       "</div>"
      ],
      "text/plain": [
       "   ao_hechos mes_hechos         fecha_hechos  ao_inicio mes_inicio  \\\n",
       "0     2016.0      Enero  2016-01-31 22:16:00       2016    Febrero   \n",
       "1     2016.0      Enero  2016-01-31 20:50:00       2016    Febrero   \n",
       "2     2016.0    Febrero  2016-02-01 00:30:00       2016    Febrero   \n",
       "\n",
       "          fecha_inicio                                             delito  \\\n",
       "0  2016-02-01 00:25:44                DAÑO EN PROPIEDAD AJENA INTENCIONAL   \n",
       "1  2016-02-01 00:52:37  ROBO DE VEHICULO DE SERVICIO PARTICULAR CON VI...   \n",
       "2  2016-02-01 01:33:26                       NARCOMENUDEO POSESION SIMPLE   \n",
       "\n",
       "                                            fiscalia    agencia  \\\n",
       "0                     INVESTIGACIÓN EN BENITO JUÁREZ       BJ-2   \n",
       "1  INVESTIGACIÓN PARA LA ATENCIÓN DEL DELITO DE R...  ORIENTEII   \n",
       "2  INVESTIGACIÓN PARA LA ATENCIÓN DE NIÑOS, NIÑAS...         57   \n",
       "\n",
       "  unidad_investigacion                      categoria_delito  \\\n",
       "0               UI-3CD                DELITO DE BAJO IMPACTO   \n",
       "1               UI-3CD  ROBO DE VEHÍCULO CON Y SIN VIOLENCIA   \n",
       "2               UI-3CD                DELITO DE BAJO IMPACTO   \n",
       "\n",
       "       calle_hechos calle_hechos2           colonia_hechos alcaldia_hechos  \\\n",
       "0  CALZ. DE TLALPAN     LAGO PTE.          AMÉRICAS UNIDAS   BENITO JUAREZ   \n",
       "1          SUR 25 A     GRANJEROS             LOS CIPRESES      IZTAPALAPA   \n",
       "2  BATALLONES ROJOS           NaN  UNIDAD VICENTE GUERRERO      IZTAPALAPA   \n",
       "\n",
       "  competencia   longitud    latitud  tempo  \n",
       "0         NaN -99.140215  19.380315    NaN  \n",
       "1         NaN -99.108403  19.352859    NaN  \n",
       "2         NaN -99.061321  19.356451    NaN  "
      ]
     },
     "execution_count": 3,
     "metadata": {},
     "output_type": "execute_result"
    }
   ],
   "source": [
    "FGJ_data.head(3)"
   ]
  },
  {
   "cell_type": "code",
   "execution_count": 4,
   "id": "37e670c7",
   "metadata": {},
   "outputs": [
    {
     "data": {
      "text/html": [
       "<div>\n",
       "<style scoped>\n",
       "    .dataframe tbody tr th:only-of-type {\n",
       "        vertical-align: middle;\n",
       "    }\n",
       "\n",
       "    .dataframe tbody tr th {\n",
       "        vertical-align: top;\n",
       "    }\n",
       "\n",
       "    .dataframe thead th {\n",
       "        text-align: right;\n",
       "    }\n",
       "</style>\n",
       "<table border=\"1\" class=\"dataframe\">\n",
       "  <thead>\n",
       "    <tr style=\"text-align: right;\">\n",
       "      <th></th>\n",
       "      <th>ao_hechos</th>\n",
       "      <th>mes_hechos</th>\n",
       "      <th>fecha_hechos</th>\n",
       "      <th>ao_inicio</th>\n",
       "      <th>mes_inicio</th>\n",
       "      <th>fecha_inicio</th>\n",
       "      <th>delito</th>\n",
       "      <th>fiscalia</th>\n",
       "      <th>agencia</th>\n",
       "      <th>unidad_investigacion</th>\n",
       "      <th>categoria_delito</th>\n",
       "      <th>calle_hechos</th>\n",
       "      <th>calle_hechos2</th>\n",
       "      <th>colonia_hechos</th>\n",
       "      <th>alcaldia_hechos</th>\n",
       "      <th>competencia</th>\n",
       "      <th>longitud</th>\n",
       "      <th>latitud</th>\n",
       "      <th>tempo</th>\n",
       "    </tr>\n",
       "  </thead>\n",
       "  <tbody>\n",
       "    <tr>\n",
       "      <th>1307208</th>\n",
       "      <td>2021.0</td>\n",
       "      <td>Septiembre</td>\n",
       "      <td>2021-09-07 20:47:00</td>\n",
       "      <td>2021</td>\n",
       "      <td>Septiembre</td>\n",
       "      <td>2021-09-30 23:54:06</td>\n",
       "      <td>DAÑO EN PROPIEDAD AJENA CULPOSA</td>\n",
       "      <td>FISCALÍA DE INVESTIGACIÓN TERRITORIAL EN IZTAP...</td>\n",
       "      <td>IZP-6</td>\n",
       "      <td>UI-2CD</td>\n",
       "      <td>DELITO DE BAJO IMPACTO</td>\n",
       "      <td>CALZADA IGNACIO ZARAGOZA</td>\n",
       "      <td>NaN</td>\n",
       "      <td>AREA FEDERAL PARQUE ECOLOGICO EL SALADO</td>\n",
       "      <td>IZTAPALAPA</td>\n",
       "      <td>FUERO COMUN</td>\n",
       "      <td>-99.009789</td>\n",
       "      <td>19.368632</td>\n",
       "      <td>NaN</td>\n",
       "    </tr>\n",
       "    <tr>\n",
       "      <th>1307209</th>\n",
       "      <td>2021.0</td>\n",
       "      <td>Septiembre</td>\n",
       "      <td>2021-09-03 17:10:00</td>\n",
       "      <td>2021</td>\n",
       "      <td>Septiembre</td>\n",
       "      <td>2021-09-30 23:54:18</td>\n",
       "      <td>ROBO A REPARTIDOR CON VIOLENCIA</td>\n",
       "      <td>FISCALÍA DE INVESTIGACIÓN TERRITORIAL EN GUSTA...</td>\n",
       "      <td>UAT-GAM-2</td>\n",
       "      <td>UI-1SD</td>\n",
       "      <td>ROBO A REPARTIDOR CON Y SIN VIOLENCIA</td>\n",
       "      <td>ZACAPOAXTLA</td>\n",
       "      <td>NaN</td>\n",
       "      <td>SAN FELIPE DE JESÚS</td>\n",
       "      <td>GUSTAVO A MADERO</td>\n",
       "      <td>FUERO COMUN</td>\n",
       "      <td>-99.069949</td>\n",
       "      <td>19.491604</td>\n",
       "      <td>NaN</td>\n",
       "    </tr>\n",
       "    <tr>\n",
       "      <th>1307210</th>\n",
       "      <td>2021.0</td>\n",
       "      <td>Septiembre</td>\n",
       "      <td>2021-09-30 23:20:00</td>\n",
       "      <td>2021</td>\n",
       "      <td>Septiembre</td>\n",
       "      <td>2021-09-30 23:54:45</td>\n",
       "      <td>ROBO A TRANSEUNTE EN VIA PUBLICA CON VIOLENCIA</td>\n",
       "      <td>FISCALÍA DE INVESTIGACIÓN TERRITORIAL EN AZCAP...</td>\n",
       "      <td>AZ-2</td>\n",
       "      <td>UI-2CD</td>\n",
       "      <td>ROBO A TRANSEUNTE EN VÍA PÚBLICA CON Y SIN VIO...</td>\n",
       "      <td>CALZADA SANTIAGO AHUIZOTLA</td>\n",
       "      <td>MORELOS</td>\n",
       "      <td>SANTIAGO AHUIZOTLA</td>\n",
       "      <td>AZCAPOTZALCO</td>\n",
       "      <td>FUERO COMUN</td>\n",
       "      <td>-99.209475</td>\n",
       "      <td>19.476235</td>\n",
       "      <td>NaN</td>\n",
       "    </tr>\n",
       "  </tbody>\n",
       "</table>\n",
       "</div>"
      ],
      "text/plain": [
       "         ao_hechos  mes_hechos         fecha_hechos  ao_inicio  mes_inicio  \\\n",
       "1307208     2021.0  Septiembre  2021-09-07 20:47:00       2021  Septiembre   \n",
       "1307209     2021.0  Septiembre  2021-09-03 17:10:00       2021  Septiembre   \n",
       "1307210     2021.0  Septiembre  2021-09-30 23:20:00       2021  Septiembre   \n",
       "\n",
       "                fecha_inicio                                          delito  \\\n",
       "1307208  2021-09-30 23:54:06                 DAÑO EN PROPIEDAD AJENA CULPOSA   \n",
       "1307209  2021-09-30 23:54:18                 ROBO A REPARTIDOR CON VIOLENCIA   \n",
       "1307210  2021-09-30 23:54:45  ROBO A TRANSEUNTE EN VIA PUBLICA CON VIOLENCIA   \n",
       "\n",
       "                                                  fiscalia    agencia  \\\n",
       "1307208  FISCALÍA DE INVESTIGACIÓN TERRITORIAL EN IZTAP...      IZP-6   \n",
       "1307209  FISCALÍA DE INVESTIGACIÓN TERRITORIAL EN GUSTA...  UAT-GAM-2   \n",
       "1307210  FISCALÍA DE INVESTIGACIÓN TERRITORIAL EN AZCAP...       AZ-2   \n",
       "\n",
       "        unidad_investigacion  \\\n",
       "1307208               UI-2CD   \n",
       "1307209               UI-1SD   \n",
       "1307210               UI-2CD   \n",
       "\n",
       "                                          categoria_delito  \\\n",
       "1307208                             DELITO DE BAJO IMPACTO   \n",
       "1307209              ROBO A REPARTIDOR CON Y SIN VIOLENCIA   \n",
       "1307210  ROBO A TRANSEUNTE EN VÍA PÚBLICA CON Y SIN VIO...   \n",
       "\n",
       "                       calle_hechos calle_hechos2  \\\n",
       "1307208    CALZADA IGNACIO ZARAGOZA           NaN   \n",
       "1307209                 ZACAPOAXTLA           NaN   \n",
       "1307210  CALZADA SANTIAGO AHUIZOTLA       MORELOS   \n",
       "\n",
       "                                  colonia_hechos   alcaldia_hechos  \\\n",
       "1307208  AREA FEDERAL PARQUE ECOLOGICO EL SALADO        IZTAPALAPA   \n",
       "1307209                      SAN FELIPE DE JESÚS  GUSTAVO A MADERO   \n",
       "1307210                       SANTIAGO AHUIZOTLA      AZCAPOTZALCO   \n",
       "\n",
       "         competencia   longitud    latitud  tempo  \n",
       "1307208  FUERO COMUN -99.009789  19.368632    NaN  \n",
       "1307209  FUERO COMUN -99.069949  19.491604    NaN  \n",
       "1307210  FUERO COMUN -99.209475  19.476235    NaN  "
      ]
     },
     "execution_count": 4,
     "metadata": {},
     "output_type": "execute_result"
    }
   ],
   "source": [
    "FGJ_data.tail(3)"
   ]
  },
  {
   "cell_type": "code",
   "execution_count": 5,
   "id": "c5985992",
   "metadata": {},
   "outputs": [
    {
     "data": {
      "text/plain": [
       "(1307211, 19)"
      ]
     },
     "execution_count": 5,
     "metadata": {},
     "output_type": "execute_result"
    }
   ],
   "source": [
    "FGJ_data.shape"
   ]
  },
  {
   "cell_type": "code",
   "execution_count": 6,
   "id": "666bb337",
   "metadata": {},
   "outputs": [
    {
     "data": {
      "text/html": [
       "<div>\n",
       "<style scoped>\n",
       "    .dataframe tbody tr th:only-of-type {\n",
       "        vertical-align: middle;\n",
       "    }\n",
       "\n",
       "    .dataframe tbody tr th {\n",
       "        vertical-align: top;\n",
       "    }\n",
       "\n",
       "    .dataframe thead th {\n",
       "        text-align: right;\n",
       "    }\n",
       "</style>\n",
       "<table border=\"1\" class=\"dataframe\">\n",
       "  <thead>\n",
       "    <tr style=\"text-align: right;\">\n",
       "      <th></th>\n",
       "      <th>ao_hechos</th>\n",
       "      <th>ao_inicio</th>\n",
       "      <th>longitud</th>\n",
       "      <th>latitud</th>\n",
       "      <th>tempo</th>\n",
       "    </tr>\n",
       "  </thead>\n",
       "  <tbody>\n",
       "    <tr>\n",
       "      <th>count</th>\n",
       "      <td>1.306767e+06</td>\n",
       "      <td>1.307211e+06</td>\n",
       "      <td>1.253509e+06</td>\n",
       "      <td>1.253509e+06</td>\n",
       "      <td>0.0</td>\n",
       "    </tr>\n",
       "    <tr>\n",
       "      <th>mean</th>\n",
       "      <td>2.018268e+03</td>\n",
       "      <td>2.018419e+03</td>\n",
       "      <td>-9.913722e+01</td>\n",
       "      <td>1.938718e+01</td>\n",
       "      <td>NaN</td>\n",
       "    </tr>\n",
       "    <tr>\n",
       "      <th>std</th>\n",
       "      <td>1.914601e+00</td>\n",
       "      <td>1.612246e+00</td>\n",
       "      <td>6.000810e-02</td>\n",
       "      <td>7.006171e-02</td>\n",
       "      <td>NaN</td>\n",
       "    </tr>\n",
       "    <tr>\n",
       "      <th>min</th>\n",
       "      <td>1.906000e+03</td>\n",
       "      <td>2.016000e+03</td>\n",
       "      <td>-1.002319e+02</td>\n",
       "      <td>1.909535e+01</td>\n",
       "      <td>NaN</td>\n",
       "    </tr>\n",
       "    <tr>\n",
       "      <th>25%</th>\n",
       "      <td>2.017000e+03</td>\n",
       "      <td>2.017000e+03</td>\n",
       "      <td>-9.917561e+01</td>\n",
       "      <td>1.933937e+01</td>\n",
       "      <td>NaN</td>\n",
       "    </tr>\n",
       "    <tr>\n",
       "      <th>50%</th>\n",
       "      <td>2.018000e+03</td>\n",
       "      <td>2.018000e+03</td>\n",
       "      <td>-9.914208e+01</td>\n",
       "      <td>1.938967e+01</td>\n",
       "      <td>NaN</td>\n",
       "    </tr>\n",
       "    <tr>\n",
       "      <th>75%</th>\n",
       "      <td>2.020000e+03</td>\n",
       "      <td>2.020000e+03</td>\n",
       "      <td>-9.909959e+01</td>\n",
       "      <td>1.943776e+01</td>\n",
       "      <td>NaN</td>\n",
       "    </tr>\n",
       "    <tr>\n",
       "      <th>max</th>\n",
       "      <td>2.021000e+03</td>\n",
       "      <td>2.021000e+03</td>\n",
       "      <td>-9.894686e+01</td>\n",
       "      <td>1.958333e+01</td>\n",
       "      <td>NaN</td>\n",
       "    </tr>\n",
       "  </tbody>\n",
       "</table>\n",
       "</div>"
      ],
      "text/plain": [
       "          ao_hechos     ao_inicio      longitud       latitud  tempo\n",
       "count  1.306767e+06  1.307211e+06  1.253509e+06  1.253509e+06    0.0\n",
       "mean   2.018268e+03  2.018419e+03 -9.913722e+01  1.938718e+01    NaN\n",
       "std    1.914601e+00  1.612246e+00  6.000810e-02  7.006171e-02    NaN\n",
       "min    1.906000e+03  2.016000e+03 -1.002319e+02  1.909535e+01    NaN\n",
       "25%    2.017000e+03  2.017000e+03 -9.917561e+01  1.933937e+01    NaN\n",
       "50%    2.018000e+03  2.018000e+03 -9.914208e+01  1.938967e+01    NaN\n",
       "75%    2.020000e+03  2.020000e+03 -9.909959e+01  1.943776e+01    NaN\n",
       "max    2.021000e+03  2.021000e+03 -9.894686e+01  1.958333e+01    NaN"
      ]
     },
     "execution_count": 6,
     "metadata": {},
     "output_type": "execute_result"
    }
   ],
   "source": [
    "FGJ_data.describe()"
   ]
  },
  {
   "cell_type": "code",
   "execution_count": 7,
   "id": "cd11cdd8",
   "metadata": {},
   "outputs": [
    {
     "data": {
      "text/plain": [
       "ao_hechos                True\n",
       "mes_hechos               True\n",
       "fecha_hechos             True\n",
       "ao_inicio               False\n",
       "mes_inicio              False\n",
       "fecha_inicio             True\n",
       "delito                  False\n",
       "fiscalia                 True\n",
       "agencia                 False\n",
       "unidad_investigacion     True\n",
       "categoria_delito        False\n",
       "calle_hechos             True\n",
       "calle_hechos2            True\n",
       "colonia_hechos           True\n",
       "alcaldia_hechos          True\n",
       "competencia              True\n",
       "longitud                 True\n",
       "latitud                  True\n",
       "tempo                    True\n",
       "dtype: bool"
      ]
     },
     "execution_count": 7,
     "metadata": {},
     "output_type": "execute_result"
    }
   ],
   "source": [
    "FGJ_data.isna().any()"
   ]
  },
  {
   "cell_type": "code",
   "execution_count": 8,
   "id": "c0cc446f",
   "metadata": {},
   "outputs": [
    {
     "data": {
      "text/plain": [
       "ao_hechos               float64\n",
       "mes_hechos               object\n",
       "fecha_hechos             object\n",
       "ao_inicio                 int64\n",
       "mes_inicio               object\n",
       "fecha_inicio             object\n",
       "delito                   object\n",
       "fiscalia                 object\n",
       "agencia                  object\n",
       "unidad_investigacion     object\n",
       "categoria_delito         object\n",
       "calle_hechos             object\n",
       "calle_hechos2            object\n",
       "colonia_hechos           object\n",
       "alcaldia_hechos          object\n",
       "competencia              object\n",
       "longitud                float64\n",
       "latitud                 float64\n",
       "tempo                   float64\n",
       "dtype: object"
      ]
     },
     "execution_count": 8,
     "metadata": {},
     "output_type": "execute_result"
    }
   ],
   "source": [
    "FGJ_data.dtypes"
   ]
  },
  {
   "cell_type": "code",
   "execution_count": 9,
   "id": "32b8ee08",
   "metadata": {},
   "outputs": [
    {
     "data": {
      "text/plain": [
       "delito              345\n",
       "fiscalia             73\n",
       "agencia             209\n",
       "categoria_delito     18\n",
       "alcaldia_hechos     557\n",
       "competencia           3\n",
       "dtype: int64"
      ]
     },
     "execution_count": 9,
     "metadata": {},
     "output_type": "execute_result"
    }
   ],
   "source": [
    "FGJ_data[['delito', 'fiscalia', 'agencia','categoria_delito','alcaldia_hechos','competencia']].nunique()"
   ]
  },
  {
   "cell_type": "code",
   "execution_count": 10,
   "id": "ca898713",
   "metadata": {},
   "outputs": [
    {
     "data": {
      "text/plain": [
       "VIOLENCIA FAMILIAR                                                        137582\n",
       "FRAUDE                                                                     82032\n",
       "ROBO DE OBJETOS                                                            75973\n",
       "AMENAZAS                                                                   71595\n",
       "ROBO A NEGOCIO SIN VIOLENCIA                                               67547\n",
       "                                                                           ...  \n",
       "ROBO DE VEHICULO Y NOMINA CON VIOLENCIA                                        1\n",
       "ASOCIACION DELICTUOSA                                                          1\n",
       "DESACATO                                                                       1\n",
       "CALUMNIAS                                                                      1\n",
       "PROCREACION ASISTIDA, INSEMINACION ARTIFICIAL Y ESTERILIZACION FORZADA         1\n",
       "Name: delito, Length: 345, dtype: int64"
      ]
     },
     "execution_count": 10,
     "metadata": {},
     "output_type": "execute_result"
    }
   ],
   "source": [
    "FGJ_data.delito.value_counts()"
   ]
  },
  {
   "cell_type": "code",
   "execution_count": 11,
   "id": "eac31666",
   "metadata": {},
   "outputs": [
    {
     "data": {
      "text/plain": [
       "INVESTIGACIÓN EN IZTAPALAPA                                                                             114947\n",
       "INVESTIGACIÓN EN CUAUHTEMOC                                                                             114405\n",
       "INVESTIGACIÓN EN GUSTAVO A. MADERO                                                                       78355\n",
       "INVESTIGACIÓN EN BENITO JUÁREZ                                                                           74528\n",
       "INVESTIGACIÓN EN ÁLVARO OBREGÓN                                                                          54129\n",
       "                                                                                                         ...  \n",
       "FISCALÍA ESPECIALIZADA PARA LA INVESTIGACIÓN DEL DELITO DE FEMINICIDIO                                     134\n",
       "UNIDAD DE RECEPCION POR INTERNET                                                                            55\n",
       "ESPECIALIZADA EN LA BÚSQUEDA, LOCALIZACIÓN E INVESTIGACIÓN DE PERSONAS DESAPARECIDAS                        43\n",
       "FISCALIA DELITOS ELECTORALES                                                                                12\n",
       "FISCALÍA DE INVESTIGACIÓN Y PERSECUCIÓN DE LOS DELITOS EN MATERIA DE DESAPARICIÓN FORZADA DE PERSONA         1\n",
       "Name: fiscalia, Length: 73, dtype: int64"
      ]
     },
     "execution_count": 11,
     "metadata": {},
     "output_type": "execute_result"
    }
   ],
   "source": [
    "FGJ_data.fiscalia.value_counts()"
   ]
  },
  {
   "cell_type": "code",
   "execution_count": 12,
   "id": "1e343693",
   "metadata": {},
   "outputs": [
    {
     "data": {
      "text/plain": [
       "DELITO DE BAJO IMPACTO                                     1026209\n",
       "ROBO A TRANSEUNTE EN VÍA PÚBLICA CON Y SIN VIOLENCIA         73481\n",
       "ROBO DE VEHÍCULO CON Y SIN VIOLENCIA                         67522\n",
       "HECHO NO DELICTIVO                                           57857\n",
       "ROBO A NEGOCIO CON VIOLENCIA                                 21136\n",
       "ROBO A REPARTIDOR CON Y SIN VIOLENCIA                        13362\n",
       "ROBO A PASAJERO A BORDO DEL METRO CON Y SIN VIOLENCIA        11469\n",
       "LESIONES DOLOSAS POR DISPARO DE ARMA DE FUEGO                 9306\n",
       "HOMICIDIO DOLOSO                                              7412\n",
       "VIOLACIÓN                                                     7344\n",
       "ROBO A PASAJERO A BORDO DE MICROBUS CON Y SIN VIOLENCIA       4293\n",
       "ROBO A CASA HABITACIÓN CON VIOLENCIA                          3256\n",
       "ROBO A CUENTAHABIENTE SALIENDO DEL CAJERO CON VIOLENCIA       2386\n",
       "ROBO A PASAJERO A BORDO DE TAXI CON VIOLENCIA                 1299\n",
       "ROBO A TRANSPORTISTA CON Y SIN VIOLENCIA                       685\n",
       "SECUESTRO                                                      191\n",
       "FEMINICIDIO                                                      2\n",
       "PLAGIO O SECUESTRO                                               1\n",
       "Name: categoria_delito, dtype: int64"
      ]
     },
     "execution_count": 12,
     "metadata": {},
     "output_type": "execute_result"
    }
   ],
   "source": [
    "FGJ_data.categoria_delito.value_counts()"
   ]
  },
  {
   "cell_type": "code",
   "execution_count": 13,
   "id": "5b6421dc",
   "metadata": {},
   "outputs": [
    {
     "data": {
      "text/plain": [
       "CUAUHTEMOC          203425\n",
       "IZTAPALAPA          196158\n",
       "GUSTAVO A MADERO    131319\n",
       "BENITO JUAREZ       107516\n",
       "ALVARO OBREGON       88946\n",
       "                     ...  \n",
       "ABALA                    1\n",
       "MAGDALENA                1\n",
       "AGUA DULCE               1\n",
       "CHARO                    1\n",
       "SENGUIO                  1\n",
       "Name: alcaldia_hechos, Length: 557, dtype: int64"
      ]
     },
     "execution_count": 13,
     "metadata": {},
     "output_type": "execute_result"
    }
   ],
   "source": [
    "FGJ_data.alcaldia_hechos.value_counts()"
   ]
  },
  {
   "cell_type": "code",
   "execution_count": 14,
   "id": "02849ff6",
   "metadata": {},
   "outputs": [
    {
     "data": {
      "text/plain": [
       "FUERO COMUN           236246\n",
       "HECHO NO DELICTIVO      4341\n",
       "INCOMPETENCIA           2545\n",
       "Name: competencia, dtype: int64"
      ]
     },
     "execution_count": 14,
     "metadata": {},
     "output_type": "execute_result"
    }
   ],
   "source": [
    "FGJ_data.competencia.value_counts()"
   ]
  },
  {
   "cell_type": "markdown",
   "id": "92f27b0b",
   "metadata": {},
   "source": [
    "### 1. Define analysis time frame"
   ]
  },
  {
   "cell_type": "code",
   "execution_count": 15,
   "id": "dfc05872",
   "metadata": {},
   "outputs": [
    {
     "data": {
      "text/plain": [
       "2021.0    155919\n",
       "2020.0    201527\n",
       "2019.0    243898\n",
       "2018.0    254013\n",
       "2017.0    227268\n",
       "2016.0    195010\n",
       "2015.0     15993\n",
       "2014.0      4313\n",
       "2013.0      2204\n",
       "2012.0      1577\n",
       "2011.0      1080\n",
       "2010.0       903\n",
       "2009.0       499\n",
       "2008.0       482\n",
       "2007.0       327\n",
       "2006.0       268\n",
       "2005.0       199\n",
       "2004.0       169\n",
       "2003.0       118\n",
       "2002.0       113\n",
       "2001.0       203\n",
       "2000.0       112\n",
       "1999.0        48\n",
       "1998.0        60\n",
       "1997.0        41\n",
       "1996.0        31\n",
       "1995.0        33\n",
       "1994.0        24\n",
       "1993.0        27\n",
       "1992.0        35\n",
       "1991.0        18\n",
       "Name: ao_hechos, dtype: int64"
      ]
     },
     "execution_count": 15,
     "metadata": {},
     "output_type": "execute_result"
    }
   ],
   "source": [
    "## Crime incidence for the last 20 years (number of registers in FGJ db) \n",
    "year_incidence = FGJ_data.ao_hechos.value_counts()\n",
    "year_incidence[year_incidence.index >= 1991].sort_index(ascending=False)"
   ]
  },
  {
   "cell_type": "code",
   "execution_count": 29,
   "id": "b2e9a2c0",
   "metadata": {},
   "outputs": [
    {
     "data": {
      "text/plain": [
       "(1306083, 3)"
      ]
     },
     "execution_count": 29,
     "metadata": {},
     "output_type": "execute_result"
    }
   ],
   "source": [
    "FGJ_data[['ao_hechos','mes_hechos','competencia']].loc[FGJ_data['ao_hechos'] > 2000].sort_values(['ao_hechos','mes_hechos']).shape"
   ]
  },
  {
   "cell_type": "code",
   "execution_count": 28,
   "id": "fabde2d9",
   "metadata": {},
   "outputs": [
    {
     "data": {
      "text/plain": [
       "(242919, 3)"
      ]
     },
     "execution_count": 28,
     "metadata": {},
     "output_type": "execute_result"
    }
   ],
   "source": [
    "FGJ_data[['ao_hechos','mes_hechos','competencia']].loc[FGJ_data['ao_hechos'] > 2000].dropna().sort_values(['ao_hechos','mes_hechos']).shape"
   ]
  },
  {
   "cell_type": "code",
   "execution_count": 18,
   "id": "d266b534",
   "metadata": {},
   "outputs": [
    {
     "data": {
      "text/plain": [
       "ao_hechos  mes_hechos\n",
       "2014.0     Abril           323\n",
       "           Agosto          323\n",
       "           Diciembre       426\n",
       "           Enero           331\n",
       "           Febrero         256\n",
       "           Julio           337\n",
       "           Junio           327\n",
       "           Marzo           326\n",
       "           Mayo            469\n",
       "           Noviembre       392\n",
       "           Octubre         449\n",
       "           Septiembre      354\n",
       "2015.0     Abril           696\n",
       "           Agosto         1143\n",
       "           Diciembre      3563\n",
       "           Enero          1143\n",
       "           Febrero         707\n",
       "           Julio           946\n",
       "           Junio           983\n",
       "           Marzo           737\n",
       "           Mayo            884\n",
       "           Noviembre      2134\n",
       "           Octubre        1723\n",
       "           Septiembre     1334\n",
       "2016.0     Abril         16413\n",
       "           Agosto        16623\n",
       "           Diciembre     16144\n",
       "           Enero         15171\n",
       "           Febrero       15505\n",
       "           Julio         15477\n",
       "           Junio         15260\n",
       "           Marzo         15980\n",
       "           Mayo          16499\n",
       "           Noviembre     16609\n",
       "           Octubre       17806\n",
       "           Septiembre    17523\n",
       "2017.0     Abril         17254\n",
       "           Agosto        20196\n",
       "           Diciembre     18966\n",
       "           Enero         17626\n",
       "           Febrero       16489\n",
       "           Julio         19287\n",
       "           Junio         19461\n",
       "           Marzo         18682\n",
       "           Mayo          19757\n",
       "           Noviembre     19568\n",
       "           Octubre       20932\n",
       "           Septiembre    19050\n",
       "Name: delito, dtype: int64"
      ]
     },
     "execution_count": 18,
     "metadata": {},
     "output_type": "execute_result"
    }
   ],
   "source": [
    "FGJ_data.loc[(FGJ_data['ao_hechos'] >= 2014) & (FGJ_data['ao_hechos'] <= 2017)].groupby(['ao_hechos','mes_hechos']).count()['delito']"
   ]
  },
  {
   "cell_type": "code",
   "execution_count": 30,
   "id": "037c5b67",
   "metadata": {},
   "outputs": [
    {
     "ename": "KeyError",
     "evalue": "'delito'",
     "output_type": "error",
     "traceback": [
      "\u001b[1;31m---------------------------------------------------------------------------\u001b[0m",
      "\u001b[1;31mKeyError\u001b[0m                                  Traceback (most recent call last)",
      "\u001b[1;32m~\\anaconda3\\lib\\site-packages\\pandas\\core\\indexes\\base.py\u001b[0m in \u001b[0;36mget_loc\u001b[1;34m(self, key, method, tolerance)\u001b[0m\n\u001b[0;32m   3079\u001b[0m             \u001b[1;32mtry\u001b[0m\u001b[1;33m:\u001b[0m\u001b[1;33m\u001b[0m\u001b[1;33m\u001b[0m\u001b[0m\n\u001b[1;32m-> 3080\u001b[1;33m                 \u001b[1;32mreturn\u001b[0m \u001b[0mself\u001b[0m\u001b[1;33m.\u001b[0m\u001b[0m_engine\u001b[0m\u001b[1;33m.\u001b[0m\u001b[0mget_loc\u001b[0m\u001b[1;33m(\u001b[0m\u001b[0mcasted_key\u001b[0m\u001b[1;33m)\u001b[0m\u001b[1;33m\u001b[0m\u001b[1;33m\u001b[0m\u001b[0m\n\u001b[0m\u001b[0;32m   3081\u001b[0m             \u001b[1;32mexcept\u001b[0m \u001b[0mKeyError\u001b[0m \u001b[1;32mas\u001b[0m \u001b[0merr\u001b[0m\u001b[1;33m:\u001b[0m\u001b[1;33m\u001b[0m\u001b[1;33m\u001b[0m\u001b[0m\n",
      "\u001b[1;32mpandas\\_libs\\index.pyx\u001b[0m in \u001b[0;36mpandas._libs.index.IndexEngine.get_loc\u001b[1;34m()\u001b[0m\n",
      "\u001b[1;32mpandas\\_libs\\index.pyx\u001b[0m in \u001b[0;36mpandas._libs.index.IndexEngine.get_loc\u001b[1;34m()\u001b[0m\n",
      "\u001b[1;32mpandas\\_libs\\hashtable_class_helper.pxi\u001b[0m in \u001b[0;36mpandas._libs.hashtable.PyObjectHashTable.get_item\u001b[1;34m()\u001b[0m\n",
      "\u001b[1;32mpandas\\_libs\\hashtable_class_helper.pxi\u001b[0m in \u001b[0;36mpandas._libs.hashtable.PyObjectHashTable.get_item\u001b[1;34m()\u001b[0m\n",
      "\u001b[1;31mKeyError\u001b[0m: 'delito'",
      "\nThe above exception was the direct cause of the following exception:\n",
      "\u001b[1;31mKeyError\u001b[0m                                  Traceback (most recent call last)",
      "\u001b[1;32m<ipython-input-30-48d07ce014e8>\u001b[0m in \u001b[0;36m<module>\u001b[1;34m\u001b[0m\n\u001b[1;32m----> 1\u001b[1;33m \u001b[0mFGJ_data\u001b[0m\u001b[1;33m.\u001b[0m\u001b[0mloc\u001b[0m\u001b[1;33m[\u001b[0m\u001b[1;33m(\u001b[0m\u001b[0mFGJ_data\u001b[0m\u001b[1;33m[\u001b[0m\u001b[1;34m'ao_inicio'\u001b[0m\u001b[1;33m]\u001b[0m \u001b[1;33m>=\u001b[0m \u001b[1;36m2014\u001b[0m\u001b[1;33m)\u001b[0m \u001b[1;33m&\u001b[0m \u001b[1;33m(\u001b[0m\u001b[0mFGJ_data\u001b[0m\u001b[1;33m[\u001b[0m\u001b[1;34m'ao_inicio'\u001b[0m\u001b[1;33m]\u001b[0m \u001b[1;33m<=\u001b[0m \u001b[1;36m2017\u001b[0m\u001b[1;33m)\u001b[0m\u001b[1;33m]\u001b[0m\u001b[1;33m.\u001b[0m\u001b[0mgroupby\u001b[0m\u001b[1;33m(\u001b[0m\u001b[1;33m[\u001b[0m\u001b[1;34m'ao_inicio'\u001b[0m\u001b[1;33m,\u001b[0m\u001b[1;34m'mes_inicio'\u001b[0m\u001b[1;33m,\u001b[0m\u001b[1;34m'delito'\u001b[0m\u001b[1;33m]\u001b[0m\u001b[1;33m)\u001b[0m\u001b[1;33m.\u001b[0m\u001b[0mcount\u001b[0m\u001b[1;33m(\u001b[0m\u001b[1;33m)\u001b[0m\u001b[1;33m[\u001b[0m\u001b[1;34m'delito'\u001b[0m\u001b[1;33m]\u001b[0m\u001b[1;33m\u001b[0m\u001b[1;33m\u001b[0m\u001b[0m\n\u001b[0m",
      "\u001b[1;32m~\\anaconda3\\lib\\site-packages\\pandas\\core\\frame.py\u001b[0m in \u001b[0;36m__getitem__\u001b[1;34m(self, key)\u001b[0m\n\u001b[0;32m   3022\u001b[0m             \u001b[1;32mif\u001b[0m \u001b[0mself\u001b[0m\u001b[1;33m.\u001b[0m\u001b[0mcolumns\u001b[0m\u001b[1;33m.\u001b[0m\u001b[0mnlevels\u001b[0m \u001b[1;33m>\u001b[0m \u001b[1;36m1\u001b[0m\u001b[1;33m:\u001b[0m\u001b[1;33m\u001b[0m\u001b[1;33m\u001b[0m\u001b[0m\n\u001b[0;32m   3023\u001b[0m                 \u001b[1;32mreturn\u001b[0m \u001b[0mself\u001b[0m\u001b[1;33m.\u001b[0m\u001b[0m_getitem_multilevel\u001b[0m\u001b[1;33m(\u001b[0m\u001b[0mkey\u001b[0m\u001b[1;33m)\u001b[0m\u001b[1;33m\u001b[0m\u001b[1;33m\u001b[0m\u001b[0m\n\u001b[1;32m-> 3024\u001b[1;33m             \u001b[0mindexer\u001b[0m \u001b[1;33m=\u001b[0m \u001b[0mself\u001b[0m\u001b[1;33m.\u001b[0m\u001b[0mcolumns\u001b[0m\u001b[1;33m.\u001b[0m\u001b[0mget_loc\u001b[0m\u001b[1;33m(\u001b[0m\u001b[0mkey\u001b[0m\u001b[1;33m)\u001b[0m\u001b[1;33m\u001b[0m\u001b[1;33m\u001b[0m\u001b[0m\n\u001b[0m\u001b[0;32m   3025\u001b[0m             \u001b[1;32mif\u001b[0m \u001b[0mis_integer\u001b[0m\u001b[1;33m(\u001b[0m\u001b[0mindexer\u001b[0m\u001b[1;33m)\u001b[0m\u001b[1;33m:\u001b[0m\u001b[1;33m\u001b[0m\u001b[1;33m\u001b[0m\u001b[0m\n\u001b[0;32m   3026\u001b[0m                 \u001b[0mindexer\u001b[0m \u001b[1;33m=\u001b[0m \u001b[1;33m[\u001b[0m\u001b[0mindexer\u001b[0m\u001b[1;33m]\u001b[0m\u001b[1;33m\u001b[0m\u001b[1;33m\u001b[0m\u001b[0m\n",
      "\u001b[1;32m~\\anaconda3\\lib\\site-packages\\pandas\\core\\indexes\\base.py\u001b[0m in \u001b[0;36mget_loc\u001b[1;34m(self, key, method, tolerance)\u001b[0m\n\u001b[0;32m   3080\u001b[0m                 \u001b[1;32mreturn\u001b[0m \u001b[0mself\u001b[0m\u001b[1;33m.\u001b[0m\u001b[0m_engine\u001b[0m\u001b[1;33m.\u001b[0m\u001b[0mget_loc\u001b[0m\u001b[1;33m(\u001b[0m\u001b[0mcasted_key\u001b[0m\u001b[1;33m)\u001b[0m\u001b[1;33m\u001b[0m\u001b[1;33m\u001b[0m\u001b[0m\n\u001b[0;32m   3081\u001b[0m             \u001b[1;32mexcept\u001b[0m \u001b[0mKeyError\u001b[0m \u001b[1;32mas\u001b[0m \u001b[0merr\u001b[0m\u001b[1;33m:\u001b[0m\u001b[1;33m\u001b[0m\u001b[1;33m\u001b[0m\u001b[0m\n\u001b[1;32m-> 3082\u001b[1;33m                 \u001b[1;32mraise\u001b[0m \u001b[0mKeyError\u001b[0m\u001b[1;33m(\u001b[0m\u001b[0mkey\u001b[0m\u001b[1;33m)\u001b[0m \u001b[1;32mfrom\u001b[0m \u001b[0merr\u001b[0m\u001b[1;33m\u001b[0m\u001b[1;33m\u001b[0m\u001b[0m\n\u001b[0m\u001b[0;32m   3083\u001b[0m \u001b[1;33m\u001b[0m\u001b[0m\n\u001b[0;32m   3084\u001b[0m         \u001b[1;32mif\u001b[0m \u001b[0mtolerance\u001b[0m \u001b[1;32mis\u001b[0m \u001b[1;32mnot\u001b[0m \u001b[1;32mNone\u001b[0m\u001b[1;33m:\u001b[0m\u001b[1;33m\u001b[0m\u001b[1;33m\u001b[0m\u001b[0m\n",
      "\u001b[1;31mKeyError\u001b[0m: 'delito'"
     ]
    }
   ],
   "source": [
    "FGJ_data.loc[(FGJ_data['ao_inicio'] >= 2014) & (FGJ_data['ao_inicio'] <= 2017)].groupby(['ao_inicio','mes_inicio','delito']).count()['delito']"
   ]
  },
  {
   "cell_type": "code",
   "execution_count": 26,
   "id": "e982b13a",
   "metadata": {},
   "outputs": [
    {
     "data": {
      "text/plain": [
       "CUAUHTEMOC           74079\n",
       "IZTAPALAPA           64742\n",
       "GUSTAVO A MADERO     43214\n",
       "BENITO JUAREZ        38756\n",
       "COYOACAN             30170\n",
       "                     ...  \n",
       "SANTIAGO DE ANAYA        1\n",
       "CUITLAHUAC               1\n",
       "CALVILLO                 1\n",
       "CADEREYTA JIMENEZ        1\n",
       "JALACINGO                1\n",
       "Name: alcaldia_hechos, Length: 367, dtype: int64"
      ]
     },
     "execution_count": 26,
     "metadata": {},
     "output_type": "execute_result"
    }
   ],
   "source": [
    "FGJ_data.loc[(FGJ_data['ao_hechos'] >= 2014) & (FGJ_data['ao_hechos'] <= 2017)]['alcaldia_hechos'].value_counts()"
   ]
  },
  {
   "cell_type": "markdown",
   "id": "819363c6",
   "metadata": {},
   "source": [
    "### C. Clean dataset"
   ]
  },
  {
   "cell_type": "code",
   "execution_count": 84,
   "id": "52b40cf0",
   "metadata": {},
   "outputs": [
    {
     "name": "stdout",
     "output_type": "stream",
     "text": [
      "(1307211, 19)\n"
     ]
    }
   ],
   "source": [
    "print(FGJ_data.shape)"
   ]
  },
  {
   "cell_type": "code",
   "execution_count": 42,
   "id": "5ddc378b",
   "metadata": {},
   "outputs": [
    {
     "data": {
      "text/plain": [
       "Index(['ao_hechos', 'mes_hechos', 'fecha_hechos', 'ao_inicio', 'mes_inicio',\n",
       "       'fecha_inicio', 'delito', 'fiscalia', 'agencia', 'unidad_investigacion',\n",
       "       'categoria_delito', 'calle_hechos', 'calle_hechos2', 'colonia_hechos',\n",
       "       'alcaldia_hechos', 'competencia', 'longitud', 'latitud', 'tempo'],\n",
       "      dtype='object')"
      ]
     },
     "execution_count": 42,
     "metadata": {},
     "output_type": "execute_result"
    }
   ],
   "source": [
    "FGJ_data.columns"
   ]
  },
  {
   "cell_type": "code",
   "execution_count": 85,
   "id": "e0ade89f",
   "metadata": {},
   "outputs": [
    {
     "name": "stdout",
     "output_type": "stream",
     "text": [
      "(1277635, 9)\n"
     ]
    }
   ],
   "source": [
    "## Select columns for clean dataset\n",
    "columns = ['ao_hechos', 'mes_hechos', 'fecha_hechos', 'delito', 'categoria_delito',\n",
    "           'colonia_hechos', 'alcaldia_hechos', 'longitud', 'latitud']\n",
    "\n",
    "## Build clean dataset according to defined analysis timeframe (2016-2021) \n",
    "FGJ_clean = FGJ_data.loc[(FGJ_data['ao_hechos'] >= 2016)][columns]\n",
    "print(FGJ_clean.shape)"
   ]
  },
  {
   "cell_type": "code",
   "execution_count": 53,
   "id": "890c07bb",
   "metadata": {},
   "outputs": [],
   "source": [
    "## Convert timestamp to datetimeindex\n",
    "FGJ_clean['fecha_hechos'] = pd.to_datetime(FGJ_clean.fecha_hechos.values)"
   ]
  },
  {
   "cell_type": "code",
   "execution_count": 54,
   "id": "d31169f8",
   "metadata": {},
   "outputs": [],
   "source": [
    "## Set datetimeindex\n",
    "FGJ_clean.set_index('fecha_hechos', inplace=True)"
   ]
  },
  {
   "cell_type": "code",
   "execution_count": 75,
   "id": "2b787f0a",
   "metadata": {},
   "outputs": [],
   "source": [
    "## FGJ_clean.categoria_delito.value_counts()"
   ]
  },
  {
   "cell_type": "code",
   "execution_count": 64,
   "id": "1bdece6a",
   "metadata": {},
   "outputs": [
    {
     "data": {
      "text/plain": [
       "CUAUHTEMOC                195149\n",
       "IZTAPALAPA                193014\n",
       "GUSTAVO A MADERO          129141\n",
       "BENITO JUAREZ             104641\n",
       "ALVARO OBREGON             87552\n",
       "COYOACAN                   85670\n",
       "MIGUEL HIDALGO             82574\n",
       "TLALPAN                    75262\n",
       "VENUSTIANO CARRANZA        73839\n",
       "AZCAPOTZALCO               62425\n",
       "IZTACALCO                  53469\n",
       "XOCHIMILCO                 40365\n",
       "TLAHUAC                    31930\n",
       "LA MAGDALENA CONTRERAS     21128\n",
       "CUAJIMALPA DE MORELOS      19047\n",
       "MILPA ALTA                  9408\n",
       "NEZAHUALCOYOTL              1373\n",
       "TLALNEPANTLA DE BAZ         1060\n",
       "ECATEPEC DE MORELOS          989\n",
       "NAUCALPAN DE JUAREZ          756\n",
       "Name: alcaldia_hechos, dtype: int64"
      ]
     },
     "execution_count": 64,
     "metadata": {},
     "output_type": "execute_result"
    }
   ],
   "source": [
    "FGJ_clean.alcaldia_hechos.value_counts().head(20)"
   ]
  },
  {
   "cell_type": "code",
   "execution_count": 77,
   "id": "fee0923e",
   "metadata": {},
   "outputs": [
    {
     "data": {
      "text/plain": [
       "Index(['CUAUHTEMOC', 'IZTAPALAPA', 'GUSTAVO A MADERO', 'BENITO JUAREZ',\n",
       "       'ALVARO OBREGON', 'COYOACAN', 'MIGUEL HIDALGO', 'TLALPAN',\n",
       "       'VENUSTIANO CARRANZA', 'AZCAPOTZALCO', 'IZTACALCO', 'XOCHIMILCO',\n",
       "       'TLAHUAC', 'LA MAGDALENA CONTRERAS', 'CUAJIMALPA DE MORELOS',\n",
       "       'MILPA ALTA'],\n",
       "      dtype='object')"
      ]
     },
     "execution_count": 77,
     "metadata": {},
     "output_type": "execute_result"
    }
   ],
   "source": [
    "## Get alcaldias list\n",
    "alcaldias_list = FGJ_clean.alcaldia_hechos.value_counts().head(16).index\n",
    "alcaldias_list"
   ]
  },
  {
   "cell_type": "code",
   "execution_count": 78,
   "id": "7ce397a4",
   "metadata": {},
   "outputs": [],
   "source": [
    "## Filter by alcaldias list\n",
    "FGJ_alcaldias = FGJ_clean.loc[FGJ_clean['alcaldia_hechos'].isin(alcaldias_list)]"
   ]
  },
  {
   "cell_type": "code",
   "execution_count": 86,
   "id": "064a8e6c",
   "metadata": {},
   "outputs": [
    {
     "name": "stdout",
     "output_type": "stream",
     "text": [
      "(1264614, 8)\n"
     ]
    },
    {
     "data": {
      "text/html": [
       "<div>\n",
       "<style scoped>\n",
       "    .dataframe tbody tr th:only-of-type {\n",
       "        vertical-align: middle;\n",
       "    }\n",
       "\n",
       "    .dataframe tbody tr th {\n",
       "        vertical-align: top;\n",
       "    }\n",
       "\n",
       "    .dataframe thead th {\n",
       "        text-align: right;\n",
       "    }\n",
       "</style>\n",
       "<table border=\"1\" class=\"dataframe\">\n",
       "  <thead>\n",
       "    <tr style=\"text-align: right;\">\n",
       "      <th></th>\n",
       "      <th>ao_hechos</th>\n",
       "      <th>mes_hechos</th>\n",
       "      <th>delito</th>\n",
       "      <th>categoria_delito</th>\n",
       "      <th>colonia_hechos</th>\n",
       "      <th>alcaldia_hechos</th>\n",
       "      <th>longitud</th>\n",
       "      <th>latitud</th>\n",
       "    </tr>\n",
       "    <tr>\n",
       "      <th>fecha_hechos</th>\n",
       "      <th></th>\n",
       "      <th></th>\n",
       "      <th></th>\n",
       "      <th></th>\n",
       "      <th></th>\n",
       "      <th></th>\n",
       "      <th></th>\n",
       "      <th></th>\n",
       "    </tr>\n",
       "  </thead>\n",
       "  <tbody>\n",
       "    <tr>\n",
       "      <th>2016-01-31 22:16:00</th>\n",
       "      <td>2016.0</td>\n",
       "      <td>Enero</td>\n",
       "      <td>DAÑO EN PROPIEDAD AJENA INTENCIONAL</td>\n",
       "      <td>DELITO DE BAJO IMPACTO</td>\n",
       "      <td>AMÉRICAS UNIDAS</td>\n",
       "      <td>BENITO JUAREZ</td>\n",
       "      <td>-99.140215</td>\n",
       "      <td>19.380315</td>\n",
       "    </tr>\n",
       "    <tr>\n",
       "      <th>2016-01-31 20:50:00</th>\n",
       "      <td>2016.0</td>\n",
       "      <td>Enero</td>\n",
       "      <td>ROBO DE VEHICULO DE SERVICIO PARTICULAR CON VI...</td>\n",
       "      <td>ROBO DE VEHÍCULO CON Y SIN VIOLENCIA</td>\n",
       "      <td>LOS CIPRESES</td>\n",
       "      <td>IZTAPALAPA</td>\n",
       "      <td>-99.108403</td>\n",
       "      <td>19.352859</td>\n",
       "    </tr>\n",
       "    <tr>\n",
       "      <th>2016-02-01 00:30:00</th>\n",
       "      <td>2016.0</td>\n",
       "      <td>Febrero</td>\n",
       "      <td>NARCOMENUDEO POSESION SIMPLE</td>\n",
       "      <td>DELITO DE BAJO IMPACTO</td>\n",
       "      <td>UNIDAD VICENTE GUERRERO</td>\n",
       "      <td>IZTAPALAPA</td>\n",
       "      <td>-99.061321</td>\n",
       "      <td>19.356451</td>\n",
       "    </tr>\n",
       "  </tbody>\n",
       "</table>\n",
       "</div>"
      ],
      "text/plain": [
       "                     ao_hechos mes_hechos  \\\n",
       "fecha_hechos                                \n",
       "2016-01-31 22:16:00     2016.0      Enero   \n",
       "2016-01-31 20:50:00     2016.0      Enero   \n",
       "2016-02-01 00:30:00     2016.0    Febrero   \n",
       "\n",
       "                                                                delito  \\\n",
       "fecha_hechos                                                             \n",
       "2016-01-31 22:16:00                DAÑO EN PROPIEDAD AJENA INTENCIONAL   \n",
       "2016-01-31 20:50:00  ROBO DE VEHICULO DE SERVICIO PARTICULAR CON VI...   \n",
       "2016-02-01 00:30:00                       NARCOMENUDEO POSESION SIMPLE   \n",
       "\n",
       "                                         categoria_delito  \\\n",
       "fecha_hechos                                                \n",
       "2016-01-31 22:16:00                DELITO DE BAJO IMPACTO   \n",
       "2016-01-31 20:50:00  ROBO DE VEHÍCULO CON Y SIN VIOLENCIA   \n",
       "2016-02-01 00:30:00                DELITO DE BAJO IMPACTO   \n",
       "\n",
       "                              colonia_hechos alcaldia_hechos   longitud  \\\n",
       "fecha_hechos                                                              \n",
       "2016-01-31 22:16:00          AMÉRICAS UNIDAS   BENITO JUAREZ -99.140215   \n",
       "2016-01-31 20:50:00             LOS CIPRESES      IZTAPALAPA -99.108403   \n",
       "2016-02-01 00:30:00  UNIDAD VICENTE GUERRERO      IZTAPALAPA -99.061321   \n",
       "\n",
       "                       latitud  \n",
       "fecha_hechos                    \n",
       "2016-01-31 22:16:00  19.380315  \n",
       "2016-01-31 20:50:00  19.352859  \n",
       "2016-02-01 00:30:00  19.356451  "
      ]
     },
     "execution_count": 86,
     "metadata": {},
     "output_type": "execute_result"
    }
   ],
   "source": [
    "print(FGJ_alcaldias.shape)\n",
    "FGJ_alcaldias.head(3)"
   ]
  },
  {
   "cell_type": "markdown",
   "id": "b3efd075",
   "metadata": {},
   "source": [
    "### 2. Increasing / decreasing crime rates"
   ]
  },
  {
   "cell_type": "code",
   "execution_count": 168,
   "id": "117a0513",
   "metadata": {},
   "outputs": [],
   "source": [
    "## Build crime list\n",
    "delitos_list = FGJ_alcaldias.delito.value_counts().index"
   ]
  },
  {
   "cell_type": "code",
   "execution_count": 204,
   "id": "35490727",
   "metadata": {},
   "outputs": [],
   "source": [
    "## Build crime rate change DF for last year\n",
    "crime_rate = pd.DataFrame(delitos_list.sort_values())\n",
    "crime_rate.set_index(delitos_list.sort_values(), inplace=True)\n",
    "crime_rate.drop(0, axis=1, inplace=True)\n",
    "\n",
    "crime_rate['Oct-2020'] = FGJ_alcaldias.loc[(FGJ_alcaldias.ao_hechos == 2020)&(FGJ_alcaldias.mes_hechos == 'Octubre')].delito.value_counts()\n",
    "crime_rate['Sep-2021'] = FGJ_alcaldias.loc[(FGJ_alcaldias.ao_hechos == 2021)&(FGJ_alcaldias.mes_hechos == 'Septiembre')].delito.value_counts()\n",
    "\n",
    "crime_rate.dropna(inplace=True)\n",
    "crime_rate = crime_rate.loc[(crime_rate['Oct-2020'] >= 50) & (crime_rate['Sep-2021'] >= 50)]\n",
    "\n",
    "crime_rate['Pct_Change'] = (crime_rate['Sep-2021'] - crime_rate['Oct-2020'])/crime_rate['Oct-2020']"
   ]
  },
  {
   "cell_type": "code",
   "execution_count": 207,
   "id": "8ef4d353",
   "metadata": {},
   "outputs": [
    {
     "data": {
      "text/html": [
       "<div>\n",
       "<style scoped>\n",
       "    .dataframe tbody tr th:only-of-type {\n",
       "        vertical-align: middle;\n",
       "    }\n",
       "\n",
       "    .dataframe tbody tr th {\n",
       "        vertical-align: top;\n",
       "    }\n",
       "\n",
       "    .dataframe thead th {\n",
       "        text-align: right;\n",
       "    }\n",
       "</style>\n",
       "<table border=\"1\" class=\"dataframe\">\n",
       "  <thead>\n",
       "    <tr style=\"text-align: right;\">\n",
       "      <th></th>\n",
       "      <th>Oct-2020</th>\n",
       "      <th>Sep-2021</th>\n",
       "      <th>Pct_Change</th>\n",
       "    </tr>\n",
       "  </thead>\n",
       "  <tbody>\n",
       "    <tr>\n",
       "      <th>ROBO A TRANSEUNTE EN PARQUES Y MERCADOS CON VIOLENCIA</th>\n",
       "      <td>50.0</td>\n",
       "      <td>112.0</td>\n",
       "      <td>1.240000</td>\n",
       "    </tr>\n",
       "    <tr>\n",
       "      <th>LESIONES INTENCIONALES POR ARMA BLANCA</th>\n",
       "      <td>73.0</td>\n",
       "      <td>106.0</td>\n",
       "      <td>0.452055</td>\n",
       "    </tr>\n",
       "    <tr>\n",
       "      <th>NARCOMENUDEO POSESIÓN CON FINES DE VENTA, COMERCIO Y SUMINISTRO</th>\n",
       "      <td>104.0</td>\n",
       "      <td>150.0</td>\n",
       "      <td>0.442308</td>\n",
       "    </tr>\n",
       "    <tr>\n",
       "      <th>ROBO A NEGOCIO CON VIOLENCIA</th>\n",
       "      <td>166.0</td>\n",
       "      <td>223.0</td>\n",
       "      <td>0.343373</td>\n",
       "    </tr>\n",
       "    <tr>\n",
       "      <th>CONTRA LA INTIMIDAD SEXUAL</th>\n",
       "      <td>70.0</td>\n",
       "      <td>93.0</td>\n",
       "      <td>0.328571</td>\n",
       "    </tr>\n",
       "  </tbody>\n",
       "</table>\n",
       "</div>"
      ],
      "text/plain": [
       "                                                    Oct-2020  Sep-2021  \\\n",
       "ROBO A TRANSEUNTE EN PARQUES Y MERCADOS CON VIO...      50.0     112.0   \n",
       "LESIONES INTENCIONALES POR ARMA BLANCA                  73.0     106.0   \n",
       "NARCOMENUDEO POSESIÓN CON FINES DE VENTA, COMER...     104.0     150.0   \n",
       "ROBO A NEGOCIO CON VIOLENCIA                           166.0     223.0   \n",
       "CONTRA LA INTIMIDAD SEXUAL                              70.0      93.0   \n",
       "\n",
       "                                                    Pct_Change  \n",
       "ROBO A TRANSEUNTE EN PARQUES Y MERCADOS CON VIO...    1.240000  \n",
       "LESIONES INTENCIONALES POR ARMA BLANCA                0.452055  \n",
       "NARCOMENUDEO POSESIÓN CON FINES DE VENTA, COMER...    0.442308  \n",
       "ROBO A NEGOCIO CON VIOLENCIA                          0.343373  \n",
       "CONTRA LA INTIMIDAD SEXUAL                            0.328571  "
      ]
     },
     "execution_count": 207,
     "metadata": {},
     "output_type": "execute_result"
    }
   ],
   "source": [
    "## Top 5 crime increase rate\n",
    "crime_rate.sort_values(['Pct_Change'], ascending=False).head(5)"
   ]
  },
  {
   "cell_type": "code",
   "execution_count": 279,
   "id": "e59ff604",
   "metadata": {},
   "outputs": [
    {
     "data": {
      "text/html": [
       "<div>\n",
       "<style scoped>\n",
       "    .dataframe tbody tr th:only-of-type {\n",
       "        vertical-align: middle;\n",
       "    }\n",
       "\n",
       "    .dataframe tbody tr th {\n",
       "        vertical-align: top;\n",
       "    }\n",
       "\n",
       "    .dataframe thead th {\n",
       "        text-align: right;\n",
       "    }\n",
       "</style>\n",
       "<table border=\"1\" class=\"dataframe\">\n",
       "  <thead>\n",
       "    <tr style=\"text-align: right;\">\n",
       "      <th></th>\n",
       "      <th>Oct-2020</th>\n",
       "      <th>Sep-2021</th>\n",
       "      <th>Pct_Change</th>\n",
       "    </tr>\n",
       "  </thead>\n",
       "  <tbody>\n",
       "    <tr>\n",
       "      <th>DAÑO EN PROPIEDAD AJENA INTENCIONAL</th>\n",
       "      <td>209.0</td>\n",
       "      <td>107.0</td>\n",
       "      <td>-0.488038</td>\n",
       "    </tr>\n",
       "    <tr>\n",
       "      <th>ENCUBRIMIENTO</th>\n",
       "      <td>129.0</td>\n",
       "      <td>63.0</td>\n",
       "      <td>-0.511628</td>\n",
       "    </tr>\n",
       "    <tr>\n",
       "      <th>FRAUDE</th>\n",
       "      <td>1341.0</td>\n",
       "      <td>630.0</td>\n",
       "      <td>-0.530201</td>\n",
       "    </tr>\n",
       "    <tr>\n",
       "      <th>ROBO A NEGOCIO SIN VIOLENCIA</th>\n",
       "      <td>402.0</td>\n",
       "      <td>185.0</td>\n",
       "      <td>-0.539801</td>\n",
       "    </tr>\n",
       "    <tr>\n",
       "      <th>PRODUCCIÓN, IMPRESIÓN, ENAJENACIÓN, DISTRIBUCIÓN, ALTERACIÓN O FALSIFICACIÓN DE TÍTULOS AL PORTADOR, DOCUMENTOS DE CRÉDITO PÚBLICOS O VALES DE CANJE</th>\n",
       "      <td>255.0</td>\n",
       "      <td>71.0</td>\n",
       "      <td>-0.721569</td>\n",
       "    </tr>\n",
       "  </tbody>\n",
       "</table>\n",
       "</div>"
      ],
      "text/plain": [
       "                                                    Oct-2020  Sep-2021  \\\n",
       "DAÑO EN PROPIEDAD AJENA INTENCIONAL                    209.0     107.0   \n",
       "ENCUBRIMIENTO                                          129.0      63.0   \n",
       "FRAUDE                                                1341.0     630.0   \n",
       "ROBO A NEGOCIO SIN VIOLENCIA                           402.0     185.0   \n",
       "PRODUCCIÓN, IMPRESIÓN, ENAJENACIÓN, DISTRIBUCIÓ...     255.0      71.0   \n",
       "\n",
       "                                                    Pct_Change  \n",
       "DAÑO EN PROPIEDAD AJENA INTENCIONAL                  -0.488038  \n",
       "ENCUBRIMIENTO                                        -0.511628  \n",
       "FRAUDE                                               -0.530201  \n",
       "ROBO A NEGOCIO SIN VIOLENCIA                         -0.539801  \n",
       "PRODUCCIÓN, IMPRESIÓN, ENAJENACIÓN, DISTRIBUCIÓ...   -0.721569  "
      ]
     },
     "execution_count": 279,
     "metadata": {},
     "output_type": "execute_result"
    }
   ],
   "source": [
    "## Top 5 crime decrease rate\n",
    "crime_rate.sort_values(['Pct_Change'], ascending=False).tail(5)"
   ]
  },
  {
   "cell_type": "markdown",
   "id": "a73237f6",
   "metadata": {},
   "source": [
    "### 3. Crime count by Alcaldía"
   ]
  },
  {
   "cell_type": "code",
   "execution_count": 229,
   "id": "d0605a06",
   "metadata": {},
   "outputs": [
    {
     "data": {
      "text/plain": [
       "alcaldia_hechos\n",
       "CUAUHTEMOC                195149\n",
       "IZTAPALAPA                193014\n",
       "GUSTAVO A MADERO          129141\n",
       "BENITO JUAREZ             104641\n",
       "ALVARO OBREGON             87552\n",
       "COYOACAN                   85670\n",
       "MIGUEL HIDALGO             82574\n",
       "TLALPAN                    75262\n",
       "VENUSTIANO CARRANZA        73839\n",
       "AZCAPOTZALCO               62425\n",
       "IZTACALCO                  53469\n",
       "XOCHIMILCO                 40365\n",
       "TLAHUAC                    31930\n",
       "LA MAGDALENA CONTRERAS     21128\n",
       "CUAJIMALPA DE MORELOS      19047\n",
       "MILPA ALTA                  9408\n",
       "Name: delito, dtype: int64"
      ]
     },
     "execution_count": 229,
     "metadata": {},
     "output_type": "execute_result"
    }
   ],
   "source": [
    "FGJ_alcaldias.groupby(['alcaldia_hechos']).count()['delito'].sort_values(ascending=False)"
   ]
  },
  {
   "cell_type": "code",
   "execution_count": 232,
   "id": "cc8ebf36",
   "metadata": {},
   "outputs": [
    {
     "data": {
      "text/plain": [
       "<AxesSubplot:ylabel='alcaldia_hechos'>"
      ]
     },
     "execution_count": 232,
     "metadata": {},
     "output_type": "execute_result"
    },
    {
     "data": {
      "image/png": "[encoded data removed]",
      "text/plain": [
       "<Figure size 432x288 with 1 Axes>"
      ]
     },
     "metadata": {
      "needs_background": "light"
     },
     "output_type": "display_data"
    }
   ],
   "source": [
    "FGJ_alcaldias.groupby(['alcaldia_hechos']).count()['delito'].sort_values().plot(kind='barh')"
   ]
  },
  {
   "cell_type": "markdown",
   "id": "72c0758d",
   "metadata": {},
   "source": [
    "### 4. Crime rate by Alcaldía"
   ]
  },
  {
   "cell_type": "code",
   "execution_count": 277,
   "id": "666f8695",
   "metadata": {},
   "outputs": [],
   "source": [
    "## Build crime rate change DF for last year\n",
    "alcaldias_rate = pd.DataFrame(alcaldias_list.sort_values())\n",
    "alcaldias_rate.set_index(alcaldias_list.sort_values(), inplace=True)\n",
    "alcaldias_rate.drop(0, axis=1, inplace=True)\n",
    "\n",
    "alcaldias_rate['Oct-2020'] = FGJ_alcaldias[(FGJ_alcaldias.ao_hechos == 2020)&(FGJ_alcaldias.mes_hechos == 'Octubre')].groupby(['alcaldia_hechos']).count()['delito']\n",
    "alcaldias_rate['Sep-2021'] = FGJ_alcaldias[(FGJ_alcaldias.ao_hechos == 2021)&(FGJ_alcaldias.mes_hechos == 'Septiembre')].groupby(['alcaldia_hechos']).count()['delito']\n",
    "\n",
    "alcaldias_rate['Pct_Change'] = (alcaldias_rate['Sep-2021'] - alcaldias_rate['Oct-2020'])/alcaldias_rate['Oct-2020']"
   ]
  },
  {
   "cell_type": "code",
   "execution_count": 278,
   "id": "d15bfa00",
   "metadata": {},
   "outputs": [
    {
     "data": {
      "text/html": [
       "<div>\n",
       "<style scoped>\n",
       "    .dataframe tbody tr th:only-of-type {\n",
       "        vertical-align: middle;\n",
       "    }\n",
       "\n",
       "    .dataframe tbody tr th {\n",
       "        vertical-align: top;\n",
       "    }\n",
       "\n",
       "    .dataframe thead th {\n",
       "        text-align: right;\n",
       "    }\n",
       "</style>\n",
       "<table border=\"1\" class=\"dataframe\">\n",
       "  <thead>\n",
       "    <tr style=\"text-align: right;\">\n",
       "      <th></th>\n",
       "      <th>Oct-2020</th>\n",
       "      <th>Sep-2021</th>\n",
       "      <th>Pct_Change</th>\n",
       "    </tr>\n",
       "  </thead>\n",
       "  <tbody>\n",
       "    <tr>\n",
       "      <th>ALVARO OBREGON</th>\n",
       "      <td>1385</td>\n",
       "      <td>953</td>\n",
       "      <td>-0.311913</td>\n",
       "    </tr>\n",
       "    <tr>\n",
       "      <th>AZCAPOTZALCO</th>\n",
       "      <td>990</td>\n",
       "      <td>818</td>\n",
       "      <td>-0.173737</td>\n",
       "    </tr>\n",
       "    <tr>\n",
       "      <th>BENITO JUAREZ</th>\n",
       "      <td>1333</td>\n",
       "      <td>945</td>\n",
       "      <td>-0.291073</td>\n",
       "    </tr>\n",
       "    <tr>\n",
       "      <th>COYOACAN</th>\n",
       "      <td>1250</td>\n",
       "      <td>983</td>\n",
       "      <td>-0.213600</td>\n",
       "    </tr>\n",
       "    <tr>\n",
       "      <th>CUAJIMALPA DE MORELOS</th>\n",
       "      <td>362</td>\n",
       "      <td>193</td>\n",
       "      <td>-0.466851</td>\n",
       "    </tr>\n",
       "    <tr>\n",
       "      <th>CUAUHTEMOC</th>\n",
       "      <td>2511</td>\n",
       "      <td>1959</td>\n",
       "      <td>-0.219833</td>\n",
       "    </tr>\n",
       "    <tr>\n",
       "      <th>GUSTAVO A MADERO</th>\n",
       "      <td>1934</td>\n",
       "      <td>1584</td>\n",
       "      <td>-0.180972</td>\n",
       "    </tr>\n",
       "    <tr>\n",
       "      <th>IZTACALCO</th>\n",
       "      <td>748</td>\n",
       "      <td>592</td>\n",
       "      <td>-0.208556</td>\n",
       "    </tr>\n",
       "    <tr>\n",
       "      <th>IZTAPALAPA</th>\n",
       "      <td>2813</td>\n",
       "      <td>2060</td>\n",
       "      <td>-0.267686</td>\n",
       "    </tr>\n",
       "    <tr>\n",
       "      <th>LA MAGDALENA CONTRERAS</th>\n",
       "      <td>397</td>\n",
       "      <td>264</td>\n",
       "      <td>-0.335013</td>\n",
       "    </tr>\n",
       "    <tr>\n",
       "      <th>MIGUEL HIDALGO</th>\n",
       "      <td>1114</td>\n",
       "      <td>799</td>\n",
       "      <td>-0.282765</td>\n",
       "    </tr>\n",
       "    <tr>\n",
       "      <th>MILPA ALTA</th>\n",
       "      <td>192</td>\n",
       "      <td>162</td>\n",
       "      <td>-0.156250</td>\n",
       "    </tr>\n",
       "    <tr>\n",
       "      <th>TLAHUAC</th>\n",
       "      <td>544</td>\n",
       "      <td>419</td>\n",
       "      <td>-0.229779</td>\n",
       "    </tr>\n",
       "    <tr>\n",
       "      <th>TLALPAN</th>\n",
       "      <td>1099</td>\n",
       "      <td>824</td>\n",
       "      <td>-0.250227</td>\n",
       "    </tr>\n",
       "    <tr>\n",
       "      <th>VENUSTIANO CARRANZA</th>\n",
       "      <td>978</td>\n",
       "      <td>869</td>\n",
       "      <td>-0.111452</td>\n",
       "    </tr>\n",
       "    <tr>\n",
       "      <th>XOCHIMILCO</th>\n",
       "      <td>626</td>\n",
       "      <td>438</td>\n",
       "      <td>-0.300319</td>\n",
       "    </tr>\n",
       "  </tbody>\n",
       "</table>\n",
       "</div>"
      ],
      "text/plain": [
       "                        Oct-2020  Sep-2021  Pct_Change\n",
       "ALVARO OBREGON              1385       953   -0.311913\n",
       "AZCAPOTZALCO                 990       818   -0.173737\n",
       "BENITO JUAREZ               1333       945   -0.291073\n",
       "COYOACAN                    1250       983   -0.213600\n",
       "CUAJIMALPA DE MORELOS        362       193   -0.466851\n",
       "CUAUHTEMOC                  2511      1959   -0.219833\n",
       "GUSTAVO A MADERO            1934      1584   -0.180972\n",
       "IZTACALCO                    748       592   -0.208556\n",
       "IZTAPALAPA                  2813      2060   -0.267686\n",
       "LA MAGDALENA CONTRERAS       397       264   -0.335013\n",
       "MIGUEL HIDALGO              1114       799   -0.282765\n",
       "MILPA ALTA                   192       162   -0.156250\n",
       "TLAHUAC                      544       419   -0.229779\n",
       "TLALPAN                     1099       824   -0.250227\n",
       "VENUSTIANO CARRANZA          978       869   -0.111452\n",
       "XOCHIMILCO                   626       438   -0.300319"
      ]
     },
     "execution_count": 278,
     "metadata": {},
     "output_type": "execute_result"
    }
   ],
   "source": [
    "alcaldias_rate"
   ]
  },
  {
   "cell_type": "code",
   "execution_count": 282,
   "id": "d0ecdbf7",
   "metadata": {},
   "outputs": [
    {
     "data": {
      "text/html": [
       "<div>\n",
       "<style scoped>\n",
       "    .dataframe tbody tr th:only-of-type {\n",
       "        vertical-align: middle;\n",
       "    }\n",
       "\n",
       "    .dataframe tbody tr th {\n",
       "        vertical-align: top;\n",
       "    }\n",
       "\n",
       "    .dataframe thead th {\n",
       "        text-align: right;\n",
       "    }\n",
       "</style>\n",
       "<table border=\"1\" class=\"dataframe\">\n",
       "  <thead>\n",
       "    <tr style=\"text-align: right;\">\n",
       "      <th></th>\n",
       "      <th>Oct-2020</th>\n",
       "      <th>Sep-2021</th>\n",
       "      <th>Pct_Change</th>\n",
       "    </tr>\n",
       "  </thead>\n",
       "  <tbody>\n",
       "    <tr>\n",
       "      <th>VENUSTIANO CARRANZA</th>\n",
       "      <td>978</td>\n",
       "      <td>869</td>\n",
       "      <td>-0.111452</td>\n",
       "    </tr>\n",
       "    <tr>\n",
       "      <th>MILPA ALTA</th>\n",
       "      <td>192</td>\n",
       "      <td>162</td>\n",
       "      <td>-0.156250</td>\n",
       "    </tr>\n",
       "    <tr>\n",
       "      <th>AZCAPOTZALCO</th>\n",
       "      <td>990</td>\n",
       "      <td>818</td>\n",
       "      <td>-0.173737</td>\n",
       "    </tr>\n",
       "    <tr>\n",
       "      <th>GUSTAVO A MADERO</th>\n",
       "      <td>1934</td>\n",
       "      <td>1584</td>\n",
       "      <td>-0.180972</td>\n",
       "    </tr>\n",
       "    <tr>\n",
       "      <th>IZTACALCO</th>\n",
       "      <td>748</td>\n",
       "      <td>592</td>\n",
       "      <td>-0.208556</td>\n",
       "    </tr>\n",
       "  </tbody>\n",
       "</table>\n",
       "</div>"
      ],
      "text/plain": [
       "                     Oct-2020  Sep-2021  Pct_Change\n",
       "VENUSTIANO CARRANZA       978       869   -0.111452\n",
       "MILPA ALTA                192       162   -0.156250\n",
       "AZCAPOTZALCO              990       818   -0.173737\n",
       "GUSTAVO A MADERO         1934      1584   -0.180972\n",
       "IZTACALCO                 748       592   -0.208556"
      ]
     },
     "execution_count": 282,
     "metadata": {},
     "output_type": "execute_result"
    }
   ],
   "source": [
    "## Top 5 crime increase rate (least decrease rate)\n",
    "alcaldias_rate.sort_values(['Pct_Change'], ascending=False).head(5)"
   ]
  },
  {
   "cell_type": "code",
   "execution_count": 283,
   "id": "34774f72",
   "metadata": {},
   "outputs": [
    {
     "data": {
      "text/html": [
       "<div>\n",
       "<style scoped>\n",
       "    .dataframe tbody tr th:only-of-type {\n",
       "        vertical-align: middle;\n",
       "    }\n",
       "\n",
       "    .dataframe tbody tr th {\n",
       "        vertical-align: top;\n",
       "    }\n",
       "\n",
       "    .dataframe thead th {\n",
       "        text-align: right;\n",
       "    }\n",
       "</style>\n",
       "<table border=\"1\" class=\"dataframe\">\n",
       "  <thead>\n",
       "    <tr style=\"text-align: right;\">\n",
       "      <th></th>\n",
       "      <th>Oct-2020</th>\n",
       "      <th>Sep-2021</th>\n",
       "      <th>Pct_Change</th>\n",
       "    </tr>\n",
       "  </thead>\n",
       "  <tbody>\n",
       "    <tr>\n",
       "      <th>BENITO JUAREZ</th>\n",
       "      <td>1333</td>\n",
       "      <td>945</td>\n",
       "      <td>-0.291073</td>\n",
       "    </tr>\n",
       "    <tr>\n",
       "      <th>XOCHIMILCO</th>\n",
       "      <td>626</td>\n",
       "      <td>438</td>\n",
       "      <td>-0.300319</td>\n",
       "    </tr>\n",
       "    <tr>\n",
       "      <th>ALVARO OBREGON</th>\n",
       "      <td>1385</td>\n",
       "      <td>953</td>\n",
       "      <td>-0.311913</td>\n",
       "    </tr>\n",
       "    <tr>\n",
       "      <th>LA MAGDALENA CONTRERAS</th>\n",
       "      <td>397</td>\n",
       "      <td>264</td>\n",
       "      <td>-0.335013</td>\n",
       "    </tr>\n",
       "    <tr>\n",
       "      <th>CUAJIMALPA DE MORELOS</th>\n",
       "      <td>362</td>\n",
       "      <td>193</td>\n",
       "      <td>-0.466851</td>\n",
       "    </tr>\n",
       "  </tbody>\n",
       "</table>\n",
       "</div>"
      ],
      "text/plain": [
       "                        Oct-2020  Sep-2021  Pct_Change\n",
       "BENITO JUAREZ               1333       945   -0.291073\n",
       "XOCHIMILCO                   626       438   -0.300319\n",
       "ALVARO OBREGON              1385       953   -0.311913\n",
       "LA MAGDALENA CONTRERAS       397       264   -0.335013\n",
       "CUAJIMALPA DE MORELOS        362       193   -0.466851"
      ]
     },
     "execution_count": 283,
     "metadata": {},
     "output_type": "execute_result"
    }
   ],
   "source": [
    "## Top 5 crime decrease rate\n",
    "alcaldias_rate.sort_values(['Pct_Change'], ascending=False).tail(5)"
   ]
  },
  {
   "cell_type": "code",
   "execution_count": 291,
   "id": "e8a0f955",
   "metadata": {},
   "outputs": [
    {
     "data": {
      "text/plain": [
       "<AxesSubplot:>"
      ]
     },
     "execution_count": 291,
     "metadata": {},
     "output_type": "execute_result"
    },
    {
     "data": {
      "image/png": "[encoded data removed]",
      "text/plain": [
       "<Figure size 432x288 with 1 Axes>"
      ]
     },
     "metadata": {
      "needs_background": "light"
     },
     "output_type": "display_data"
    }
   ],
   "source": [
    "alcaldias_rate.sort_values(['Pct_Change'], ascending=False).plot(kind='bar')"
   ]
  },
  {
   "cell_type": "markdown",
   "id": "5a769776",
   "metadata": {},
   "source": [
    "### 5. Distinctive crimes by Alcaldía"
   ]
  },
  {
   "cell_type": "code",
   "execution_count": null,
   "id": "1908a1e7",
   "metadata": {},
   "outputs": [],
   "source": []
  },
  {
   "cell_type": "code",
   "execution_count": null,
   "id": "22893f72",
   "metadata": {},
   "outputs": [],
   "source": []
  },
  {
   "cell_type": "code",
   "execution_count": null,
   "id": "c90d3cb0",
   "metadata": {},
   "outputs": [],
   "source": []
  },
  {
   "cell_type": "code",
   "execution_count": null,
   "id": "a67f993e",
   "metadata": {},
   "outputs": [],
   "source": []
  },
  {
   "cell_type": "code",
   "execution_count": null,
   "id": "90090416",
   "metadata": {},
   "outputs": [],
   "source": []
  },
  {
   "cell_type": "code",
   "execution_count": 210,
   "id": "554b9576",
   "metadata": {},
   "outputs": [
    {
     "data": {
      "text/plain": [
       "delito               fecha_hechos\n",
       "ABANDONO DE PERSONA  2016-01-31        34\n",
       "                     2016-02-29        47\n",
       "                     2016-03-31        40\n",
       "                     2016-04-30        46\n",
       "                     2016-05-31        52\n",
       "                                     ... \n",
       "VIOLENCIA FAMILIAR   2021-05-31      3142\n",
       "                     2021-06-30      2753\n",
       "                     2021-07-31      2706\n",
       "                     2021-08-31      2577\n",
       "                     2021-09-30      2162\n",
       "Name: ao_hechos, Length: 14423, dtype: int64"
      ]
     },
     "execution_count": 210,
     "metadata": {},
     "output_type": "execute_result"
    }
   ],
   "source": [
    "FGJ_alcaldias.groupby(['delito', pd.Grouper(freq='m')]).count()['ao_hechos']"
   ]
  },
  {
   "cell_type": "code",
   "execution_count": null,
   "id": "21433029",
   "metadata": {},
   "outputs": [],
   "source": []
  },
  {
   "cell_type": "code",
   "execution_count": null,
   "id": "6b6a6deb",
   "metadata": {},
   "outputs": [],
   "source": []
  }
 ],
 "metadata": {
  "kernelspec": {
   "display_name": "Python 3",
   "language": "python",
   "name": "python3"
  },
  "language_info": {
   "codemirror_mode": {
    "name": "ipython",
    "version": 3
   },
   "file_extension": ".py",
   "mimetype": "text/x-python",
   "name": "python",
   "nbconvert_exporter": "python",
   "pygments_lexer": "ipython3",
   "version": "3.8.8"
  }
 },
 "nbformat": 4,
 "nbformat_minor": 5
}
