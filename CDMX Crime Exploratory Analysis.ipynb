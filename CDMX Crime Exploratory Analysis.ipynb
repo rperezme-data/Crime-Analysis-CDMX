{
 "cells": [
  {
   "cell_type": "markdown",
   "id": "9e8c8ecd",
   "metadata": {},
   "source": [
    "# OPI analytics\n",
    "## Mexico City's crime exploratory analysis"
   ]
  },
  {
   "cell_type": "code",
   "execution_count": 26,
   "id": "08794bcb",
   "metadata": {},
   "outputs": [],
   "source": [
    "## Dependencies\n",
    "import pandas as pd\n",
    "import matplotlib.pyplot as plt"
   ]
  },
  {
   "cell_type": "markdown",
   "id": "1b88949c",
   "metadata": {},
   "source": [
    "### A. Data collection"
   ]
  },
  {
   "cell_type": "code",
   "execution_count": 2,
   "id": "5c2b8857",
   "metadata": {},
   "outputs": [],
   "source": [
    "## Import data from FGJ open cases CSV file\n",
    "## Reference: https://datos.cdmx.gob.mx/dataset/carpetas-de-investigacion-fgj-de-la-ciudad-de-mexico/resource/48fcb848-220c-4af0-839b-4fd8ac812c0f\n",
    "FGJ_data = pd.read_csv('data/carpetas_completa_septiembre_2021.csv', low_memory=False)"
   ]
  },
  {
   "cell_type": "markdown",
   "id": "62a1a381",
   "metadata": {},
   "source": [
    "### B. Data exploration"
   ]
  },
  {
   "cell_type": "code",
   "execution_count": 3,
   "id": "e31352a8",
   "metadata": {},
   "outputs": [
    {
     "data": {
      "text/html": [
       "<div>\n",
       "<style scoped>\n",
       "    .dataframe tbody tr th:only-of-type {\n",
       "        vertical-align: middle;\n",
       "    }\n",
       "\n",
       "    .dataframe tbody tr th {\n",
       "        vertical-align: top;\n",
       "    }\n",
       "\n",
       "    .dataframe thead th {\n",
       "        text-align: right;\n",
       "    }\n",
       "</style>\n",
       "<table border=\"1\" class=\"dataframe\">\n",
       "  <thead>\n",
       "    <tr style=\"text-align: right;\">\n",
       "      <th></th>\n",
       "      <th>ao_hechos</th>\n",
       "      <th>mes_hechos</th>\n",
       "      <th>fecha_hechos</th>\n",
       "      <th>ao_inicio</th>\n",
       "      <th>mes_inicio</th>\n",
       "      <th>fecha_inicio</th>\n",
       "      <th>delito</th>\n",
       "      <th>fiscalia</th>\n",
       "      <th>agencia</th>\n",
       "      <th>unidad_investigacion</th>\n",
       "      <th>categoria_delito</th>\n",
       "      <th>calle_hechos</th>\n",
       "      <th>calle_hechos2</th>\n",
       "      <th>colonia_hechos</th>\n",
       "      <th>alcaldia_hechos</th>\n",
       "      <th>competencia</th>\n",
       "      <th>longitud</th>\n",
       "      <th>latitud</th>\n",
       "      <th>tempo</th>\n",
       "    </tr>\n",
       "  </thead>\n",
       "  <tbody>\n",
       "    <tr>\n",
       "      <th>0</th>\n",
       "      <td>2016.0</td>\n",
       "      <td>Enero</td>\n",
       "      <td>2016-01-31 22:16:00</td>\n",
       "      <td>2016</td>\n",
       "      <td>Febrero</td>\n",
       "      <td>2016-02-01 00:25:44</td>\n",
       "      <td>DAÑO EN PROPIEDAD AJENA INTENCIONAL</td>\n",
       "      <td>INVESTIGACIÓN EN BENITO JUÁREZ</td>\n",
       "      <td>BJ-2</td>\n",
       "      <td>UI-3CD</td>\n",
       "      <td>DELITO DE BAJO IMPACTO</td>\n",
       "      <td>CALZ. DE TLALPAN</td>\n",
       "      <td>LAGO PTE.</td>\n",
       "      <td>AMÉRICAS UNIDAS</td>\n",
       "      <td>BENITO JUAREZ</td>\n",
       "      <td>NaN</td>\n",
       "      <td>-99.140215</td>\n",
       "      <td>19.380315</td>\n",
       "      <td>NaN</td>\n",
       "    </tr>\n",
       "    <tr>\n",
       "      <th>1</th>\n",
       "      <td>2016.0</td>\n",
       "      <td>Enero</td>\n",
       "      <td>2016-01-31 20:50:00</td>\n",
       "      <td>2016</td>\n",
       "      <td>Febrero</td>\n",
       "      <td>2016-02-01 00:52:37</td>\n",
       "      <td>ROBO DE VEHICULO DE SERVICIO PARTICULAR CON VI...</td>\n",
       "      <td>INVESTIGACIÓN PARA LA ATENCIÓN DEL DELITO DE R...</td>\n",
       "      <td>ORIENTEII</td>\n",
       "      <td>UI-3CD</td>\n",
       "      <td>ROBO DE VEHÍCULO CON Y SIN VIOLENCIA</td>\n",
       "      <td>SUR 25 A</td>\n",
       "      <td>GRANJEROS</td>\n",
       "      <td>LOS CIPRESES</td>\n",
       "      <td>IZTAPALAPA</td>\n",
       "      <td>NaN</td>\n",
       "      <td>-99.108403</td>\n",
       "      <td>19.352859</td>\n",
       "      <td>NaN</td>\n",
       "    </tr>\n",
       "    <tr>\n",
       "      <th>2</th>\n",
       "      <td>2016.0</td>\n",
       "      <td>Febrero</td>\n",
       "      <td>2016-02-01 00:30:00</td>\n",
       "      <td>2016</td>\n",
       "      <td>Febrero</td>\n",
       "      <td>2016-02-01 01:33:26</td>\n",
       "      <td>NARCOMENUDEO POSESION SIMPLE</td>\n",
       "      <td>INVESTIGACIÓN PARA LA ATENCIÓN DE NIÑOS, NIÑAS...</td>\n",
       "      <td>57</td>\n",
       "      <td>UI-3CD</td>\n",
       "      <td>DELITO DE BAJO IMPACTO</td>\n",
       "      <td>BATALLONES ROJOS</td>\n",
       "      <td>NaN</td>\n",
       "      <td>UNIDAD VICENTE GUERRERO</td>\n",
       "      <td>IZTAPALAPA</td>\n",
       "      <td>NaN</td>\n",
       "      <td>-99.061321</td>\n",
       "      <td>19.356451</td>\n",
       "      <td>NaN</td>\n",
       "    </tr>\n",
       "  </tbody>\n",
       "</table>\n",
       "</div>"
      ],
      "text/plain": [
       "   ao_hechos mes_hechos         fecha_hechos  ao_inicio mes_inicio  \\\n",
       "0     2016.0      Enero  2016-01-31 22:16:00       2016    Febrero   \n",
       "1     2016.0      Enero  2016-01-31 20:50:00       2016    Febrero   \n",
       "2     2016.0    Febrero  2016-02-01 00:30:00       2016    Febrero   \n",
       "\n",
       "          fecha_inicio                                             delito  \\\n",
       "0  2016-02-01 00:25:44                DAÑO EN PROPIEDAD AJENA INTENCIONAL   \n",
       "1  2016-02-01 00:52:37  ROBO DE VEHICULO DE SERVICIO PARTICULAR CON VI...   \n",
       "2  2016-02-01 01:33:26                       NARCOMENUDEO POSESION SIMPLE   \n",
       "\n",
       "                                            fiscalia    agencia  \\\n",
       "0                     INVESTIGACIÓN EN BENITO JUÁREZ       BJ-2   \n",
       "1  INVESTIGACIÓN PARA LA ATENCIÓN DEL DELITO DE R...  ORIENTEII   \n",
       "2  INVESTIGACIÓN PARA LA ATENCIÓN DE NIÑOS, NIÑAS...         57   \n",
       "\n",
       "  unidad_investigacion                      categoria_delito  \\\n",
       "0               UI-3CD                DELITO DE BAJO IMPACTO   \n",
       "1               UI-3CD  ROBO DE VEHÍCULO CON Y SIN VIOLENCIA   \n",
       "2               UI-3CD                DELITO DE BAJO IMPACTO   \n",
       "\n",
       "       calle_hechos calle_hechos2           colonia_hechos alcaldia_hechos  \\\n",
       "0  CALZ. DE TLALPAN     LAGO PTE.          AMÉRICAS UNIDAS   BENITO JUAREZ   \n",
       "1          SUR 25 A     GRANJEROS             LOS CIPRESES      IZTAPALAPA   \n",
       "2  BATALLONES ROJOS           NaN  UNIDAD VICENTE GUERRERO      IZTAPALAPA   \n",
       "\n",
       "  competencia   longitud    latitud  tempo  \n",
       "0         NaN -99.140215  19.380315    NaN  \n",
       "1         NaN -99.108403  19.352859    NaN  \n",
       "2         NaN -99.061321  19.356451    NaN  "
      ]
     },
     "execution_count": 3,
     "metadata": {},
     "output_type": "execute_result"
    }
   ],
   "source": [
    "FGJ_data.head(3)"
   ]
  },
  {
   "cell_type": "code",
   "execution_count": 4,
   "id": "37e670c7",
   "metadata": {},
   "outputs": [
    {
     "data": {
      "text/html": [
       "<div>\n",
       "<style scoped>\n",
       "    .dataframe tbody tr th:only-of-type {\n",
       "        vertical-align: middle;\n",
       "    }\n",
       "\n",
       "    .dataframe tbody tr th {\n",
       "        vertical-align: top;\n",
       "    }\n",
       "\n",
       "    .dataframe thead th {\n",
       "        text-align: right;\n",
       "    }\n",
       "</style>\n",
       "<table border=\"1\" class=\"dataframe\">\n",
       "  <thead>\n",
       "    <tr style=\"text-align: right;\">\n",
       "      <th></th>\n",
       "      <th>ao_hechos</th>\n",
       "      <th>mes_hechos</th>\n",
       "      <th>fecha_hechos</th>\n",
       "      <th>ao_inicio</th>\n",
       "      <th>mes_inicio</th>\n",
       "      <th>fecha_inicio</th>\n",
       "      <th>delito</th>\n",
       "      <th>fiscalia</th>\n",
       "      <th>agencia</th>\n",
       "      <th>unidad_investigacion</th>\n",
       "      <th>categoria_delito</th>\n",
       "      <th>calle_hechos</th>\n",
       "      <th>calle_hechos2</th>\n",
       "      <th>colonia_hechos</th>\n",
       "      <th>alcaldia_hechos</th>\n",
       "      <th>competencia</th>\n",
       "      <th>longitud</th>\n",
       "      <th>latitud</th>\n",
       "      <th>tempo</th>\n",
       "    </tr>\n",
       "  </thead>\n",
       "  <tbody>\n",
       "    <tr>\n",
       "      <th>1307208</th>\n",
       "      <td>2021.0</td>\n",
       "      <td>Septiembre</td>\n",
       "      <td>2021-09-07 20:47:00</td>\n",
       "      <td>2021</td>\n",
       "      <td>Septiembre</td>\n",
       "      <td>2021-09-30 23:54:06</td>\n",
       "      <td>DAÑO EN PROPIEDAD AJENA CULPOSA</td>\n",
       "      <td>FISCALÍA DE INVESTIGACIÓN TERRITORIAL EN IZTAP...</td>\n",
       "      <td>IZP-6</td>\n",
       "      <td>UI-2CD</td>\n",
       "      <td>DELITO DE BAJO IMPACTO</td>\n",
       "      <td>CALZADA IGNACIO ZARAGOZA</td>\n",
       "      <td>NaN</td>\n",
       "      <td>AREA FEDERAL PARQUE ECOLOGICO EL SALADO</td>\n",
       "      <td>IZTAPALAPA</td>\n",
       "      <td>FUERO COMUN</td>\n",
       "      <td>-99.009789</td>\n",
       "      <td>19.368632</td>\n",
       "      <td>NaN</td>\n",
       "    </tr>\n",
       "    <tr>\n",
       "      <th>1307209</th>\n",
       "      <td>2021.0</td>\n",
       "      <td>Septiembre</td>\n",
       "      <td>2021-09-03 17:10:00</td>\n",
       "      <td>2021</td>\n",
       "      <td>Septiembre</td>\n",
       "      <td>2021-09-30 23:54:18</td>\n",
       "      <td>ROBO A REPARTIDOR CON VIOLENCIA</td>\n",
       "      <td>FISCALÍA DE INVESTIGACIÓN TERRITORIAL EN GUSTA...</td>\n",
       "      <td>UAT-GAM-2</td>\n",
       "      <td>UI-1SD</td>\n",
       "      <td>ROBO A REPARTIDOR CON Y SIN VIOLENCIA</td>\n",
       "      <td>ZACAPOAXTLA</td>\n",
       "      <td>NaN</td>\n",
       "      <td>SAN FELIPE DE JESÚS</td>\n",
       "      <td>GUSTAVO A MADERO</td>\n",
       "      <td>FUERO COMUN</td>\n",
       "      <td>-99.069949</td>\n",
       "      <td>19.491604</td>\n",
       "      <td>NaN</td>\n",
       "    </tr>\n",
       "    <tr>\n",
       "      <th>1307210</th>\n",
       "      <td>2021.0</td>\n",
       "      <td>Septiembre</td>\n",
       "      <td>2021-09-30 23:20:00</td>\n",
       "      <td>2021</td>\n",
       "      <td>Septiembre</td>\n",
       "      <td>2021-09-30 23:54:45</td>\n",
       "      <td>ROBO A TRANSEUNTE EN VIA PUBLICA CON VIOLENCIA</td>\n",
       "      <td>FISCALÍA DE INVESTIGACIÓN TERRITORIAL EN AZCAP...</td>\n",
       "      <td>AZ-2</td>\n",
       "      <td>UI-2CD</td>\n",
       "      <td>ROBO A TRANSEUNTE EN VÍA PÚBLICA CON Y SIN VIO...</td>\n",
       "      <td>CALZADA SANTIAGO AHUIZOTLA</td>\n",
       "      <td>MORELOS</td>\n",
       "      <td>SANTIAGO AHUIZOTLA</td>\n",
       "      <td>AZCAPOTZALCO</td>\n",
       "      <td>FUERO COMUN</td>\n",
       "      <td>-99.209475</td>\n",
       "      <td>19.476235</td>\n",
       "      <td>NaN</td>\n",
       "    </tr>\n",
       "  </tbody>\n",
       "</table>\n",
       "</div>"
      ],
      "text/plain": [
       "         ao_hechos  mes_hechos         fecha_hechos  ao_inicio  mes_inicio  \\\n",
       "1307208     2021.0  Septiembre  2021-09-07 20:47:00       2021  Septiembre   \n",
       "1307209     2021.0  Septiembre  2021-09-03 17:10:00       2021  Septiembre   \n",
       "1307210     2021.0  Septiembre  2021-09-30 23:20:00       2021  Septiembre   \n",
       "\n",
       "                fecha_inicio                                          delito  \\\n",
       "1307208  2021-09-30 23:54:06                 DAÑO EN PROPIEDAD AJENA CULPOSA   \n",
       "1307209  2021-09-30 23:54:18                 ROBO A REPARTIDOR CON VIOLENCIA   \n",
       "1307210  2021-09-30 23:54:45  ROBO A TRANSEUNTE EN VIA PUBLICA CON VIOLENCIA   \n",
       "\n",
       "                                                  fiscalia    agencia  \\\n",
       "1307208  FISCALÍA DE INVESTIGACIÓN TERRITORIAL EN IZTAP...      IZP-6   \n",
       "1307209  FISCALÍA DE INVESTIGACIÓN TERRITORIAL EN GUSTA...  UAT-GAM-2   \n",
       "1307210  FISCALÍA DE INVESTIGACIÓN TERRITORIAL EN AZCAP...       AZ-2   \n",
       "\n",
       "        unidad_investigacion  \\\n",
       "1307208               UI-2CD   \n",
       "1307209               UI-1SD   \n",
       "1307210               UI-2CD   \n",
       "\n",
       "                                          categoria_delito  \\\n",
       "1307208                             DELITO DE BAJO IMPACTO   \n",
       "1307209              ROBO A REPARTIDOR CON Y SIN VIOLENCIA   \n",
       "1307210  ROBO A TRANSEUNTE EN VÍA PÚBLICA CON Y SIN VIO...   \n",
       "\n",
       "                       calle_hechos calle_hechos2  \\\n",
       "1307208    CALZADA IGNACIO ZARAGOZA           NaN   \n",
       "1307209                 ZACAPOAXTLA           NaN   \n",
       "1307210  CALZADA SANTIAGO AHUIZOTLA       MORELOS   \n",
       "\n",
       "                                  colonia_hechos   alcaldia_hechos  \\\n",
       "1307208  AREA FEDERAL PARQUE ECOLOGICO EL SALADO        IZTAPALAPA   \n",
       "1307209                      SAN FELIPE DE JESÚS  GUSTAVO A MADERO   \n",
       "1307210                       SANTIAGO AHUIZOTLA      AZCAPOTZALCO   \n",
       "\n",
       "         competencia   longitud    latitud  tempo  \n",
       "1307208  FUERO COMUN -99.009789  19.368632    NaN  \n",
       "1307209  FUERO COMUN -99.069949  19.491604    NaN  \n",
       "1307210  FUERO COMUN -99.209475  19.476235    NaN  "
      ]
     },
     "execution_count": 4,
     "metadata": {},
     "output_type": "execute_result"
    }
   ],
   "source": [
    "FGJ_data.tail(3)"
   ]
  },
  {
   "cell_type": "code",
   "execution_count": 5,
   "id": "c5985992",
   "metadata": {},
   "outputs": [
    {
     "data": {
      "text/plain": [
       "(1307211, 19)"
      ]
     },
     "execution_count": 5,
     "metadata": {},
     "output_type": "execute_result"
    }
   ],
   "source": [
    "FGJ_data.shape"
   ]
  },
  {
   "cell_type": "code",
   "execution_count": 6,
   "id": "666bb337",
   "metadata": {},
   "outputs": [
    {
     "data": {
      "text/html": [
       "<div>\n",
       "<style scoped>\n",
       "    .dataframe tbody tr th:only-of-type {\n",
       "        vertical-align: middle;\n",
       "    }\n",
       "\n",
       "    .dataframe tbody tr th {\n",
       "        vertical-align: top;\n",
       "    }\n",
       "\n",
       "    .dataframe thead th {\n",
       "        text-align: right;\n",
       "    }\n",
       "</style>\n",
       "<table border=\"1\" class=\"dataframe\">\n",
       "  <thead>\n",
       "    <tr style=\"text-align: right;\">\n",
       "      <th></th>\n",
       "      <th>ao_hechos</th>\n",
       "      <th>ao_inicio</th>\n",
       "      <th>longitud</th>\n",
       "      <th>latitud</th>\n",
       "      <th>tempo</th>\n",
       "    </tr>\n",
       "  </thead>\n",
       "  <tbody>\n",
       "    <tr>\n",
       "      <th>count</th>\n",
       "      <td>1.306767e+06</td>\n",
       "      <td>1.307211e+06</td>\n",
       "      <td>1.253509e+06</td>\n",
       "      <td>1.253509e+06</td>\n",
       "      <td>0.0</td>\n",
       "    </tr>\n",
       "    <tr>\n",
       "      <th>mean</th>\n",
       "      <td>2.018268e+03</td>\n",
       "      <td>2.018419e+03</td>\n",
       "      <td>-9.913722e+01</td>\n",
       "      <td>1.938718e+01</td>\n",
       "      <td>NaN</td>\n",
       "    </tr>\n",
       "    <tr>\n",
       "      <th>std</th>\n",
       "      <td>1.914601e+00</td>\n",
       "      <td>1.612246e+00</td>\n",
       "      <td>6.000810e-02</td>\n",
       "      <td>7.006171e-02</td>\n",
       "      <td>NaN</td>\n",
       "    </tr>\n",
       "    <tr>\n",
       "      <th>min</th>\n",
       "      <td>1.906000e+03</td>\n",
       "      <td>2.016000e+03</td>\n",
       "      <td>-1.002319e+02</td>\n",
       "      <td>1.909535e+01</td>\n",
       "      <td>NaN</td>\n",
       "    </tr>\n",
       "    <tr>\n",
       "      <th>25%</th>\n",
       "      <td>2.017000e+03</td>\n",
       "      <td>2.017000e+03</td>\n",
       "      <td>-9.917561e+01</td>\n",
       "      <td>1.933937e+01</td>\n",
       "      <td>NaN</td>\n",
       "    </tr>\n",
       "    <tr>\n",
       "      <th>50%</th>\n",
       "      <td>2.018000e+03</td>\n",
       "      <td>2.018000e+03</td>\n",
       "      <td>-9.914208e+01</td>\n",
       "      <td>1.938967e+01</td>\n",
       "      <td>NaN</td>\n",
       "    </tr>\n",
       "    <tr>\n",
       "      <th>75%</th>\n",
       "      <td>2.020000e+03</td>\n",
       "      <td>2.020000e+03</td>\n",
       "      <td>-9.909959e+01</td>\n",
       "      <td>1.943776e+01</td>\n",
       "      <td>NaN</td>\n",
       "    </tr>\n",
       "    <tr>\n",
       "      <th>max</th>\n",
       "      <td>2.021000e+03</td>\n",
       "      <td>2.021000e+03</td>\n",
       "      <td>-9.894686e+01</td>\n",
       "      <td>1.958333e+01</td>\n",
       "      <td>NaN</td>\n",
       "    </tr>\n",
       "  </tbody>\n",
       "</table>\n",
       "</div>"
      ],
      "text/plain": [
       "          ao_hechos     ao_inicio      longitud       latitud  tempo\n",
       "count  1.306767e+06  1.307211e+06  1.253509e+06  1.253509e+06    0.0\n",
       "mean   2.018268e+03  2.018419e+03 -9.913722e+01  1.938718e+01    NaN\n",
       "std    1.914601e+00  1.612246e+00  6.000810e-02  7.006171e-02    NaN\n",
       "min    1.906000e+03  2.016000e+03 -1.002319e+02  1.909535e+01    NaN\n",
       "25%    2.017000e+03  2.017000e+03 -9.917561e+01  1.933937e+01    NaN\n",
       "50%    2.018000e+03  2.018000e+03 -9.914208e+01  1.938967e+01    NaN\n",
       "75%    2.020000e+03  2.020000e+03 -9.909959e+01  1.943776e+01    NaN\n",
       "max    2.021000e+03  2.021000e+03 -9.894686e+01  1.958333e+01    NaN"
      ]
     },
     "execution_count": 6,
     "metadata": {},
     "output_type": "execute_result"
    }
   ],
   "source": [
    "FGJ_data.describe()"
   ]
  },
  {
   "cell_type": "code",
   "execution_count": 7,
   "id": "cd11cdd8",
   "metadata": {},
   "outputs": [
    {
     "data": {
      "text/plain": [
       "ao_hechos                True\n",
       "mes_hechos               True\n",
       "fecha_hechos             True\n",
       "ao_inicio               False\n",
       "mes_inicio              False\n",
       "fecha_inicio             True\n",
       "delito                  False\n",
       "fiscalia                 True\n",
       "agencia                 False\n",
       "unidad_investigacion     True\n",
       "categoria_delito        False\n",
       "calle_hechos             True\n",
       "calle_hechos2            True\n",
       "colonia_hechos           True\n",
       "alcaldia_hechos          True\n",
       "competencia              True\n",
       "longitud                 True\n",
       "latitud                  True\n",
       "tempo                    True\n",
       "dtype: bool"
      ]
     },
     "execution_count": 7,
     "metadata": {},
     "output_type": "execute_result"
    }
   ],
   "source": [
    "FGJ_data.isna().any()"
   ]
  },
  {
   "cell_type": "code",
   "execution_count": 8,
   "id": "c0cc446f",
   "metadata": {},
   "outputs": [
    {
     "data": {
      "text/plain": [
       "ao_hechos               float64\n",
       "mes_hechos               object\n",
       "fecha_hechos             object\n",
       "ao_inicio                 int64\n",
       "mes_inicio               object\n",
       "fecha_inicio             object\n",
       "delito                   object\n",
       "fiscalia                 object\n",
       "agencia                  object\n",
       "unidad_investigacion     object\n",
       "categoria_delito         object\n",
       "calle_hechos             object\n",
       "calle_hechos2            object\n",
       "colonia_hechos           object\n",
       "alcaldia_hechos          object\n",
       "competencia              object\n",
       "longitud                float64\n",
       "latitud                 float64\n",
       "tempo                   float64\n",
       "dtype: object"
      ]
     },
     "execution_count": 8,
     "metadata": {},
     "output_type": "execute_result"
    }
   ],
   "source": [
    "FGJ_data.dtypes"
   ]
  },
  {
   "cell_type": "code",
   "execution_count": 9,
   "id": "32b8ee08",
   "metadata": {},
   "outputs": [
    {
     "data": {
      "text/plain": [
       "delito              345\n",
       "fiscalia             73\n",
       "agencia             209\n",
       "categoria_delito     18\n",
       "alcaldia_hechos     557\n",
       "competencia           3\n",
       "dtype: int64"
      ]
     },
     "execution_count": 9,
     "metadata": {},
     "output_type": "execute_result"
    }
   ],
   "source": [
    "FGJ_data[['delito', 'fiscalia', 'agencia','categoria_delito','alcaldia_hechos','competencia']].nunique()"
   ]
  },
  {
   "cell_type": "code",
   "execution_count": 10,
   "id": "ca898713",
   "metadata": {},
   "outputs": [
    {
     "data": {
      "text/plain": [
       "VIOLENCIA FAMILIAR                                                        137582\n",
       "FRAUDE                                                                     82032\n",
       "ROBO DE OBJETOS                                                            75973\n",
       "AMENAZAS                                                                   71595\n",
       "ROBO A NEGOCIO SIN VIOLENCIA                                               67547\n",
       "                                                                           ...  \n",
       "CONTRA LA LEY GENERAL DE EXPLOSIVOS                                            1\n",
       "ASOCIACION DELICTUOSA                                                          1\n",
       "HOMICIDIO INTENCIONAL Y ROBO DE VEHICULO                                       1\n",
       "PROCREACION ASISTIDA, INSEMINACION ARTIFICIAL Y ESTERILIZACION FORZADA         1\n",
       "EJERCICIO INDEBIDO DEL PROPIO DER.                                             1\n",
       "Name: delito, Length: 345, dtype: int64"
      ]
     },
     "execution_count": 10,
     "metadata": {},
     "output_type": "execute_result"
    }
   ],
   "source": [
    "FGJ_data.delito.value_counts()"
   ]
  },
  {
   "cell_type": "code",
   "execution_count": 11,
   "id": "eac31666",
   "metadata": {},
   "outputs": [
    {
     "data": {
      "text/plain": [
       "INVESTIGACIÓN EN IZTAPALAPA                                                                             114947\n",
       "INVESTIGACIÓN EN CUAUHTEMOC                                                                             114405\n",
       "INVESTIGACIÓN EN GUSTAVO A. MADERO                                                                       78355\n",
       "INVESTIGACIÓN EN BENITO JUÁREZ                                                                           74528\n",
       "INVESTIGACIÓN EN ÁLVARO OBREGÓN                                                                          54129\n",
       "                                                                                                         ...  \n",
       "FISCALÍA ESPECIALIZADA PARA LA INVESTIGACIÓN DEL DELITO DE FEMINICIDIO                                     134\n",
       "UNIDAD DE RECEPCION POR INTERNET                                                                            55\n",
       "ESPECIALIZADA EN LA BÚSQUEDA, LOCALIZACIÓN E INVESTIGACIÓN DE PERSONAS DESAPARECIDAS                        43\n",
       "FISCALIA DELITOS ELECTORALES                                                                                12\n",
       "FISCALÍA DE INVESTIGACIÓN Y PERSECUCIÓN DE LOS DELITOS EN MATERIA DE DESAPARICIÓN FORZADA DE PERSONA         1\n",
       "Name: fiscalia, Length: 73, dtype: int64"
      ]
     },
     "execution_count": 11,
     "metadata": {},
     "output_type": "execute_result"
    }
   ],
   "source": [
    "FGJ_data.fiscalia.value_counts()"
   ]
  },
  {
   "cell_type": "code",
   "execution_count": 12,
   "id": "1e343693",
   "metadata": {},
   "outputs": [
    {
     "data": {
      "text/plain": [
       "DELITO DE BAJO IMPACTO                                     1026209\n",
       "ROBO A TRANSEUNTE EN VÍA PÚBLICA CON Y SIN VIOLENCIA         73481\n",
       "ROBO DE VEHÍCULO CON Y SIN VIOLENCIA                         67522\n",
       "HECHO NO DELICTIVO                                           57857\n",
       "ROBO A NEGOCIO CON VIOLENCIA                                 21136\n",
       "ROBO A REPARTIDOR CON Y SIN VIOLENCIA                        13362\n",
       "ROBO A PASAJERO A BORDO DEL METRO CON Y SIN VIOLENCIA        11469\n",
       "LESIONES DOLOSAS POR DISPARO DE ARMA DE FUEGO                 9306\n",
       "HOMICIDIO DOLOSO                                              7412\n",
       "VIOLACIÓN                                                     7344\n",
       "ROBO A PASAJERO A BORDO DE MICROBUS CON Y SIN VIOLENCIA       4293\n",
       "ROBO A CASA HABITACIÓN CON VIOLENCIA                          3256\n",
       "ROBO A CUENTAHABIENTE SALIENDO DEL CAJERO CON VIOLENCIA       2386\n",
       "ROBO A PASAJERO A BORDO DE TAXI CON VIOLENCIA                 1299\n",
       "ROBO A TRANSPORTISTA CON Y SIN VIOLENCIA                       685\n",
       "SECUESTRO                                                      191\n",
       "FEMINICIDIO                                                      2\n",
       "PLAGIO O SECUESTRO                                               1\n",
       "Name: categoria_delito, dtype: int64"
      ]
     },
     "execution_count": 12,
     "metadata": {},
     "output_type": "execute_result"
    }
   ],
   "source": [
    "FGJ_data.categoria_delito.value_counts()"
   ]
  },
  {
   "cell_type": "code",
   "execution_count": 13,
   "id": "5b6421dc",
   "metadata": {},
   "outputs": [
    {
     "data": {
      "text/plain": [
       "CUAUHTEMOC          203425\n",
       "IZTAPALAPA          196158\n",
       "GUSTAVO A MADERO    131319\n",
       "BENITO JUAREZ       107516\n",
       "ALVARO OBREGON       88946\n",
       "                     ...  \n",
       "PUNGARABATO              1\n",
       "TOLCAYUCA                1\n",
       "CHIGNAHUAPAN             1\n",
       "XICOTEPEC                1\n",
       "ECUANDUREO               1\n",
       "Name: alcaldia_hechos, Length: 557, dtype: int64"
      ]
     },
     "execution_count": 13,
     "metadata": {},
     "output_type": "execute_result"
    }
   ],
   "source": [
    "FGJ_data.alcaldia_hechos.value_counts()"
   ]
  },
  {
   "cell_type": "code",
   "execution_count": 14,
   "id": "02849ff6",
   "metadata": {},
   "outputs": [
    {
     "data": {
      "text/plain": [
       "FUERO COMUN           236246\n",
       "HECHO NO DELICTIVO      4341\n",
       "INCOMPETENCIA           2545\n",
       "Name: competencia, dtype: int64"
      ]
     },
     "execution_count": 14,
     "metadata": {},
     "output_type": "execute_result"
    }
   ],
   "source": [
    "FGJ_data.competencia.value_counts()"
   ]
  },
  {
   "cell_type": "markdown",
   "id": "92f27b0b",
   "metadata": {},
   "source": [
    "### 1. Define analysis time frame"
   ]
  },
  {
   "cell_type": "code",
   "execution_count": 49,
   "id": "dfc05872",
   "metadata": {},
   "outputs": [
    {
     "data": {
      "text/plain": [
       "2021.0    155919\n",
       "2020.0    201527\n",
       "2019.0    243898\n",
       "2018.0    254013\n",
       "2017.0    227268\n",
       "2016.0    195010\n",
       "2015.0     15993\n",
       "2014.0      4313\n",
       "2013.0      2204\n",
       "2012.0      1577\n",
       "2011.0      1080\n",
       "2010.0       903\n",
       "2009.0       499\n",
       "2008.0       482\n",
       "2007.0       327\n",
       "2006.0       268\n",
       "2005.0       199\n",
       "2004.0       169\n",
       "2003.0       118\n",
       "2002.0       113\n",
       "2001.0       203\n",
       "2000.0       112\n",
       "1999.0        48\n",
       "1998.0        60\n",
       "1997.0        41\n",
       "1996.0        31\n",
       "1995.0        33\n",
       "1994.0        24\n",
       "1993.0        27\n",
       "1992.0        35\n",
       "1991.0        18\n",
       "1990.0        28\n",
       "Name: ao_hechos, dtype: int64"
      ]
     },
     "execution_count": 49,
     "metadata": {},
     "output_type": "execute_result"
    }
   ],
   "source": [
    "## Crime incidence for the last 20 years (number of registers in FGJ db) \n",
    "year_incidence = FGJ_data.ao_hechos.value_counts()\n",
    "year_incidence[year_incidence.index >= 1991].sort_index(ascending=False)"
   ]
  },
  {
   "cell_type": "code",
   "execution_count": 50,
   "id": "b2e9a2c0",
   "metadata": {},
   "outputs": [
    {
     "data": {
      "text/html": [
       "<div>\n",
       "<style scoped>\n",
       "    .dataframe tbody tr th:only-of-type {\n",
       "        vertical-align: middle;\n",
       "    }\n",
       "\n",
       "    .dataframe tbody tr th {\n",
       "        vertical-align: top;\n",
       "    }\n",
       "\n",
       "    .dataframe thead th {\n",
       "        text-align: right;\n",
       "    }\n",
       "</style>\n",
       "<table border=\"1\" class=\"dataframe\">\n",
       "  <thead>\n",
       "    <tr style=\"text-align: right;\">\n",
       "      <th></th>\n",
       "      <th>ao_hechos</th>\n",
       "      <th>mes_hechos</th>\n",
       "      <th>competencia</th>\n",
       "    </tr>\n",
       "  </thead>\n",
       "  <tbody>\n",
       "    <tr>\n",
       "      <th>51471</th>\n",
       "      <td>2001.0</td>\n",
       "      <td>Abril</td>\n",
       "      <td>NaN</td>\n",
       "    </tr>\n",
       "    <tr>\n",
       "      <th>77416</th>\n",
       "      <td>2001.0</td>\n",
       "      <td>Abril</td>\n",
       "      <td>NaN</td>\n",
       "    </tr>\n",
       "    <tr>\n",
       "      <th>113600</th>\n",
       "      <td>2001.0</td>\n",
       "      <td>Abril</td>\n",
       "      <td>NaN</td>\n",
       "    </tr>\n",
       "    <tr>\n",
       "      <th>403700</th>\n",
       "      <td>2001.0</td>\n",
       "      <td>Abril</td>\n",
       "      <td>NaN</td>\n",
       "    </tr>\n",
       "    <tr>\n",
       "      <th>505155</th>\n",
       "      <td>2001.0</td>\n",
       "      <td>Abril</td>\n",
       "      <td>NaN</td>\n",
       "    </tr>\n",
       "    <tr>\n",
       "      <th>...</th>\n",
       "      <td>...</td>\n",
       "      <td>...</td>\n",
       "      <td>...</td>\n",
       "    </tr>\n",
       "    <tr>\n",
       "      <th>1307206</th>\n",
       "      <td>2021.0</td>\n",
       "      <td>Septiembre</td>\n",
       "      <td>HECHO NO DELICTIVO</td>\n",
       "    </tr>\n",
       "    <tr>\n",
       "      <th>1307207</th>\n",
       "      <td>2021.0</td>\n",
       "      <td>Septiembre</td>\n",
       "      <td>FUERO COMUN</td>\n",
       "    </tr>\n",
       "    <tr>\n",
       "      <th>1307208</th>\n",
       "      <td>2021.0</td>\n",
       "      <td>Septiembre</td>\n",
       "      <td>FUERO COMUN</td>\n",
       "    </tr>\n",
       "    <tr>\n",
       "      <th>1307209</th>\n",
       "      <td>2021.0</td>\n",
       "      <td>Septiembre</td>\n",
       "      <td>FUERO COMUN</td>\n",
       "    </tr>\n",
       "    <tr>\n",
       "      <th>1307210</th>\n",
       "      <td>2021.0</td>\n",
       "      <td>Septiembre</td>\n",
       "      <td>FUERO COMUN</td>\n",
       "    </tr>\n",
       "  </tbody>\n",
       "</table>\n",
       "<p>1306083 rows × 3 columns</p>\n",
       "</div>"
      ],
      "text/plain": [
       "         ao_hechos  mes_hechos         competencia\n",
       "51471       2001.0       Abril                 NaN\n",
       "77416       2001.0       Abril                 NaN\n",
       "113600      2001.0       Abril                 NaN\n",
       "403700      2001.0       Abril                 NaN\n",
       "505155      2001.0       Abril                 NaN\n",
       "...            ...         ...                 ...\n",
       "1307206     2021.0  Septiembre  HECHO NO DELICTIVO\n",
       "1307207     2021.0  Septiembre         FUERO COMUN\n",
       "1307208     2021.0  Septiembre         FUERO COMUN\n",
       "1307209     2021.0  Septiembre         FUERO COMUN\n",
       "1307210     2021.0  Septiembre         FUERO COMUN\n",
       "\n",
       "[1306083 rows x 3 columns]"
      ]
     },
     "execution_count": 50,
     "metadata": {},
     "output_type": "execute_result"
    }
   ],
   "source": [
    "FGJ_data[['ao_hechos','mes_hechos','competencia']].loc[FGJ_data['ao_hechos'] > 2000].sort_values(['ao_hechos','mes_hechos'])"
   ]
  },
  {
   "cell_type": "code",
   "execution_count": 51,
   "id": "fabde2d9",
   "metadata": {},
   "outputs": [
    {
     "data": {
      "text/html": [
       "<div>\n",
       "<style scoped>\n",
       "    .dataframe tbody tr th:only-of-type {\n",
       "        vertical-align: middle;\n",
       "    }\n",
       "\n",
       "    .dataframe tbody tr th {\n",
       "        vertical-align: top;\n",
       "    }\n",
       "\n",
       "    .dataframe thead th {\n",
       "        text-align: right;\n",
       "    }\n",
       "</style>\n",
       "<table border=\"1\" class=\"dataframe\">\n",
       "  <thead>\n",
       "    <tr style=\"text-align: right;\">\n",
       "      <th></th>\n",
       "      <th>ao_hechos</th>\n",
       "      <th>mes_hechos</th>\n",
       "      <th>competencia</th>\n",
       "    </tr>\n",
       "  </thead>\n",
       "  <tbody>\n",
       "    <tr>\n",
       "      <th>1165017</th>\n",
       "      <td>2001.0</td>\n",
       "      <td>Abril</td>\n",
       "      <td>FUERO COMUN</td>\n",
       "    </tr>\n",
       "    <tr>\n",
       "      <th>1189907</th>\n",
       "      <td>2001.0</td>\n",
       "      <td>Abril</td>\n",
       "      <td>FUERO COMUN</td>\n",
       "    </tr>\n",
       "    <tr>\n",
       "      <th>1288369</th>\n",
       "      <td>2001.0</td>\n",
       "      <td>Abril</td>\n",
       "      <td>FUERO COMUN</td>\n",
       "    </tr>\n",
       "    <tr>\n",
       "      <th>1218923</th>\n",
       "      <td>2001.0</td>\n",
       "      <td>Agosto</td>\n",
       "      <td>FUERO COMUN</td>\n",
       "    </tr>\n",
       "    <tr>\n",
       "      <th>1270584</th>\n",
       "      <td>2001.0</td>\n",
       "      <td>Agosto</td>\n",
       "      <td>FUERO COMUN</td>\n",
       "    </tr>\n",
       "    <tr>\n",
       "      <th>...</th>\n",
       "      <td>...</td>\n",
       "      <td>...</td>\n",
       "      <td>...</td>\n",
       "    </tr>\n",
       "    <tr>\n",
       "      <th>1307206</th>\n",
       "      <td>2021.0</td>\n",
       "      <td>Septiembre</td>\n",
       "      <td>HECHO NO DELICTIVO</td>\n",
       "    </tr>\n",
       "    <tr>\n",
       "      <th>1307207</th>\n",
       "      <td>2021.0</td>\n",
       "      <td>Septiembre</td>\n",
       "      <td>FUERO COMUN</td>\n",
       "    </tr>\n",
       "    <tr>\n",
       "      <th>1307208</th>\n",
       "      <td>2021.0</td>\n",
       "      <td>Septiembre</td>\n",
       "      <td>FUERO COMUN</td>\n",
       "    </tr>\n",
       "    <tr>\n",
       "      <th>1307209</th>\n",
       "      <td>2021.0</td>\n",
       "      <td>Septiembre</td>\n",
       "      <td>FUERO COMUN</td>\n",
       "    </tr>\n",
       "    <tr>\n",
       "      <th>1307210</th>\n",
       "      <td>2021.0</td>\n",
       "      <td>Septiembre</td>\n",
       "      <td>FUERO COMUN</td>\n",
       "    </tr>\n",
       "  </tbody>\n",
       "</table>\n",
       "<p>242919 rows × 3 columns</p>\n",
       "</div>"
      ],
      "text/plain": [
       "         ao_hechos  mes_hechos         competencia\n",
       "1165017     2001.0       Abril         FUERO COMUN\n",
       "1189907     2001.0       Abril         FUERO COMUN\n",
       "1288369     2001.0       Abril         FUERO COMUN\n",
       "1218923     2001.0      Agosto         FUERO COMUN\n",
       "1270584     2001.0      Agosto         FUERO COMUN\n",
       "...            ...         ...                 ...\n",
       "1307206     2021.0  Septiembre  HECHO NO DELICTIVO\n",
       "1307207     2021.0  Septiembre         FUERO COMUN\n",
       "1307208     2021.0  Septiembre         FUERO COMUN\n",
       "1307209     2021.0  Septiembre         FUERO COMUN\n",
       "1307210     2021.0  Septiembre         FUERO COMUN\n",
       "\n",
       "[242919 rows x 3 columns]"
      ]
     },
     "execution_count": 51,
     "metadata": {},
     "output_type": "execute_result"
    }
   ],
   "source": [
    "FGJ_data[['ao_hechos','mes_hechos','competencia']].loc[FGJ_data['ao_hechos'] > 2000].dropna().sort_values(['ao_hechos','mes_hechos'])"
   ]
  },
  {
   "cell_type": "code",
   "execution_count": 63,
   "id": "d266b534",
   "metadata": {},
   "outputs": [
    {
     "data": {
      "text/plain": [
       "ao_hechos  mes_hechos\n",
       "2014.0     Abril           323\n",
       "           Agosto          323\n",
       "           Diciembre       426\n",
       "           Enero           331\n",
       "           Febrero         256\n",
       "           Julio           337\n",
       "           Junio           327\n",
       "           Marzo           326\n",
       "           Mayo            469\n",
       "           Noviembre       392\n",
       "           Octubre         449\n",
       "           Septiembre      354\n",
       "2015.0     Abril           696\n",
       "           Agosto         1143\n",
       "           Diciembre      3563\n",
       "           Enero          1143\n",
       "           Febrero         707\n",
       "           Julio           946\n",
       "           Junio           983\n",
       "           Marzo           737\n",
       "           Mayo            884\n",
       "           Noviembre      2134\n",
       "           Octubre        1723\n",
       "           Septiembre     1334\n",
       "2016.0     Abril         16413\n",
       "           Agosto        16623\n",
       "           Diciembre     16144\n",
       "           Enero         15171\n",
       "           Febrero       15505\n",
       "           Julio         15477\n",
       "           Junio         15260\n",
       "           Marzo         15980\n",
       "           Mayo          16499\n",
       "           Noviembre     16609\n",
       "           Octubre       17806\n",
       "           Septiembre    17523\n",
       "2017.0     Abril         17254\n",
       "           Agosto        20196\n",
       "           Diciembre     18966\n",
       "           Enero         17626\n",
       "           Febrero       16489\n",
       "           Julio         19287\n",
       "           Junio         19461\n",
       "           Marzo         18682\n",
       "           Mayo          19757\n",
       "           Noviembre     19568\n",
       "           Octubre       20932\n",
       "           Septiembre    19050\n",
       "Name: delito, dtype: int64"
      ]
     },
     "execution_count": 63,
     "metadata": {},
     "output_type": "execute_result"
    }
   ],
   "source": [
    "FGJ_data.loc[(FGJ_data['ao_hechos'] >= 2014) & (FGJ_data['ao_hechos'] <= 2017)].groupby(['ao_hechos','mes_hechos']).count()['delito']"
   ]
  },
  {
   "cell_type": "code",
   "execution_count": null,
   "id": "e982b13a",
   "metadata": {},
   "outputs": [],
   "source": []
  },
  {
   "cell_type": "code",
   "execution_count": null,
   "id": "037c5b67",
   "metadata": {},
   "outputs": [],
   "source": []
  },
  {
   "cell_type": "code",
   "execution_count": null,
   "id": "50eb4c85",
   "metadata": {},
   "outputs": [],
   "source": []
  },
  {
   "cell_type": "code",
   "execution_count": null,
   "id": "2dc27671",
   "metadata": {},
   "outputs": [],
   "source": []
  },
  {
   "cell_type": "code",
   "execution_count": null,
   "id": "117a0513",
   "metadata": {},
   "outputs": [],
   "source": []
  }
 ],
 "metadata": {
  "kernelspec": {
   "display_name": "Python 3",
   "language": "python",
   "name": "python3"
  },
  "language_info": {
   "codemirror_mode": {
    "name": "ipython",
    "version": 3
   },
   "file_extension": ".py",
   "mimetype": "text/x-python",
   "name": "python",
   "nbconvert_exporter": "python",
   "pygments_lexer": "ipython3",
   "version": "3.8.8"
  }
 },
 "nbformat": 4,
 "nbformat_minor": 5
}
