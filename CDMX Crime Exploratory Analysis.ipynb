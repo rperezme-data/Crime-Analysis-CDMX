{
 "cells": [
  {
   "cell_type": "markdown",
   "id": "9e8c8ecd",
   "metadata": {},
   "source": [
    "# OPI analytics\n",
    "## Mexico City's crime exploratory analysis"
   ]
  },
  {
   "cell_type": "code",
   "execution_count": 1,
   "id": "08794bcb",
   "metadata": {},
   "outputs": [],
   "source": [
    "## Dependencies\n",
    "import pandas as pd\n",
    "import matplotlib.pyplot as plt"
   ]
  },
  {
   "cell_type": "markdown",
   "id": "1b88949c",
   "metadata": {},
   "source": [
    "### A. Data collection"
   ]
  },
  {
   "cell_type": "code",
   "execution_count": 2,
   "id": "5c2b8857",
   "metadata": {},
   "outputs": [],
   "source": [
    "## Import data from FGJ open cases CSV file\n",
    "## Reference: https://datos.cdmx.gob.mx/dataset/carpetas-de-investigacion-fgj-de-la-ciudad-de-mexico/resource/48fcb848-220c-4af0-839b-4fd8ac812c0f\n",
    "FGJ_data = pd.read_csv('data/carpetas_completa_septiembre_2021.csv', low_memory=False)"
   ]
  },
  {
   "cell_type": "markdown",
   "id": "62a1a381",
   "metadata": {},
   "source": [
    "### B. Data exploration"
   ]
  },
  {
   "cell_type": "code",
   "execution_count": 3,
   "id": "e31352a8",
   "metadata": {},
   "outputs": [
    {
     "data": {
      "text/html": [
       "<div>\n",
       "<style scoped>\n",
       "    .dataframe tbody tr th:only-of-type {\n",
       "        vertical-align: middle;\n",
       "    }\n",
       "\n",
       "    .dataframe tbody tr th {\n",
       "        vertical-align: top;\n",
       "    }\n",
       "\n",
       "    .dataframe thead th {\n",
       "        text-align: right;\n",
       "    }\n",
       "</style>\n",
       "<table border=\"1\" class=\"dataframe\">\n",
       "  <thead>\n",
       "    <tr style=\"text-align: right;\">\n",
       "      <th></th>\n",
       "      <th>ao_hechos</th>\n",
       "      <th>mes_hechos</th>\n",
       "      <th>fecha_hechos</th>\n",
       "      <th>ao_inicio</th>\n",
       "      <th>mes_inicio</th>\n",
       "      <th>fecha_inicio</th>\n",
       "      <th>delito</th>\n",
       "      <th>fiscalia</th>\n",
       "      <th>agencia</th>\n",
       "      <th>unidad_investigacion</th>\n",
       "      <th>categoria_delito</th>\n",
       "      <th>calle_hechos</th>\n",
       "      <th>calle_hechos2</th>\n",
       "      <th>colonia_hechos</th>\n",
       "      <th>alcaldia_hechos</th>\n",
       "      <th>competencia</th>\n",
       "      <th>longitud</th>\n",
       "      <th>latitud</th>\n",
       "      <th>tempo</th>\n",
       "    </tr>\n",
       "  </thead>\n",
       "  <tbody>\n",
       "    <tr>\n",
       "      <th>0</th>\n",
       "      <td>2016.0</td>\n",
       "      <td>Enero</td>\n",
       "      <td>2016-01-31 22:16:00</td>\n",
       "      <td>2016</td>\n",
       "      <td>Febrero</td>\n",
       "      <td>2016-02-01 00:25:44</td>\n",
       "      <td>DAÑO EN PROPIEDAD AJENA INTENCIONAL</td>\n",
       "      <td>INVESTIGACIÓN EN BENITO JUÁREZ</td>\n",
       "      <td>BJ-2</td>\n",
       "      <td>UI-3CD</td>\n",
       "      <td>DELITO DE BAJO IMPACTO</td>\n",
       "      <td>CALZ. DE TLALPAN</td>\n",
       "      <td>LAGO PTE.</td>\n",
       "      <td>AMÉRICAS UNIDAS</td>\n",
       "      <td>BENITO JUAREZ</td>\n",
       "      <td>NaN</td>\n",
       "      <td>-99.140215</td>\n",
       "      <td>19.380315</td>\n",
       "      <td>NaN</td>\n",
       "    </tr>\n",
       "    <tr>\n",
       "      <th>1</th>\n",
       "      <td>2016.0</td>\n",
       "      <td>Enero</td>\n",
       "      <td>2016-01-31 20:50:00</td>\n",
       "      <td>2016</td>\n",
       "      <td>Febrero</td>\n",
       "      <td>2016-02-01 00:52:37</td>\n",
       "      <td>ROBO DE VEHICULO DE SERVICIO PARTICULAR CON VI...</td>\n",
       "      <td>INVESTIGACIÓN PARA LA ATENCIÓN DEL DELITO DE R...</td>\n",
       "      <td>ORIENTEII</td>\n",
       "      <td>UI-3CD</td>\n",
       "      <td>ROBO DE VEHÍCULO CON Y SIN VIOLENCIA</td>\n",
       "      <td>SUR 25 A</td>\n",
       "      <td>GRANJEROS</td>\n",
       "      <td>LOS CIPRESES</td>\n",
       "      <td>IZTAPALAPA</td>\n",
       "      <td>NaN</td>\n",
       "      <td>-99.108403</td>\n",
       "      <td>19.352859</td>\n",
       "      <td>NaN</td>\n",
       "    </tr>\n",
       "    <tr>\n",
       "      <th>2</th>\n",
       "      <td>2016.0</td>\n",
       "      <td>Febrero</td>\n",
       "      <td>2016-02-01 00:30:00</td>\n",
       "      <td>2016</td>\n",
       "      <td>Febrero</td>\n",
       "      <td>2016-02-01 01:33:26</td>\n",
       "      <td>NARCOMENUDEO POSESION SIMPLE</td>\n",
       "      <td>INVESTIGACIÓN PARA LA ATENCIÓN DE NIÑOS, NIÑAS...</td>\n",
       "      <td>57</td>\n",
       "      <td>UI-3CD</td>\n",
       "      <td>DELITO DE BAJO IMPACTO</td>\n",
       "      <td>BATALLONES ROJOS</td>\n",
       "      <td>NaN</td>\n",
       "      <td>UNIDAD VICENTE GUERRERO</td>\n",
       "      <td>IZTAPALAPA</td>\n",
       "      <td>NaN</td>\n",
       "      <td>-99.061321</td>\n",
       "      <td>19.356451</td>\n",
       "      <td>NaN</td>\n",
       "    </tr>\n",
       "  </tbody>\n",
       "</table>\n",
       "</div>"
      ],
      "text/plain": [
       "   ao_hechos mes_hechos         fecha_hechos  ao_inicio mes_inicio  \\\n",
       "0     2016.0      Enero  2016-01-31 22:16:00       2016    Febrero   \n",
       "1     2016.0      Enero  2016-01-31 20:50:00       2016    Febrero   \n",
       "2     2016.0    Febrero  2016-02-01 00:30:00       2016    Febrero   \n",
       "\n",
       "          fecha_inicio                                             delito  \\\n",
       "0  2016-02-01 00:25:44                DAÑO EN PROPIEDAD AJENA INTENCIONAL   \n",
       "1  2016-02-01 00:52:37  ROBO DE VEHICULO DE SERVICIO PARTICULAR CON VI...   \n",
       "2  2016-02-01 01:33:26                       NARCOMENUDEO POSESION SIMPLE   \n",
       "\n",
       "                                            fiscalia    agencia  \\\n",
       "0                     INVESTIGACIÓN EN BENITO JUÁREZ       BJ-2   \n",
       "1  INVESTIGACIÓN PARA LA ATENCIÓN DEL DELITO DE R...  ORIENTEII   \n",
       "2  INVESTIGACIÓN PARA LA ATENCIÓN DE NIÑOS, NIÑAS...         57   \n",
       "\n",
       "  unidad_investigacion                      categoria_delito  \\\n",
       "0               UI-3CD                DELITO DE BAJO IMPACTO   \n",
       "1               UI-3CD  ROBO DE VEHÍCULO CON Y SIN VIOLENCIA   \n",
       "2               UI-3CD                DELITO DE BAJO IMPACTO   \n",
       "\n",
       "       calle_hechos calle_hechos2           colonia_hechos alcaldia_hechos  \\\n",
       "0  CALZ. DE TLALPAN     LAGO PTE.          AMÉRICAS UNIDAS   BENITO JUAREZ   \n",
       "1          SUR 25 A     GRANJEROS             LOS CIPRESES      IZTAPALAPA   \n",
       "2  BATALLONES ROJOS           NaN  UNIDAD VICENTE GUERRERO      IZTAPALAPA   \n",
       "\n",
       "  competencia   longitud    latitud  tempo  \n",
       "0         NaN -99.140215  19.380315    NaN  \n",
       "1         NaN -99.108403  19.352859    NaN  \n",
       "2         NaN -99.061321  19.356451    NaN  "
      ]
     },
     "execution_count": 3,
     "metadata": {},
     "output_type": "execute_result"
    }
   ],
   "source": [
    "FGJ_data.head(3)"
   ]
  },
  {
   "cell_type": "code",
   "execution_count": 4,
   "id": "37e670c7",
   "metadata": {},
   "outputs": [
    {
     "data": {
      "text/html": [
       "<div>\n",
       "<style scoped>\n",
       "    .dataframe tbody tr th:only-of-type {\n",
       "        vertical-align: middle;\n",
       "    }\n",
       "\n",
       "    .dataframe tbody tr th {\n",
       "        vertical-align: top;\n",
       "    }\n",
       "\n",
       "    .dataframe thead th {\n",
       "        text-align: right;\n",
       "    }\n",
       "</style>\n",
       "<table border=\"1\" class=\"dataframe\">\n",
       "  <thead>\n",
       "    <tr style=\"text-align: right;\">\n",
       "      <th></th>\n",
       "      <th>ao_hechos</th>\n",
       "      <th>mes_hechos</th>\n",
       "      <th>fecha_hechos</th>\n",
       "      <th>ao_inicio</th>\n",
       "      <th>mes_inicio</th>\n",
       "      <th>fecha_inicio</th>\n",
       "      <th>delito</th>\n",
       "      <th>fiscalia</th>\n",
       "      <th>agencia</th>\n",
       "      <th>unidad_investigacion</th>\n",
       "      <th>categoria_delito</th>\n",
       "      <th>calle_hechos</th>\n",
       "      <th>calle_hechos2</th>\n",
       "      <th>colonia_hechos</th>\n",
       "      <th>alcaldia_hechos</th>\n",
       "      <th>competencia</th>\n",
       "      <th>longitud</th>\n",
       "      <th>latitud</th>\n",
       "      <th>tempo</th>\n",
       "    </tr>\n",
       "  </thead>\n",
       "  <tbody>\n",
       "    <tr>\n",
       "      <th>1307208</th>\n",
       "      <td>2021.0</td>\n",
       "      <td>Septiembre</td>\n",
       "      <td>2021-09-07 20:47:00</td>\n",
       "      <td>2021</td>\n",
       "      <td>Septiembre</td>\n",
       "      <td>2021-09-30 23:54:06</td>\n",
       "      <td>DAÑO EN PROPIEDAD AJENA CULPOSA</td>\n",
       "      <td>FISCALÍA DE INVESTIGACIÓN TERRITORIAL EN IZTAP...</td>\n",
       "      <td>IZP-6</td>\n",
       "      <td>UI-2CD</td>\n",
       "      <td>DELITO DE BAJO IMPACTO</td>\n",
       "      <td>CALZADA IGNACIO ZARAGOZA</td>\n",
       "      <td>NaN</td>\n",
       "      <td>AREA FEDERAL PARQUE ECOLOGICO EL SALADO</td>\n",
       "      <td>IZTAPALAPA</td>\n",
       "      <td>FUERO COMUN</td>\n",
       "      <td>-99.009789</td>\n",
       "      <td>19.368632</td>\n",
       "      <td>NaN</td>\n",
       "    </tr>\n",
       "    <tr>\n",
       "      <th>1307209</th>\n",
       "      <td>2021.0</td>\n",
       "      <td>Septiembre</td>\n",
       "      <td>2021-09-03 17:10:00</td>\n",
       "      <td>2021</td>\n",
       "      <td>Septiembre</td>\n",
       "      <td>2021-09-30 23:54:18</td>\n",
       "      <td>ROBO A REPARTIDOR CON VIOLENCIA</td>\n",
       "      <td>FISCALÍA DE INVESTIGACIÓN TERRITORIAL EN GUSTA...</td>\n",
       "      <td>UAT-GAM-2</td>\n",
       "      <td>UI-1SD</td>\n",
       "      <td>ROBO A REPARTIDOR CON Y SIN VIOLENCIA</td>\n",
       "      <td>ZACAPOAXTLA</td>\n",
       "      <td>NaN</td>\n",
       "      <td>SAN FELIPE DE JESÚS</td>\n",
       "      <td>GUSTAVO A MADERO</td>\n",
       "      <td>FUERO COMUN</td>\n",
       "      <td>-99.069949</td>\n",
       "      <td>19.491604</td>\n",
       "      <td>NaN</td>\n",
       "    </tr>\n",
       "    <tr>\n",
       "      <th>1307210</th>\n",
       "      <td>2021.0</td>\n",
       "      <td>Septiembre</td>\n",
       "      <td>2021-09-30 23:20:00</td>\n",
       "      <td>2021</td>\n",
       "      <td>Septiembre</td>\n",
       "      <td>2021-09-30 23:54:45</td>\n",
       "      <td>ROBO A TRANSEUNTE EN VIA PUBLICA CON VIOLENCIA</td>\n",
       "      <td>FISCALÍA DE INVESTIGACIÓN TERRITORIAL EN AZCAP...</td>\n",
       "      <td>AZ-2</td>\n",
       "      <td>UI-2CD</td>\n",
       "      <td>ROBO A TRANSEUNTE EN VÍA PÚBLICA CON Y SIN VIO...</td>\n",
       "      <td>CALZADA SANTIAGO AHUIZOTLA</td>\n",
       "      <td>MORELOS</td>\n",
       "      <td>SANTIAGO AHUIZOTLA</td>\n",
       "      <td>AZCAPOTZALCO</td>\n",
       "      <td>FUERO COMUN</td>\n",
       "      <td>-99.209475</td>\n",
       "      <td>19.476235</td>\n",
       "      <td>NaN</td>\n",
       "    </tr>\n",
       "  </tbody>\n",
       "</table>\n",
       "</div>"
      ],
      "text/plain": [
       "         ao_hechos  mes_hechos         fecha_hechos  ao_inicio  mes_inicio  \\\n",
       "1307208     2021.0  Septiembre  2021-09-07 20:47:00       2021  Septiembre   \n",
       "1307209     2021.0  Septiembre  2021-09-03 17:10:00       2021  Septiembre   \n",
       "1307210     2021.0  Septiembre  2021-09-30 23:20:00       2021  Septiembre   \n",
       "\n",
       "                fecha_inicio                                          delito  \\\n",
       "1307208  2021-09-30 23:54:06                 DAÑO EN PROPIEDAD AJENA CULPOSA   \n",
       "1307209  2021-09-30 23:54:18                 ROBO A REPARTIDOR CON VIOLENCIA   \n",
       "1307210  2021-09-30 23:54:45  ROBO A TRANSEUNTE EN VIA PUBLICA CON VIOLENCIA   \n",
       "\n",
       "                                                  fiscalia    agencia  \\\n",
       "1307208  FISCALÍA DE INVESTIGACIÓN TERRITORIAL EN IZTAP...      IZP-6   \n",
       "1307209  FISCALÍA DE INVESTIGACIÓN TERRITORIAL EN GUSTA...  UAT-GAM-2   \n",
       "1307210  FISCALÍA DE INVESTIGACIÓN TERRITORIAL EN AZCAP...       AZ-2   \n",
       "\n",
       "        unidad_investigacion  \\\n",
       "1307208               UI-2CD   \n",
       "1307209               UI-1SD   \n",
       "1307210               UI-2CD   \n",
       "\n",
       "                                          categoria_delito  \\\n",
       "1307208                             DELITO DE BAJO IMPACTO   \n",
       "1307209              ROBO A REPARTIDOR CON Y SIN VIOLENCIA   \n",
       "1307210  ROBO A TRANSEUNTE EN VÍA PÚBLICA CON Y SIN VIO...   \n",
       "\n",
       "                       calle_hechos calle_hechos2  \\\n",
       "1307208    CALZADA IGNACIO ZARAGOZA           NaN   \n",
       "1307209                 ZACAPOAXTLA           NaN   \n",
       "1307210  CALZADA SANTIAGO AHUIZOTLA       MORELOS   \n",
       "\n",
       "                                  colonia_hechos   alcaldia_hechos  \\\n",
       "1307208  AREA FEDERAL PARQUE ECOLOGICO EL SALADO        IZTAPALAPA   \n",
       "1307209                      SAN FELIPE DE JESÚS  GUSTAVO A MADERO   \n",
       "1307210                       SANTIAGO AHUIZOTLA      AZCAPOTZALCO   \n",
       "\n",
       "         competencia   longitud    latitud  tempo  \n",
       "1307208  FUERO COMUN -99.009789  19.368632    NaN  \n",
       "1307209  FUERO COMUN -99.069949  19.491604    NaN  \n",
       "1307210  FUERO COMUN -99.209475  19.476235    NaN  "
      ]
     },
     "execution_count": 4,
     "metadata": {},
     "output_type": "execute_result"
    }
   ],
   "source": [
    "FGJ_data.tail(3)"
   ]
  },
  {
   "cell_type": "code",
   "execution_count": 5,
   "id": "c5985992",
   "metadata": {},
   "outputs": [
    {
     "data": {
      "text/plain": [
       "(1307211, 19)"
      ]
     },
     "execution_count": 5,
     "metadata": {},
     "output_type": "execute_result"
    }
   ],
   "source": [
    "FGJ_data.shape"
   ]
  },
  {
   "cell_type": "code",
   "execution_count": 6,
   "id": "666bb337",
   "metadata": {},
   "outputs": [
    {
     "data": {
      "text/html": [
       "<div>\n",
       "<style scoped>\n",
       "    .dataframe tbody tr th:only-of-type {\n",
       "        vertical-align: middle;\n",
       "    }\n",
       "\n",
       "    .dataframe tbody tr th {\n",
       "        vertical-align: top;\n",
       "    }\n",
       "\n",
       "    .dataframe thead th {\n",
       "        text-align: right;\n",
       "    }\n",
       "</style>\n",
       "<table border=\"1\" class=\"dataframe\">\n",
       "  <thead>\n",
       "    <tr style=\"text-align: right;\">\n",
       "      <th></th>\n",
       "      <th>ao_hechos</th>\n",
       "      <th>ao_inicio</th>\n",
       "      <th>longitud</th>\n",
       "      <th>latitud</th>\n",
       "      <th>tempo</th>\n",
       "    </tr>\n",
       "  </thead>\n",
       "  <tbody>\n",
       "    <tr>\n",
       "      <th>count</th>\n",
       "      <td>1.306767e+06</td>\n",
       "      <td>1.307211e+06</td>\n",
       "      <td>1.253509e+06</td>\n",
       "      <td>1.253509e+06</td>\n",
       "      <td>0.0</td>\n",
       "    </tr>\n",
       "    <tr>\n",
       "      <th>mean</th>\n",
       "      <td>2.018268e+03</td>\n",
       "      <td>2.018419e+03</td>\n",
       "      <td>-9.913722e+01</td>\n",
       "      <td>1.938718e+01</td>\n",
       "      <td>NaN</td>\n",
       "    </tr>\n",
       "    <tr>\n",
       "      <th>std</th>\n",
       "      <td>1.914601e+00</td>\n",
       "      <td>1.612246e+00</td>\n",
       "      <td>6.000810e-02</td>\n",
       "      <td>7.006171e-02</td>\n",
       "      <td>NaN</td>\n",
       "    </tr>\n",
       "    <tr>\n",
       "      <th>min</th>\n",
       "      <td>1.906000e+03</td>\n",
       "      <td>2.016000e+03</td>\n",
       "      <td>-1.002319e+02</td>\n",
       "      <td>1.909535e+01</td>\n",
       "      <td>NaN</td>\n",
       "    </tr>\n",
       "    <tr>\n",
       "      <th>25%</th>\n",
       "      <td>2.017000e+03</td>\n",
       "      <td>2.017000e+03</td>\n",
       "      <td>-9.917561e+01</td>\n",
       "      <td>1.933937e+01</td>\n",
       "      <td>NaN</td>\n",
       "    </tr>\n",
       "    <tr>\n",
       "      <th>50%</th>\n",
       "      <td>2.018000e+03</td>\n",
       "      <td>2.018000e+03</td>\n",
       "      <td>-9.914208e+01</td>\n",
       "      <td>1.938967e+01</td>\n",
       "      <td>NaN</td>\n",
       "    </tr>\n",
       "    <tr>\n",
       "      <th>75%</th>\n",
       "      <td>2.020000e+03</td>\n",
       "      <td>2.020000e+03</td>\n",
       "      <td>-9.909959e+01</td>\n",
       "      <td>1.943776e+01</td>\n",
       "      <td>NaN</td>\n",
       "    </tr>\n",
       "    <tr>\n",
       "      <th>max</th>\n",
       "      <td>2.021000e+03</td>\n",
       "      <td>2.021000e+03</td>\n",
       "      <td>-9.894686e+01</td>\n",
       "      <td>1.958333e+01</td>\n",
       "      <td>NaN</td>\n",
       "    </tr>\n",
       "  </tbody>\n",
       "</table>\n",
       "</div>"
      ],
      "text/plain": [
       "          ao_hechos     ao_inicio      longitud       latitud  tempo\n",
       "count  1.306767e+06  1.307211e+06  1.253509e+06  1.253509e+06    0.0\n",
       "mean   2.018268e+03  2.018419e+03 -9.913722e+01  1.938718e+01    NaN\n",
       "std    1.914601e+00  1.612246e+00  6.000810e-02  7.006171e-02    NaN\n",
       "min    1.906000e+03  2.016000e+03 -1.002319e+02  1.909535e+01    NaN\n",
       "25%    2.017000e+03  2.017000e+03 -9.917561e+01  1.933937e+01    NaN\n",
       "50%    2.018000e+03  2.018000e+03 -9.914208e+01  1.938967e+01    NaN\n",
       "75%    2.020000e+03  2.020000e+03 -9.909959e+01  1.943776e+01    NaN\n",
       "max    2.021000e+03  2.021000e+03 -9.894686e+01  1.958333e+01    NaN"
      ]
     },
     "execution_count": 6,
     "metadata": {},
     "output_type": "execute_result"
    }
   ],
   "source": [
    "FGJ_data.describe()"
   ]
  },
  {
   "cell_type": "code",
   "execution_count": 7,
   "id": "cd11cdd8",
   "metadata": {},
   "outputs": [
    {
     "data": {
      "text/plain": [
       "ao_hechos                True\n",
       "mes_hechos               True\n",
       "fecha_hechos             True\n",
       "ao_inicio               False\n",
       "mes_inicio              False\n",
       "fecha_inicio             True\n",
       "delito                  False\n",
       "fiscalia                 True\n",
       "agencia                 False\n",
       "unidad_investigacion     True\n",
       "categoria_delito        False\n",
       "calle_hechos             True\n",
       "calle_hechos2            True\n",
       "colonia_hechos           True\n",
       "alcaldia_hechos          True\n",
       "competencia              True\n",
       "longitud                 True\n",
       "latitud                  True\n",
       "tempo                    True\n",
       "dtype: bool"
      ]
     },
     "execution_count": 7,
     "metadata": {},
     "output_type": "execute_result"
    }
   ],
   "source": [
    "FGJ_data.isna().any()"
   ]
  },
  {
   "cell_type": "code",
   "execution_count": 8,
   "id": "c0cc446f",
   "metadata": {},
   "outputs": [
    {
     "data": {
      "text/plain": [
       "ao_hechos               float64\n",
       "mes_hechos               object\n",
       "fecha_hechos             object\n",
       "ao_inicio                 int64\n",
       "mes_inicio               object\n",
       "fecha_inicio             object\n",
       "delito                   object\n",
       "fiscalia                 object\n",
       "agencia                  object\n",
       "unidad_investigacion     object\n",
       "categoria_delito         object\n",
       "calle_hechos             object\n",
       "calle_hechos2            object\n",
       "colonia_hechos           object\n",
       "alcaldia_hechos          object\n",
       "competencia              object\n",
       "longitud                float64\n",
       "latitud                 float64\n",
       "tempo                   float64\n",
       "dtype: object"
      ]
     },
     "execution_count": 8,
     "metadata": {},
     "output_type": "execute_result"
    }
   ],
   "source": [
    "FGJ_data.dtypes"
   ]
  },
  {
   "cell_type": "code",
   "execution_count": 9,
   "id": "32b8ee08",
   "metadata": {},
   "outputs": [
    {
     "data": {
      "text/plain": [
       "delito              345\n",
       "fiscalia             73\n",
       "agencia             209\n",
       "categoria_delito     18\n",
       "alcaldia_hechos     557\n",
       "competencia           3\n",
       "dtype: int64"
      ]
     },
     "execution_count": 9,
     "metadata": {},
     "output_type": "execute_result"
    }
   ],
   "source": [
    "FGJ_data[['delito', 'fiscalia', 'agencia','categoria_delito','alcaldia_hechos','competencia']].nunique()"
   ]
  },
  {
   "cell_type": "code",
   "execution_count": 10,
   "id": "ca898713",
   "metadata": {},
   "outputs": [
    {
     "data": {
      "text/plain": [
       "VIOLENCIA FAMILIAR                                                        137582\n",
       "FRAUDE                                                                     82032\n",
       "ROBO DE OBJETOS                                                            75973\n",
       "AMENAZAS                                                                   71595\n",
       "ROBO A NEGOCIO SIN VIOLENCIA                                               67547\n",
       "                                                                           ...  \n",
       "ROBO DE VEHICULO Y NOMINA CON VIOLENCIA                                        1\n",
       "ASOCIACION DELICTUOSA                                                          1\n",
       "DESACATO                                                                       1\n",
       "CALUMNIAS                                                                      1\n",
       "PROCREACION ASISTIDA, INSEMINACION ARTIFICIAL Y ESTERILIZACION FORZADA         1\n",
       "Name: delito, Length: 345, dtype: int64"
      ]
     },
     "execution_count": 10,
     "metadata": {},
     "output_type": "execute_result"
    }
   ],
   "source": [
    "FGJ_data.delito.value_counts()"
   ]
  },
  {
   "cell_type": "code",
   "execution_count": 11,
   "id": "eac31666",
   "metadata": {},
   "outputs": [
    {
     "data": {
      "text/plain": [
       "INVESTIGACIÓN EN IZTAPALAPA                                                                             114947\n",
       "INVESTIGACIÓN EN CUAUHTEMOC                                                                             114405\n",
       "INVESTIGACIÓN EN GUSTAVO A. MADERO                                                                       78355\n",
       "INVESTIGACIÓN EN BENITO JUÁREZ                                                                           74528\n",
       "INVESTIGACIÓN EN ÁLVARO OBREGÓN                                                                          54129\n",
       "                                                                                                         ...  \n",
       "FISCALÍA ESPECIALIZADA PARA LA INVESTIGACIÓN DEL DELITO DE FEMINICIDIO                                     134\n",
       "UNIDAD DE RECEPCION POR INTERNET                                                                            55\n",
       "ESPECIALIZADA EN LA BÚSQUEDA, LOCALIZACIÓN E INVESTIGACIÓN DE PERSONAS DESAPARECIDAS                        43\n",
       "FISCALIA DELITOS ELECTORALES                                                                                12\n",
       "FISCALÍA DE INVESTIGACIÓN Y PERSECUCIÓN DE LOS DELITOS EN MATERIA DE DESAPARICIÓN FORZADA DE PERSONA         1\n",
       "Name: fiscalia, Length: 73, dtype: int64"
      ]
     },
     "execution_count": 11,
     "metadata": {},
     "output_type": "execute_result"
    }
   ],
   "source": [
    "FGJ_data.fiscalia.value_counts()"
   ]
  },
  {
   "cell_type": "code",
   "execution_count": 12,
   "id": "1e343693",
   "metadata": {},
   "outputs": [
    {
     "data": {
      "text/plain": [
       "DELITO DE BAJO IMPACTO                                     1026209\n",
       "ROBO A TRANSEUNTE EN VÍA PÚBLICA CON Y SIN VIOLENCIA         73481\n",
       "ROBO DE VEHÍCULO CON Y SIN VIOLENCIA                         67522\n",
       "HECHO NO DELICTIVO                                           57857\n",
       "ROBO A NEGOCIO CON VIOLENCIA                                 21136\n",
       "ROBO A REPARTIDOR CON Y SIN VIOLENCIA                        13362\n",
       "ROBO A PASAJERO A BORDO DEL METRO CON Y SIN VIOLENCIA        11469\n",
       "LESIONES DOLOSAS POR DISPARO DE ARMA DE FUEGO                 9306\n",
       "HOMICIDIO DOLOSO                                              7412\n",
       "VIOLACIÓN                                                     7344\n",
       "ROBO A PASAJERO A BORDO DE MICROBUS CON Y SIN VIOLENCIA       4293\n",
       "ROBO A CASA HABITACIÓN CON VIOLENCIA                          3256\n",
       "ROBO A CUENTAHABIENTE SALIENDO DEL CAJERO CON VIOLENCIA       2386\n",
       "ROBO A PASAJERO A BORDO DE TAXI CON VIOLENCIA                 1299\n",
       "ROBO A TRANSPORTISTA CON Y SIN VIOLENCIA                       685\n",
       "SECUESTRO                                                      191\n",
       "FEMINICIDIO                                                      2\n",
       "PLAGIO O SECUESTRO                                               1\n",
       "Name: categoria_delito, dtype: int64"
      ]
     },
     "execution_count": 12,
     "metadata": {},
     "output_type": "execute_result"
    }
   ],
   "source": [
    "FGJ_data.categoria_delito.value_counts()"
   ]
  },
  {
   "cell_type": "code",
   "execution_count": 13,
   "id": "5b6421dc",
   "metadata": {},
   "outputs": [
    {
     "data": {
      "text/plain": [
       "CUAUHTEMOC          203425\n",
       "IZTAPALAPA          196158\n",
       "GUSTAVO A MADERO    131319\n",
       "BENITO JUAREZ       107516\n",
       "ALVARO OBREGON       88946\n",
       "                     ...  \n",
       "ABALA                    1\n",
       "MAGDALENA                1\n",
       "AGUA DULCE               1\n",
       "CHARO                    1\n",
       "SENGUIO                  1\n",
       "Name: alcaldia_hechos, Length: 557, dtype: int64"
      ]
     },
     "execution_count": 13,
     "metadata": {},
     "output_type": "execute_result"
    }
   ],
   "source": [
    "FGJ_data.alcaldia_hechos.value_counts()"
   ]
  },
  {
   "cell_type": "code",
   "execution_count": 14,
   "id": "02849ff6",
   "metadata": {},
   "outputs": [
    {
     "data": {
      "text/plain": [
       "FUERO COMUN           236246\n",
       "HECHO NO DELICTIVO      4341\n",
       "INCOMPETENCIA           2545\n",
       "Name: competencia, dtype: int64"
      ]
     },
     "execution_count": 14,
     "metadata": {},
     "output_type": "execute_result"
    }
   ],
   "source": [
    "FGJ_data.competencia.value_counts()"
   ]
  },
  {
   "cell_type": "markdown",
   "id": "92f27b0b",
   "metadata": {},
   "source": [
    "### 1. Define analysis time frame"
   ]
  },
  {
   "cell_type": "code",
   "execution_count": 15,
   "id": "dfc05872",
   "metadata": {},
   "outputs": [
    {
     "data": {
      "text/plain": [
       "2021.0    155919\n",
       "2020.0    201527\n",
       "2019.0    243898\n",
       "2018.0    254013\n",
       "2017.0    227268\n",
       "2016.0    195010\n",
       "2015.0     15993\n",
       "2014.0      4313\n",
       "2013.0      2204\n",
       "2012.0      1577\n",
       "2011.0      1080\n",
       "2010.0       903\n",
       "2009.0       499\n",
       "2008.0       482\n",
       "2007.0       327\n",
       "2006.0       268\n",
       "2005.0       199\n",
       "2004.0       169\n",
       "2003.0       118\n",
       "2002.0       113\n",
       "2001.0       203\n",
       "2000.0       112\n",
       "1999.0        48\n",
       "1998.0        60\n",
       "1997.0        41\n",
       "1996.0        31\n",
       "1995.0        33\n",
       "1994.0        24\n",
       "1993.0        27\n",
       "1992.0        35\n",
       "1991.0        18\n",
       "Name: ao_hechos, dtype: int64"
      ]
     },
     "execution_count": 15,
     "metadata": {},
     "output_type": "execute_result"
    }
   ],
   "source": [
    "## Crime incidence for the last 20 years (number of registers in FGJ db) \n",
    "year_incidence = FGJ_data.ao_hechos.value_counts()\n",
    "year_incidence[year_incidence.index >= 1991].sort_index(ascending=False)"
   ]
  },
  {
   "cell_type": "code",
   "execution_count": 29,
   "id": "b2e9a2c0",
   "metadata": {},
   "outputs": [
    {
     "data": {
      "text/plain": [
       "(1306083, 3)"
      ]
     },
     "execution_count": 29,
     "metadata": {},
     "output_type": "execute_result"
    }
   ],
   "source": [
    "FGJ_data[['ao_hechos','mes_hechos','competencia']].loc[FGJ_data['ao_hechos'] > 2000].sort_values(['ao_hechos','mes_hechos']).shape"
   ]
  },
  {
   "cell_type": "code",
   "execution_count": 28,
   "id": "fabde2d9",
   "metadata": {},
   "outputs": [
    {
     "data": {
      "text/plain": [
       "(242919, 3)"
      ]
     },
     "execution_count": 28,
     "metadata": {},
     "output_type": "execute_result"
    }
   ],
   "source": [
    "FGJ_data[['ao_hechos','mes_hechos','competencia']].loc[FGJ_data['ao_hechos'] > 2000].dropna().sort_values(['ao_hechos','mes_hechos']).shape"
   ]
  },
  {
   "cell_type": "code",
   "execution_count": 18,
   "id": "d266b534",
   "metadata": {},
   "outputs": [
    {
     "data": {
      "text/plain": [
       "ao_hechos  mes_hechos\n",
       "2014.0     Abril           323\n",
       "           Agosto          323\n",
       "           Diciembre       426\n",
       "           Enero           331\n",
       "           Febrero         256\n",
       "           Julio           337\n",
       "           Junio           327\n",
       "           Marzo           326\n",
       "           Mayo            469\n",
       "           Noviembre       392\n",
       "           Octubre         449\n",
       "           Septiembre      354\n",
       "2015.0     Abril           696\n",
       "           Agosto         1143\n",
       "           Diciembre      3563\n",
       "           Enero          1143\n",
       "           Febrero         707\n",
       "           Julio           946\n",
       "           Junio           983\n",
       "           Marzo           737\n",
       "           Mayo            884\n",
       "           Noviembre      2134\n",
       "           Octubre        1723\n",
       "           Septiembre     1334\n",
       "2016.0     Abril         16413\n",
       "           Agosto        16623\n",
       "           Diciembre     16144\n",
       "           Enero         15171\n",
       "           Febrero       15505\n",
       "           Julio         15477\n",
       "           Junio         15260\n",
       "           Marzo         15980\n",
       "           Mayo          16499\n",
       "           Noviembre     16609\n",
       "           Octubre       17806\n",
       "           Septiembre    17523\n",
       "2017.0     Abril         17254\n",
       "           Agosto        20196\n",
       "           Diciembre     18966\n",
       "           Enero         17626\n",
       "           Febrero       16489\n",
       "           Julio         19287\n",
       "           Junio         19461\n",
       "           Marzo         18682\n",
       "           Mayo          19757\n",
       "           Noviembre     19568\n",
       "           Octubre       20932\n",
       "           Septiembre    19050\n",
       "Name: delito, dtype: int64"
      ]
     },
     "execution_count": 18,
     "metadata": {},
     "output_type": "execute_result"
    }
   ],
   "source": [
    "FGJ_data.loc[(FGJ_data['ao_hechos'] >= 2014) & (FGJ_data['ao_hechos'] <= 2017)].groupby(['ao_hechos','mes_hechos']).count()['delito']"
   ]
  },
  {
   "cell_type": "code",
   "execution_count": 30,
   "id": "037c5b67",
   "metadata": {},
   "outputs": [
    {
     "ename": "KeyError",
     "evalue": "'delito'",
     "output_type": "error",
     "traceback": [
      "\u001b[1;31m---------------------------------------------------------------------------\u001b[0m",
      "\u001b[1;31mKeyError\u001b[0m                                  Traceback (most recent call last)",
      "\u001b[1;32m~\\anaconda3\\lib\\site-packages\\pandas\\core\\indexes\\base.py\u001b[0m in \u001b[0;36mget_loc\u001b[1;34m(self, key, method, tolerance)\u001b[0m\n\u001b[0;32m   3079\u001b[0m             \u001b[1;32mtry\u001b[0m\u001b[1;33m:\u001b[0m\u001b[1;33m\u001b[0m\u001b[1;33m\u001b[0m\u001b[0m\n\u001b[1;32m-> 3080\u001b[1;33m                 \u001b[1;32mreturn\u001b[0m \u001b[0mself\u001b[0m\u001b[1;33m.\u001b[0m\u001b[0m_engine\u001b[0m\u001b[1;33m.\u001b[0m\u001b[0mget_loc\u001b[0m\u001b[1;33m(\u001b[0m\u001b[0mcasted_key\u001b[0m\u001b[1;33m)\u001b[0m\u001b[1;33m\u001b[0m\u001b[1;33m\u001b[0m\u001b[0m\n\u001b[0m\u001b[0;32m   3081\u001b[0m             \u001b[1;32mexcept\u001b[0m \u001b[0mKeyError\u001b[0m \u001b[1;32mas\u001b[0m \u001b[0merr\u001b[0m\u001b[1;33m:\u001b[0m\u001b[1;33m\u001b[0m\u001b[1;33m\u001b[0m\u001b[0m\n",
      "\u001b[1;32mpandas\\_libs\\index.pyx\u001b[0m in \u001b[0;36mpandas._libs.index.IndexEngine.get_loc\u001b[1;34m()\u001b[0m\n",
      "\u001b[1;32mpandas\\_libs\\index.pyx\u001b[0m in \u001b[0;36mpandas._libs.index.IndexEngine.get_loc\u001b[1;34m()\u001b[0m\n",
      "\u001b[1;32mpandas\\_libs\\hashtable_class_helper.pxi\u001b[0m in \u001b[0;36mpandas._libs.hashtable.PyObjectHashTable.get_item\u001b[1;34m()\u001b[0m\n",
      "\u001b[1;32mpandas\\_libs\\hashtable_class_helper.pxi\u001b[0m in \u001b[0;36mpandas._libs.hashtable.PyObjectHashTable.get_item\u001b[1;34m()\u001b[0m\n",
      "\u001b[1;31mKeyError\u001b[0m: 'delito'",
      "\nThe above exception was the direct cause of the following exception:\n",
      "\u001b[1;31mKeyError\u001b[0m                                  Traceback (most recent call last)",
      "\u001b[1;32m<ipython-input-30-48d07ce014e8>\u001b[0m in \u001b[0;36m<module>\u001b[1;34m\u001b[0m\n\u001b[1;32m----> 1\u001b[1;33m \u001b[0mFGJ_data\u001b[0m\u001b[1;33m.\u001b[0m\u001b[0mloc\u001b[0m\u001b[1;33m[\u001b[0m\u001b[1;33m(\u001b[0m\u001b[0mFGJ_data\u001b[0m\u001b[1;33m[\u001b[0m\u001b[1;34m'ao_inicio'\u001b[0m\u001b[1;33m]\u001b[0m \u001b[1;33m>=\u001b[0m \u001b[1;36m2014\u001b[0m\u001b[1;33m)\u001b[0m \u001b[1;33m&\u001b[0m \u001b[1;33m(\u001b[0m\u001b[0mFGJ_data\u001b[0m\u001b[1;33m[\u001b[0m\u001b[1;34m'ao_inicio'\u001b[0m\u001b[1;33m]\u001b[0m \u001b[1;33m<=\u001b[0m \u001b[1;36m2017\u001b[0m\u001b[1;33m)\u001b[0m\u001b[1;33m]\u001b[0m\u001b[1;33m.\u001b[0m\u001b[0mgroupby\u001b[0m\u001b[1;33m(\u001b[0m\u001b[1;33m[\u001b[0m\u001b[1;34m'ao_inicio'\u001b[0m\u001b[1;33m,\u001b[0m\u001b[1;34m'mes_inicio'\u001b[0m\u001b[1;33m,\u001b[0m\u001b[1;34m'delito'\u001b[0m\u001b[1;33m]\u001b[0m\u001b[1;33m)\u001b[0m\u001b[1;33m.\u001b[0m\u001b[0mcount\u001b[0m\u001b[1;33m(\u001b[0m\u001b[1;33m)\u001b[0m\u001b[1;33m[\u001b[0m\u001b[1;34m'delito'\u001b[0m\u001b[1;33m]\u001b[0m\u001b[1;33m\u001b[0m\u001b[1;33m\u001b[0m\u001b[0m\n\u001b[0m",
      "\u001b[1;32m~\\anaconda3\\lib\\site-packages\\pandas\\core\\frame.py\u001b[0m in \u001b[0;36m__getitem__\u001b[1;34m(self, key)\u001b[0m\n\u001b[0;32m   3022\u001b[0m             \u001b[1;32mif\u001b[0m \u001b[0mself\u001b[0m\u001b[1;33m.\u001b[0m\u001b[0mcolumns\u001b[0m\u001b[1;33m.\u001b[0m\u001b[0mnlevels\u001b[0m \u001b[1;33m>\u001b[0m \u001b[1;36m1\u001b[0m\u001b[1;33m:\u001b[0m\u001b[1;33m\u001b[0m\u001b[1;33m\u001b[0m\u001b[0m\n\u001b[0;32m   3023\u001b[0m                 \u001b[1;32mreturn\u001b[0m \u001b[0mself\u001b[0m\u001b[1;33m.\u001b[0m\u001b[0m_getitem_multilevel\u001b[0m\u001b[1;33m(\u001b[0m\u001b[0mkey\u001b[0m\u001b[1;33m)\u001b[0m\u001b[1;33m\u001b[0m\u001b[1;33m\u001b[0m\u001b[0m\n\u001b[1;32m-> 3024\u001b[1;33m             \u001b[0mindexer\u001b[0m \u001b[1;33m=\u001b[0m \u001b[0mself\u001b[0m\u001b[1;33m.\u001b[0m\u001b[0mcolumns\u001b[0m\u001b[1;33m.\u001b[0m\u001b[0mget_loc\u001b[0m\u001b[1;33m(\u001b[0m\u001b[0mkey\u001b[0m\u001b[1;33m)\u001b[0m\u001b[1;33m\u001b[0m\u001b[1;33m\u001b[0m\u001b[0m\n\u001b[0m\u001b[0;32m   3025\u001b[0m             \u001b[1;32mif\u001b[0m \u001b[0mis_integer\u001b[0m\u001b[1;33m(\u001b[0m\u001b[0mindexer\u001b[0m\u001b[1;33m)\u001b[0m\u001b[1;33m:\u001b[0m\u001b[1;33m\u001b[0m\u001b[1;33m\u001b[0m\u001b[0m\n\u001b[0;32m   3026\u001b[0m                 \u001b[0mindexer\u001b[0m \u001b[1;33m=\u001b[0m \u001b[1;33m[\u001b[0m\u001b[0mindexer\u001b[0m\u001b[1;33m]\u001b[0m\u001b[1;33m\u001b[0m\u001b[1;33m\u001b[0m\u001b[0m\n",
      "\u001b[1;32m~\\anaconda3\\lib\\site-packages\\pandas\\core\\indexes\\base.py\u001b[0m in \u001b[0;36mget_loc\u001b[1;34m(self, key, method, tolerance)\u001b[0m\n\u001b[0;32m   3080\u001b[0m                 \u001b[1;32mreturn\u001b[0m \u001b[0mself\u001b[0m\u001b[1;33m.\u001b[0m\u001b[0m_engine\u001b[0m\u001b[1;33m.\u001b[0m\u001b[0mget_loc\u001b[0m\u001b[1;33m(\u001b[0m\u001b[0mcasted_key\u001b[0m\u001b[1;33m)\u001b[0m\u001b[1;33m\u001b[0m\u001b[1;33m\u001b[0m\u001b[0m\n\u001b[0;32m   3081\u001b[0m             \u001b[1;32mexcept\u001b[0m \u001b[0mKeyError\u001b[0m \u001b[1;32mas\u001b[0m \u001b[0merr\u001b[0m\u001b[1;33m:\u001b[0m\u001b[1;33m\u001b[0m\u001b[1;33m\u001b[0m\u001b[0m\n\u001b[1;32m-> 3082\u001b[1;33m                 \u001b[1;32mraise\u001b[0m \u001b[0mKeyError\u001b[0m\u001b[1;33m(\u001b[0m\u001b[0mkey\u001b[0m\u001b[1;33m)\u001b[0m \u001b[1;32mfrom\u001b[0m \u001b[0merr\u001b[0m\u001b[1;33m\u001b[0m\u001b[1;33m\u001b[0m\u001b[0m\n\u001b[0m\u001b[0;32m   3083\u001b[0m \u001b[1;33m\u001b[0m\u001b[0m\n\u001b[0;32m   3084\u001b[0m         \u001b[1;32mif\u001b[0m \u001b[0mtolerance\u001b[0m \u001b[1;32mis\u001b[0m \u001b[1;32mnot\u001b[0m \u001b[1;32mNone\u001b[0m\u001b[1;33m:\u001b[0m\u001b[1;33m\u001b[0m\u001b[1;33m\u001b[0m\u001b[0m\n",
      "\u001b[1;31mKeyError\u001b[0m: 'delito'"
     ]
    }
   ],
   "source": [
    "FGJ_data.loc[(FGJ_data['ao_inicio'] >= 2014) & (FGJ_data['ao_inicio'] <= 2017)].groupby(['ao_inicio','mes_inicio','delito']).count()['delito']"
   ]
  },
  {
   "cell_type": "code",
   "execution_count": 26,
   "id": "e982b13a",
   "metadata": {},
   "outputs": [
    {
     "data": {
      "text/plain": [
       "CUAUHTEMOC           74079\n",
       "IZTAPALAPA           64742\n",
       "GUSTAVO A MADERO     43214\n",
       "BENITO JUAREZ        38756\n",
       "COYOACAN             30170\n",
       "                     ...  \n",
       "SANTIAGO DE ANAYA        1\n",
       "CUITLAHUAC               1\n",
       "CALVILLO                 1\n",
       "CADEREYTA JIMENEZ        1\n",
       "JALACINGO                1\n",
       "Name: alcaldia_hechos, Length: 367, dtype: int64"
      ]
     },
     "execution_count": 26,
     "metadata": {},
     "output_type": "execute_result"
    }
   ],
   "source": [
    "FGJ_data.loc[(FGJ_data['ao_hechos'] >= 2014) & (FGJ_data['ao_hechos'] <= 2017)]['alcaldia_hechos'].value_counts()"
   ]
  },
  {
   "cell_type": "markdown",
   "id": "4ca4c044",
   "metadata": {},
   "source": [
    "### C. Clean dataset"
   ]
  },
  {
   "cell_type": "code",
   "execution_count": 84,
   "id": "04356b3d",
   "metadata": {},
   "outputs": [
    {
     "name": "stdout",
     "output_type": "stream",
     "text": [
      "(1307211, 19)\n"
     ]
    }
   ],
   "source": [
    "print(FGJ_data.shape)"
   ]
  },
  {
   "cell_type": "code",
   "execution_count": 42,
   "id": "fc37a877",
   "metadata": {},
   "outputs": [
    {
     "data": {
      "text/plain": [
       "Index(['ao_hechos', 'mes_hechos', 'fecha_hechos', 'ao_inicio', 'mes_inicio',\n",
       "       'fecha_inicio', 'delito', 'fiscalia', 'agencia', 'unidad_investigacion',\n",
       "       'categoria_delito', 'calle_hechos', 'calle_hechos2', 'colonia_hechos',\n",
       "       'alcaldia_hechos', 'competencia', 'longitud', 'latitud', 'tempo'],\n",
       "      dtype='object')"
      ]
     },
     "execution_count": 42,
     "metadata": {},
     "output_type": "execute_result"
    }
   ],
   "source": [
    "FGJ_data.columns"
   ]
  },
  {
   "cell_type": "code",
   "execution_count": 85,
   "id": "8101b445",
   "metadata": {},
   "outputs": [
    {
     "name": "stdout",
     "output_type": "stream",
     "text": [
      "(1277635, 9)\n"
     ]
    }
   ],
   "source": [
    "## Select columns for clean dataset\n",
    "columns = ['ao_hechos', 'mes_hechos', 'fecha_hechos', 'delito', 'categoria_delito',\n",
    "           'colonia_hechos', 'alcaldia_hechos', 'longitud', 'latitud']\n",
    "\n",
    "## Build clean dataset according to defined analysis timeframe (2016-2021) \n",
    "FGJ_clean = FGJ_data.loc[(FGJ_data['ao_hechos'] >= 2016)][columns]\n",
    "print(FGJ_clean.shape)"
   ]
  },
  {
   "cell_type": "code",
   "execution_count": 53,
   "id": "019db081",
   "metadata": {},
   "outputs": [],
   "source": [
    "## Convert timestamp to datetimeindex\n",
    "FGJ_clean['fecha_hechos'] = pd.to_datetime(FGJ_clean.fecha_hechos.values)"
   ]
  },
  {
   "cell_type": "code",
   "execution_count": 54,
   "id": "1b9c75d9",
   "metadata": {},
   "outputs": [],
   "source": [
    "## Set datetimeindex\n",
    "FGJ_clean.set_index('fecha_hechos', inplace=True)"
   ]
  },
  {
   "cell_type": "code",
   "execution_count": 75,
   "id": "543546d5",
   "metadata": {},
   "outputs": [],
   "source": [
    "## FGJ_clean.categoria_delito.value_counts()"
   ]
  },
  {
   "cell_type": "code",
   "execution_count": 64,
   "id": "6cb44be6",
   "metadata": {},
   "outputs": [
    {
     "data": {
      "text/plain": [
       "CUAUHTEMOC                195149\n",
       "IZTAPALAPA                193014\n",
       "GUSTAVO A MADERO          129141\n",
       "BENITO JUAREZ             104641\n",
       "ALVARO OBREGON             87552\n",
       "COYOACAN                   85670\n",
       "MIGUEL HIDALGO             82574\n",
       "TLALPAN                    75262\n",
       "VENUSTIANO CARRANZA        73839\n",
       "AZCAPOTZALCO               62425\n",
       "IZTACALCO                  53469\n",
       "XOCHIMILCO                 40365\n",
       "TLAHUAC                    31930\n",
       "LA MAGDALENA CONTRERAS     21128\n",
       "CUAJIMALPA DE MORELOS      19047\n",
       "MILPA ALTA                  9408\n",
       "NEZAHUALCOYOTL              1373\n",
       "TLALNEPANTLA DE BAZ         1060\n",
       "ECATEPEC DE MORELOS          989\n",
       "NAUCALPAN DE JUAREZ          756\n",
       "Name: alcaldia_hechos, dtype: int64"
      ]
     },
     "execution_count": 64,
     "metadata": {},
     "output_type": "execute_result"
    }
   ],
   "source": [
    "FGJ_clean.alcaldia_hechos.value_counts().head(20)"
   ]
  },
  {
   "cell_type": "code",
   "execution_count": 77,
   "id": "bcdf7033",
   "metadata": {},
   "outputs": [
    {
     "data": {
      "text/plain": [
       "Index(['CUAUHTEMOC', 'IZTAPALAPA', 'GUSTAVO A MADERO', 'BENITO JUAREZ',\n",
       "       'ALVARO OBREGON', 'COYOACAN', 'MIGUEL HIDALGO', 'TLALPAN',\n",
       "       'VENUSTIANO CARRANZA', 'AZCAPOTZALCO', 'IZTACALCO', 'XOCHIMILCO',\n",
       "       'TLAHUAC', 'LA MAGDALENA CONTRERAS', 'CUAJIMALPA DE MORELOS',\n",
       "       'MILPA ALTA'],\n",
       "      dtype='object')"
      ]
     },
     "execution_count": 77,
     "metadata": {},
     "output_type": "execute_result"
    }
   ],
   "source": [
    "## Get alcaldias list\n",
    "alcaldias_list = FGJ_clean.alcaldia_hechos.value_counts().head(16).index\n",
    "alcaldias_list"
   ]
  },
  {
   "cell_type": "code",
   "execution_count": 78,
   "id": "726c94f4",
   "metadata": {},
   "outputs": [],
   "source": [
    "## Filter by alcaldias list\n",
    "FGJ_alcaldias = FGJ_clean.loc[FGJ_clean['alcaldia_hechos'].isin(alcaldias_list)]"
   ]
  },
  {
   "cell_type": "code",
   "execution_count": 86,
   "id": "de216f27",
   "metadata": {},
   "outputs": [
    {
     "name": "stdout",
     "output_type": "stream",
     "text": [
      "(1264614, 8)\n"
     ]
    },
    {
     "data": {
      "text/html": [
       "<div>\n",
       "<style scoped>\n",
       "    .dataframe tbody tr th:only-of-type {\n",
       "        vertical-align: middle;\n",
       "    }\n",
       "\n",
       "    .dataframe tbody tr th {\n",
       "        vertical-align: top;\n",
       "    }\n",
       "\n",
       "    .dataframe thead th {\n",
       "        text-align: right;\n",
       "    }\n",
       "</style>\n",
       "<table border=\"1\" class=\"dataframe\">\n",
       "  <thead>\n",
       "    <tr style=\"text-align: right;\">\n",
       "      <th></th>\n",
       "      <th>ao_hechos</th>\n",
       "      <th>mes_hechos</th>\n",
       "      <th>delito</th>\n",
       "      <th>categoria_delito</th>\n",
       "      <th>colonia_hechos</th>\n",
       "      <th>alcaldia_hechos</th>\n",
       "      <th>longitud</th>\n",
       "      <th>latitud</th>\n",
       "    </tr>\n",
       "    <tr>\n",
       "      <th>fecha_hechos</th>\n",
       "      <th></th>\n",
       "      <th></th>\n",
       "      <th></th>\n",
       "      <th></th>\n",
       "      <th></th>\n",
       "      <th></th>\n",
       "      <th></th>\n",
       "      <th></th>\n",
       "    </tr>\n",
       "  </thead>\n",
       "  <tbody>\n",
       "    <tr>\n",
       "      <th>2016-01-31 22:16:00</th>\n",
       "      <td>2016.0</td>\n",
       "      <td>Enero</td>\n",
       "      <td>DAÑO EN PROPIEDAD AJENA INTENCIONAL</td>\n",
       "      <td>DELITO DE BAJO IMPACTO</td>\n",
       "      <td>AMÉRICAS UNIDAS</td>\n",
       "      <td>BENITO JUAREZ</td>\n",
       "      <td>-99.140215</td>\n",
       "      <td>19.380315</td>\n",
       "    </tr>\n",
       "    <tr>\n",
       "      <th>2016-01-31 20:50:00</th>\n",
       "      <td>2016.0</td>\n",
       "      <td>Enero</td>\n",
       "      <td>ROBO DE VEHICULO DE SERVICIO PARTICULAR CON VI...</td>\n",
       "      <td>ROBO DE VEHÍCULO CON Y SIN VIOLENCIA</td>\n",
       "      <td>LOS CIPRESES</td>\n",
       "      <td>IZTAPALAPA</td>\n",
       "      <td>-99.108403</td>\n",
       "      <td>19.352859</td>\n",
       "    </tr>\n",
       "    <tr>\n",
       "      <th>2016-02-01 00:30:00</th>\n",
       "      <td>2016.0</td>\n",
       "      <td>Febrero</td>\n",
       "      <td>NARCOMENUDEO POSESION SIMPLE</td>\n",
       "      <td>DELITO DE BAJO IMPACTO</td>\n",
       "      <td>UNIDAD VICENTE GUERRERO</td>\n",
       "      <td>IZTAPALAPA</td>\n",
       "      <td>-99.061321</td>\n",
       "      <td>19.356451</td>\n",
       "    </tr>\n",
       "  </tbody>\n",
       "</table>\n",
       "</div>"
      ],
      "text/plain": [
       "                     ao_hechos mes_hechos  \\\n",
       "fecha_hechos                                \n",
       "2016-01-31 22:16:00     2016.0      Enero   \n",
       "2016-01-31 20:50:00     2016.0      Enero   \n",
       "2016-02-01 00:30:00     2016.0    Febrero   \n",
       "\n",
       "                                                                delito  \\\n",
       "fecha_hechos                                                             \n",
       "2016-01-31 22:16:00                DAÑO EN PROPIEDAD AJENA INTENCIONAL   \n",
       "2016-01-31 20:50:00  ROBO DE VEHICULO DE SERVICIO PARTICULAR CON VI...   \n",
       "2016-02-01 00:30:00                       NARCOMENUDEO POSESION SIMPLE   \n",
       "\n",
       "                                         categoria_delito  \\\n",
       "fecha_hechos                                                \n",
       "2016-01-31 22:16:00                DELITO DE BAJO IMPACTO   \n",
       "2016-01-31 20:50:00  ROBO DE VEHÍCULO CON Y SIN VIOLENCIA   \n",
       "2016-02-01 00:30:00                DELITO DE BAJO IMPACTO   \n",
       "\n",
       "                              colonia_hechos alcaldia_hechos   longitud  \\\n",
       "fecha_hechos                                                              \n",
       "2016-01-31 22:16:00          AMÉRICAS UNIDAS   BENITO JUAREZ -99.140215   \n",
       "2016-01-31 20:50:00             LOS CIPRESES      IZTAPALAPA -99.108403   \n",
       "2016-02-01 00:30:00  UNIDAD VICENTE GUERRERO      IZTAPALAPA -99.061321   \n",
       "\n",
       "                       latitud  \n",
       "fecha_hechos                    \n",
       "2016-01-31 22:16:00  19.380315  \n",
       "2016-01-31 20:50:00  19.352859  \n",
       "2016-02-01 00:30:00  19.356451  "
      ]
     },
     "execution_count": 86,
     "metadata": {},
     "output_type": "execute_result"
    }
   ],
   "source": [
    "print(FGJ_alcaldias.shape)\n",
    "FGJ_alcaldias.head(3)"
   ]
  },
  {
   "cell_type": "code",
   "execution_count": null,
   "id": "3f6d0260",
   "metadata": {},
   "outputs": [],
   "source": []
  },
  {
   "cell_type": "markdown",
   "id": "7a07a0bf",
   "metadata": {},
   "source": [
    "### 2. Increasing / decreasing crime rates"
   ]
  },
  {
   "cell_type": "code",
   "execution_count": 168,
   "id": "117a0513",
   "metadata": {},
   "outputs": [],
   "source": [
    "## Build crime list\n",
    "delitos_list = FGJ_alcaldias.delito.value_counts().index"
   ]
  },
  {
   "cell_type": "code",
   "execution_count": 204,
   "id": "82f93957",
   "metadata": {},
   "outputs": [],
   "source": [
    "## Build crime rate change DF for last year\n",
    "crime_rate = pd.DataFrame(delitos_list.sort_values())\n",
    "crime_rate.set_index(delitos_list.sort_values(), inplace=True)\n",
    "crime_rate.drop(0, axis=1, inplace=True)\n",
    "\n",
    "crime_rate['Oct-2020'] = FGJ_alcaldias.loc[(FGJ_alcaldias.ao_hechos == 2020)&(FGJ_alcaldias.mes_hechos == 'Octubre')].delito.value_counts()\n",
    "crime_rate['Sep-2021'] = FGJ_alcaldias.loc[(FGJ_alcaldias.ao_hechos == 2021)&(FGJ_alcaldias.mes_hechos == 'Septiembre')].delito.value_counts()\n",
    "\n",
    "crime_rate.dropna(inplace=True)\n",
    "crime_rate = crime_rate.loc[(crime_rate['Oct-2020'] >= 50) & (crime_rate['Sep-2021'] >= 50)]\n",
    "\n",
    "crime_rate['Pct_Change'] = (crime_rate['Sep-2021'] - crime_rate['Oct-2020'])/crime_rate['Oct-2020']"
   ]
  },
  {
   "cell_type": "code",
   "execution_count": 207,
   "id": "3dad71b4",
   "metadata": {},
   "outputs": [
    {
     "data": {
      "text/html": [
       "<div>\n",
       "<style scoped>\n",
       "    .dataframe tbody tr th:only-of-type {\n",
       "        vertical-align: middle;\n",
       "    }\n",
       "\n",
       "    .dataframe tbody tr th {\n",
       "        vertical-align: top;\n",
       "    }\n",
       "\n",
       "    .dataframe thead th {\n",
       "        text-align: right;\n",
       "    }\n",
       "</style>\n",
       "<table border=\"1\" class=\"dataframe\">\n",
       "  <thead>\n",
       "    <tr style=\"text-align: right;\">\n",
       "      <th></th>\n",
       "      <th>Oct-2020</th>\n",
       "      <th>Sep-2021</th>\n",
       "      <th>Pct_Change</th>\n",
       "    </tr>\n",
       "  </thead>\n",
       "  <tbody>\n",
       "    <tr>\n",
       "      <th>ROBO A TRANSEUNTE EN PARQUES Y MERCADOS CON VIOLENCIA</th>\n",
       "      <td>50.0</td>\n",
       "      <td>112.0</td>\n",
       "      <td>1.240000</td>\n",
       "    </tr>\n",
       "    <tr>\n",
       "      <th>LESIONES INTENCIONALES POR ARMA BLANCA</th>\n",
       "      <td>73.0</td>\n",
       "      <td>106.0</td>\n",
       "      <td>0.452055</td>\n",
       "    </tr>\n",
       "    <tr>\n",
       "      <th>NARCOMENUDEO POSESIÓN CON FINES DE VENTA, COMERCIO Y SUMINISTRO</th>\n",
       "      <td>104.0</td>\n",
       "      <td>150.0</td>\n",
       "      <td>0.442308</td>\n",
       "    </tr>\n",
       "    <tr>\n",
       "      <th>ROBO A NEGOCIO CON VIOLENCIA</th>\n",
       "      <td>166.0</td>\n",
       "      <td>223.0</td>\n",
       "      <td>0.343373</td>\n",
       "    </tr>\n",
       "    <tr>\n",
       "      <th>CONTRA LA INTIMIDAD SEXUAL</th>\n",
       "      <td>70.0</td>\n",
       "      <td>93.0</td>\n",
       "      <td>0.328571</td>\n",
       "    </tr>\n",
       "  </tbody>\n",
       "</table>\n",
       "</div>"
      ],
      "text/plain": [
       "                                                    Oct-2020  Sep-2021  \\\n",
       "ROBO A TRANSEUNTE EN PARQUES Y MERCADOS CON VIO...      50.0     112.0   \n",
       "LESIONES INTENCIONALES POR ARMA BLANCA                  73.0     106.0   \n",
       "NARCOMENUDEO POSESIÓN CON FINES DE VENTA, COMER...     104.0     150.0   \n",
       "ROBO A NEGOCIO CON VIOLENCIA                           166.0     223.0   \n",
       "CONTRA LA INTIMIDAD SEXUAL                              70.0      93.0   \n",
       "\n",
       "                                                    Pct_Change  \n",
       "ROBO A TRANSEUNTE EN PARQUES Y MERCADOS CON VIO...    1.240000  \n",
       "LESIONES INTENCIONALES POR ARMA BLANCA                0.452055  \n",
       "NARCOMENUDEO POSESIÓN CON FINES DE VENTA, COMER...    0.442308  \n",
       "ROBO A NEGOCIO CON VIOLENCIA                          0.343373  \n",
       "CONTRA LA INTIMIDAD SEXUAL                            0.328571  "
      ]
     },
     "execution_count": 207,
     "metadata": {},
     "output_type": "execute_result"
    }
   ],
   "source": [
    "## Top 5 crime increase rate\n",
    "crime_rate.sort_values(['Pct_Change'], ascending=False).head(5)"
   ]
  },
  {
   "cell_type": "code",
   "execution_count": 212,
   "id": "836d9e67",
   "metadata": {},
   "outputs": [
    {
     "data": {
      "text/html": [
       "<div>\n",
       "<style scoped>\n",
       "    .dataframe tbody tr th:only-of-type {\n",
       "        vertical-align: middle;\n",
       "    }\n",
       "\n",
       "    .dataframe tbody tr th {\n",
       "        vertical-align: top;\n",
       "    }\n",
       "\n",
       "    .dataframe thead th {\n",
       "        text-align: right;\n",
       "    }\n",
       "</style>\n",
       "<table border=\"1\" class=\"dataframe\">\n",
       "  <thead>\n",
       "    <tr style=\"text-align: right;\">\n",
       "      <th></th>\n",
       "      <th>Oct-2020</th>\n",
       "      <th>Sep-2021</th>\n",
       "      <th>Pct_Change</th>\n",
       "    </tr>\n",
       "  </thead>\n",
       "  <tbody>\n",
       "    <tr>\n",
       "      <th>DAÑO EN PROPIEDAD AJENA INTENCIONAL</th>\n",
       "      <td>209.0</td>\n",
       "      <td>107.0</td>\n",
       "      <td>-0.488038</td>\n",
       "    </tr>\n",
       "    <tr>\n",
       "      <th>ENCUBRIMIENTO</th>\n",
       "      <td>129.0</td>\n",
       "      <td>63.0</td>\n",
       "      <td>-0.511628</td>\n",
       "    </tr>\n",
       "    <tr>\n",
       "      <th>FRAUDE</th>\n",
       "      <td>1341.0</td>\n",
       "      <td>630.0</td>\n",
       "      <td>-0.530201</td>\n",
       "    </tr>\n",
       "    <tr>\n",
       "      <th>ROBO A NEGOCIO SIN VIOLENCIA</th>\n",
       "      <td>402.0</td>\n",
       "      <td>185.0</td>\n",
       "      <td>-0.539801</td>\n",
       "    </tr>\n",
       "    <tr>\n",
       "      <th>PRODUCCIÓN, IMPRESIÓN, ENAJENACIÓN, DISTRIBUCIÓN, ALTERACIÓN O FALSIFICACIÓN DE TÍTULOS AL PORTADOR, DOCUMENTOS DE CRÉDITO PÚBLICOS O VALES DE CANJE</th>\n",
       "      <td>255.0</td>\n",
       "      <td>71.0</td>\n",
       "      <td>-0.721569</td>\n",
       "    </tr>\n",
       "  </tbody>\n",
       "</table>\n",
       "</div>"
      ],
      "text/plain": [
       "                                                    Oct-2020  Sep-2021  \\\n",
       "DAÑO EN PROPIEDAD AJENA INTENCIONAL                    209.0     107.0   \n",
       "ENCUBRIMIENTO                                          129.0      63.0   \n",
       "FRAUDE                                                1341.0     630.0   \n",
       "ROBO A NEGOCIO SIN VIOLENCIA                           402.0     185.0   \n",
       "PRODUCCIÓN, IMPRESIÓN, ENAJENACIÓN, DISTRIBUCIÓ...     255.0      71.0   \n",
       "\n",
       "                                                    Pct_Change  \n",
       "DAÑO EN PROPIEDAD AJENA INTENCIONAL                  -0.488038  \n",
       "ENCUBRIMIENTO                                        -0.511628  \n",
       "FRAUDE                                               -0.530201  \n",
       "ROBO A NEGOCIO SIN VIOLENCIA                         -0.539801  \n",
       "PRODUCCIÓN, IMPRESIÓN, ENAJENACIÓN, DISTRIBUCIÓ...   -0.721569  "
      ]
     },
     "execution_count": 212,
     "metadata": {},
     "output_type": "execute_result"
    }
   ],
   "source": [
    "## Top 5 crime decrease rate\n",
    "crime_rate.sort_values(['Pct_Change'], ascending=False).tail(5)"
   ]
  },
  {
   "cell_type": "code",
   "execution_count": null,
   "id": "f68e5c21",
   "metadata": {},
   "outputs": [],
   "source": []
  },
  {
   "cell_type": "code",
   "execution_count": 144,
   "id": "8ccef506",
   "metadata": {},
   "outputs": [
    {
     "data": {
      "text/plain": [
       "VIOLENCIA FAMILIAR                                                      18004\n",
       "ROBO DE OBJETOS                                                         14932\n",
       "ROBO A NEGOCIO SIN VIOLENCIA                                            13429\n",
       "DENUNCIA DE HECHOS                                                      11099\n",
       "FRAUDE                                                                  10778\n",
       "AMENAZAS                                                                 9939\n",
       "ROBO A TRANSEUNTE EN VIA PUBLICA CON VIOLENCIA                           6292\n",
       "ROBO A CASA HABITACION SIN VIOLENCIA                                     5751\n",
       "ROBO DE VEHICULO DE SERVICIO PARTICULAR SIN VIOLENCIA                    5638\n",
       "FALSIFICACION DE TITULOS AL PORTADOR Y DOCUMENTOS DE CREDITO PUBLICO     4577\n",
       "Name: delito, dtype: int64"
      ]
     },
     "execution_count": 144,
     "metadata": {},
     "output_type": "execute_result"
    }
   ],
   "source": [
    "FGJ_alcaldias.loc[FGJ_alcaldias.index.year == 2016].delito.value_counts().head(10)"
   ]
  },
  {
   "cell_type": "code",
   "execution_count": 126,
   "id": "5aa4c19a",
   "metadata": {},
   "outputs": [
    {
     "data": {
      "text/plain": [
       "VIOLENCIA FAMILIAR                                18486\n",
       "DENUNCIA DE HECHOS                                16438\n",
       "ROBO DE OBJETOS                                   15997\n",
       "ROBO A NEGOCIO SIN VIOLENCIA                      14858\n",
       "FRAUDE                                            11653\n",
       "AMENAZAS                                           9499\n",
       "ROBO A TRANSEUNTE DE CELULAR CON VIOLENCIA         8111\n",
       "ROBO DE OBJETOS DEL INTERIOR DE UN VEHICULO        7493\n",
       "ROBO DE ACCESORIOS DE AUTO                         7104\n",
       "ROBO A TRANSEUNTE EN VIA PUBLICA CON VIOLENCIA     7025\n",
       "Name: delito, dtype: int64"
      ]
     },
     "execution_count": 126,
     "metadata": {},
     "output_type": "execute_result"
    }
   ],
   "source": [
    "FGJ_alcaldias.loc[FGJ_alcaldias.index.year == 2017].delito.value_counts().head(10)"
   ]
  },
  {
   "cell_type": "code",
   "execution_count": 127,
   "id": "4b860d72",
   "metadata": {},
   "outputs": [
    {
     "data": {
      "text/plain": [
       "ROBO A TRANSEUNTE EN VIA PUBLICA CON VIOLENCIA                          21959\n",
       "VIOLENCIA FAMILIAR                                                      20008\n",
       "ROBO A NEGOCIO SIN VIOLENCIA                                            15986\n",
       "ROBO DE OBJETOS                                                         14290\n",
       "FRAUDE                                                                  13505\n",
       "AMENAZAS                                                                11124\n",
       "ROBO DE ACCESORIOS DE AUTO                                               8975\n",
       "ROBO DE OBJETOS DEL INTERIOR DE UN VEHICULO                              8547\n",
       "DENUNCIA DE HECHOS                                                       7585\n",
       "FALSIFICACION DE TITULOS AL PORTADOR Y DOCUMENTOS DE CREDITO PUBLICO     7202\n",
       "Name: delito, dtype: int64"
      ]
     },
     "execution_count": 127,
     "metadata": {},
     "output_type": "execute_result"
    }
   ],
   "source": [
    "FGJ_alcaldias.loc[FGJ_alcaldias.index.year == 2018].delito.value_counts().head(10)"
   ]
  },
  {
   "cell_type": "code",
   "execution_count": 128,
   "id": "f90128c7",
   "metadata": {},
   "outputs": [
    {
     "data": {
      "text/plain": [
       "VIOLENCIA FAMILIAR                                       25707\n",
       "ROBO A NEGOCIO SIN VIOLENCIA                             15753\n",
       "FRAUDE                                                   14194\n",
       "AMENAZAS                                                 13774\n",
       "ROBO A TRANSEUNTE EN VIA PUBLICA CON VIOLENCIA           13272\n",
       "ROBO DE OBJETOS                                          12480\n",
       "ROBO DE ACCESORIOS DE AUTO                                8196\n",
       "ROBO DE OBJETOS DEL INTERIOR DE UN VEHICULO               6633\n",
       "ROBO DE VEHICULO DE SERVICIO PARTICULAR SIN VIOLENCIA     6455\n",
       "ROBO A CASA HABITACION SIN VIOLENCIA                      5939\n",
       "Name: delito, dtype: int64"
      ]
     },
     "execution_count": 128,
     "metadata": {},
     "output_type": "execute_result"
    }
   ],
   "source": [
    "FGJ_alcaldias.loc[FGJ_alcaldias.index.year == 2019].delito.value_counts().head(10)"
   ]
  },
  {
   "cell_type": "code",
   "execution_count": 129,
   "id": "c1400905",
   "metadata": {},
   "outputs": [
    {
     "data": {
      "text/plain": [
       "VIOLENCIA FAMILIAR                                                     28042\n",
       "AMENAZAS                                                               14380\n",
       "FRAUDE                                                                 13391\n",
       "ROBO DE OBJETOS                                                         9102\n",
       "ROBO A TRANSEUNTE EN VIA PUBLICA CON VIOLENCIA                          8625\n",
       "ROBO DE ACCESORIOS DE AUTO                                              7405\n",
       "ROBO A NEGOCIO SIN VIOLENCIA POR FARDEROS (TIENDAS DE AUTOSERVICIO)     6161\n",
       "ROBO DE VEHICULO DE SERVICIO PARTICULAR SIN VIOLENCIA                   5109\n",
       "ROBO DE OBJETOS DEL INTERIOR DE UN VEHICULO                             4933\n",
       "ROBO A NEGOCIO SIN VIOLENCIA                                            4450\n",
       "Name: delito, dtype: int64"
      ]
     },
     "execution_count": 129,
     "metadata": {},
     "output_type": "execute_result"
    }
   ],
   "source": [
    "FGJ_alcaldias.loc[FGJ_alcaldias.index.year == 2020].delito.value_counts().head(10)"
   ]
  },
  {
   "cell_type": "code",
   "execution_count": 130,
   "id": "a88f7ff8",
   "metadata": {},
   "outputs": [
    {
     "data": {
      "text/plain": [
       "VIOLENCIA FAMILIAR                                                     24659\n",
       "AMENAZAS                                                               12016\n",
       "FRAUDE                                                                 10154\n",
       "ROBO DE OBJETOS                                                         7781\n",
       "ROBO A TRANSEUNTE EN VIA PUBLICA CON VIOLENCIA                          6423\n",
       "ROBO DE ACCESORIOS DE AUTO                                              6103\n",
       "ROBO DE OBJETOS DEL INTERIOR DE UN VEHICULO                             4322\n",
       "ROBO A NEGOCIO SIN VIOLENCIA POR FARDEROS (TIENDAS DE AUTOSERVICIO)     4069\n",
       "DESPOJO                                                                 2823\n",
       "ROBO DE VEHICULO DE SERVICIO PARTICULAR SIN VIOLENCIA                   2769\n",
       "Name: delito, dtype: int64"
      ]
     },
     "execution_count": 130,
     "metadata": {},
     "output_type": "execute_result"
    }
   ],
   "source": [
    "FGJ_alcaldias.loc[FGJ_alcaldias.index.year == 2021].delito.value_counts().head(10)"
   ]
  },
  {
   "cell_type": "code",
   "execution_count": null,
   "id": "95aba9da",
   "metadata": {},
   "outputs": [],
   "source": []
  },
  {
   "cell_type": "code",
   "execution_count": 210,
   "id": "44bc4449",
   "metadata": {},
   "outputs": [
    {
     "data": {
      "text/plain": [
       "delito               fecha_hechos\n",
       "ABANDONO DE PERSONA  2016-01-31        34\n",
       "                     2016-02-29        47\n",
       "                     2016-03-31        40\n",
       "                     2016-04-30        46\n",
       "                     2016-05-31        52\n",
       "                                     ... \n",
       "VIOLENCIA FAMILIAR   2021-05-31      3142\n",
       "                     2021-06-30      2753\n",
       "                     2021-07-31      2706\n",
       "                     2021-08-31      2577\n",
       "                     2021-09-30      2162\n",
       "Name: ao_hechos, Length: 14423, dtype: int64"
      ]
     },
     "execution_count": 210,
     "metadata": {},
     "output_type": "execute_result"
    }
   ],
   "source": [
    "FGJ_alcaldias.groupby(['delito', pd.Grouper(freq='m')]).count()['ao_hechos']"
   ]
  },
  {
   "cell_type": "code",
   "execution_count": null,
   "id": "67c57f1f",
   "metadata": {},
   "outputs": [],
   "source": []
  },
  {
   "cell_type": "code",
   "execution_count": null,
   "id": "57bf1926",
   "metadata": {},
   "outputs": [],
   "source": []
  },
  {
   "cell_type": "code",
   "execution_count": null,
   "id": "f79cbcf3",
   "metadata": {},
   "outputs": [],
   "source": []
  },
  {
   "cell_type": "code",
   "execution_count": null,
   "id": "125d70ed",
   "metadata": {},
   "outputs": [],
   "source": []
  },
  {
   "cell_type": "code",
   "execution_count": null,
   "id": "4bc33a35",
   "metadata": {},
   "outputs": [],
   "source": []
  },
  {
   "cell_type": "code",
   "execution_count": null,
   "id": "8e9e730f",
   "metadata": {},
   "outputs": [],
   "source": []
  },
  {
   "cell_type": "code",
   "execution_count": null,
   "id": "ece6fc4a",
   "metadata": {},
   "outputs": [],
   "source": []
  }
 ],
 "metadata": {
  "kernelspec": {
   "display_name": "Python 3",
   "language": "python",
   "name": "python3"
  },
  "language_info": {
   "codemirror_mode": {
    "name": "ipython",
    "version": 3
   },
   "file_extension": ".py",
   "mimetype": "text/x-python",
   "name": "python",
   "nbconvert_exporter": "python",
   "pygments_lexer": "ipython3",
   "version": "3.8.8"
  }
 },
 "nbformat": 4,
 "nbformat_minor": 5
}
